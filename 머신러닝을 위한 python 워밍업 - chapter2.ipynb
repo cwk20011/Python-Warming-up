{
 "cells": [
  {
   "cell_type": "code",
   "execution_count": 1,
   "metadata": {},
   "outputs": [
    {
     "data": {
      "text/plain": [
       "True"
      ]
     },
     "execution_count": 1,
     "metadata": {},
     "output_type": "execute_result"
    }
   ],
   "source": [
    "# Chapter 2 - Assignment _ Basic Linear Algebra\n",
    "# 벡터사이즈 체크\n",
    "def vector_size_check(*vector_variables): # * 하여서 튜플타입으로 가져오게 됨\n",
    "    return all(len(vector_variables[0]) == x #처음 len 을 통해 3이라는 숫자를 가져오게됨\n",
    "               for x in [len(vector) for vector in vector_variables[1:]]) # [3,3] 리스트를 만들고 x의 처음 값으로 3을 가져오게됨\n",
    "                    #all() 은 리스트 값을 받아서 안에 있는 값이 모두 TRUE 일때 TRUE 값을 반환 하나라도 FALSE 이면 FALSE 를 반환(and 조건)\n",
    "vector_size_check([1,2,3],[2,3,4],[5,6,7])"
   ]
  },
  {
   "cell_type": "code",
   "execution_count": 9,
   "metadata": {},
   "outputs": [
    {
     "ename": "ArithmeticError",
     "evalue": "",
     "output_type": "error",
     "traceback": [
      "\u001b[1;31m---------------------------------------------------------------------------\u001b[0m",
      "\u001b[1;31mArithmeticError\u001b[0m                           Traceback (most recent call last)",
      "\u001b[1;32m<ipython-input-9-1cd214aff263>\u001b[0m in \u001b[0;36m<module>\u001b[1;34m()\u001b[0m\n\u001b[0;32m      5\u001b[0m     \u001b[1;32mreturn\u001b[0m \u001b[1;33m[\u001b[0m\u001b[0msum\u001b[0m\u001b[1;33m(\u001b[0m\u001b[0melements\u001b[0m\u001b[1;33m)\u001b[0m \u001b[1;32mfor\u001b[0m \u001b[0melements\u001b[0m \u001b[1;32min\u001b[0m \u001b[0mzip\u001b[0m\u001b[1;33m(\u001b[0m\u001b[1;33m*\u001b[0m\u001b[0mvector_variables\u001b[0m\u001b[1;33m)\u001b[0m\u001b[1;33m]\u001b[0m\u001b[1;33m\u001b[0m\u001b[0m\n\u001b[0;32m      6\u001b[0m \u001b[1;33m\u001b[0m\u001b[0m\n\u001b[1;32m----> 7\u001b[1;33m \u001b[0mprint\u001b[0m\u001b[1;33m(\u001b[0m\u001b[0mvector_addition\u001b[0m\u001b[1;33m(\u001b[0m\u001b[1;33m[\u001b[0m\u001b[1;36m1\u001b[0m\u001b[1;33m,\u001b[0m\u001b[1;36m3\u001b[0m\u001b[1;33m,\u001b[0m\u001b[1;36m4\u001b[0m\u001b[1;33m]\u001b[0m\u001b[1;33m,\u001b[0m\u001b[1;33m[\u001b[0m\u001b[1;36m4\u001b[0m\u001b[1;33m]\u001b[0m\u001b[1;33m,\u001b[0m\u001b[1;33m[\u001b[0m\u001b[1;36m6\u001b[0m\u001b[1;33m,\u001b[0m\u001b[1;36m7\u001b[0m\u001b[1;33m]\u001b[0m\u001b[1;33m)\u001b[0m\u001b[1;33m)\u001b[0m\u001b[1;33m\u001b[0m\u001b[0m\n\u001b[0m",
      "\u001b[1;32m<ipython-input-9-1cd214aff263>\u001b[0m in \u001b[0;36mvector_addition\u001b[1;34m(*vector_variables)\u001b[0m\n\u001b[0;32m      2\u001b[0m \u001b[1;32mdef\u001b[0m \u001b[0mvector_addition\u001b[0m\u001b[1;33m(\u001b[0m\u001b[1;33m*\u001b[0m\u001b[0mvector_variables\u001b[0m\u001b[1;33m)\u001b[0m\u001b[1;33m:\u001b[0m\u001b[1;33m\u001b[0m\u001b[0m\n\u001b[0;32m      3\u001b[0m     \u001b[1;32mif\u001b[0m \u001b[0mvector_size_check\u001b[0m\u001b[1;33m(\u001b[0m\u001b[1;33m*\u001b[0m\u001b[0mvector_variables\u001b[0m\u001b[1;33m)\u001b[0m \u001b[1;33m==\u001b[0m \u001b[1;32mFalse\u001b[0m \u001b[1;33m:\u001b[0m\u001b[1;33m\u001b[0m\u001b[0m\n\u001b[1;32m----> 4\u001b[1;33m         \u001b[1;32mraise\u001b[0m \u001b[0mArithmeticError\u001b[0m\u001b[1;33m\u001b[0m\u001b[0m\n\u001b[0m\u001b[0;32m      5\u001b[0m     \u001b[1;32mreturn\u001b[0m \u001b[1;33m[\u001b[0m\u001b[0msum\u001b[0m\u001b[1;33m(\u001b[0m\u001b[0melements\u001b[0m\u001b[1;33m)\u001b[0m \u001b[1;32mfor\u001b[0m \u001b[0melements\u001b[0m \u001b[1;32min\u001b[0m \u001b[0mzip\u001b[0m\u001b[1;33m(\u001b[0m\u001b[1;33m*\u001b[0m\u001b[0mvector_variables\u001b[0m\u001b[1;33m)\u001b[0m\u001b[1;33m]\u001b[0m\u001b[1;33m\u001b[0m\u001b[0m\n\u001b[0;32m      6\u001b[0m \u001b[1;33m\u001b[0m\u001b[0m\n",
      "\u001b[1;31mArithmeticError\u001b[0m: "
     ]
    }
   ],
   "source": [
    "# 벡터 더하기\n",
    "def vector_addition(*vector_variables):\n",
    "    if vector_size_check(*vector_variables) == False :\n",
    "        raise ArithmeticError\n",
    "    return [sum(elements) for elements in zip(*vector_variables)]\n",
    "\n",
    "print(vector_addition([1,3,4],[4],[6,7])) #에러 발생"
   ]
  },
  {
   "cell_type": "code",
   "execution_count": 10,
   "metadata": {},
   "outputs": [
    {
     "name": "stdout",
     "output_type": "stream",
     "text": [
      "[9, 14]\n",
      "[15, 16]\n"
     ]
    }
   ],
   "source": [
    "print(vector_addition([1,3],[2,4],[6,7]))\n",
    "print(vector_addition([1,5],[10,4],[4,7]))"
   ]
  },
  {
   "cell_type": "code",
   "execution_count": 11,
   "metadata": {},
   "outputs": [
    {
     "name": "stdout",
     "output_type": "stream",
     "text": [
      "[-7, -8]\n",
      "[-13, -6]\n"
     ]
    }
   ],
   "source": [
    "# 벡터 빼기\n",
    "def vector_subtraction(*vector_variables):\n",
    "    if vector_size_check(*vector_variables) == False :\n",
    "        raise ArithmeticError\n",
    "    return [elements[0]*2-sum(elements) # 하나 더하고 하나 빼주는 개념 \n",
    "           for elements in zip(*vector_variables)] \n",
    "print(vector_subtraction([1,3],[2,4],[6,7]))\n",
    "print(vector_subtraction([1,5],[10,4],[4,7]))"
   ]
  },
  {
   "cell_type": "code",
   "execution_count": 12,
   "metadata": {},
   "outputs": [
    {
     "name": "stdout",
     "output_type": "stream",
     "text": [
      "[5, 10, 15]\n"
     ]
    }
   ],
   "source": [
    "# Scalar Size Check\n",
    "def scalar_vector_product(alpha,vector_variable):\n",
    "    return [alpha*element for element in vector_variable]\n",
    "print(scalar_vector_product(5,[1,2,3]))"
   ]
  },
  {
   "cell_type": "code",
   "execution_count": 31,
   "metadata": {},
   "outputs": [],
   "source": [
    "# Metrix Size Check\n",
    "def matrix_size_check(*matrix_variables): #행을 먼저 비교 \n",
    "    return all([len(set(len(matrix[0]) for matrix in matrix_variables)) == 1 ]) and all([len(matrix_variables[0]) == len(matrix) for matrix in matrix_variables]) #컬럼 개수를 비교 len(matrix) 첫번째 값은 3이나옴"
   ]
  },
  {
   "cell_type": "code",
   "execution_count": 32,
   "metadata": {},
   "outputs": [],
   "source": [
    "matrix_x = [[2,2],[2,2],[2,2]]\n",
    "matrix_y = [[2,5],[2,1]]\n",
    "matrix_z = [[2,4],[5,3]]\n",
    "matrix_w = [[2,5],[1,1],[2,2]]"
   ]
  },
  {
   "cell_type": "code",
   "execution_count": 33,
   "metadata": {},
   "outputs": [
    {
     "name": "stdout",
     "output_type": "stream",
     "text": [
      "False\n"
     ]
    }
   ],
   "source": [
    "print(matrix_size_check(matrix_x, matrix_y, matrix_z))"
   ]
  },
  {
   "cell_type": "code",
   "execution_count": 37,
   "metadata": {},
   "outputs": [],
   "source": [
    "# matrix 가 같은 값을 같고 있는지 확인 ( is matrix equal)\n",
    "def is_matrix_equal(*matrix_variables):\n",
    "    #print([matrix for matrix in zip(*matrix_variables)])\n",
    "    return all([all([len(set(row)) == 1 for row in zip(*matrix)])  #[2,2] 에서 첫번째 2 와 [2,5]에서 2가 합쳐짐\n",
    "               for matrix in zip(*matrix_variables)])  #[2,2] 와 [2,5] 가 처음 뽑힘\n",
    "                # all 이 2개인 이유는 첫번재 all 을 통해 2개(column의 개수)의 True or False 값이 나와서 이것을 다시 all True 인지 보기 위함\n",
    "matrix_x = [[2,2],[2,2]]\n",
    "matrix_y= [[2,5],[2,1]]"
   ]
  },
  {
   "cell_type": "code",
   "execution_count": 38,
   "metadata": {},
   "outputs": [
    {
     "data": {
      "text/plain": [
       "False"
      ]
     },
     "execution_count": 38,
     "metadata": {},
     "output_type": "execute_result"
    }
   ],
   "source": [
    "is_matrix_equal(matrix_x,matrix_y)"
   ]
  },
  {
   "cell_type": "code",
   "execution_count": 39,
   "metadata": {},
   "outputs": [],
   "source": [
    "# Matrix addition\n",
    "def matrix_addition(*matrix_variables):\n",
    "    if matrix_size_check(*matrix_variables) == False:\n",
    "        raise ArithmeticError\n",
    "    return [[sum(row) for row in zip(*matrix)] for matrix in zip(*matrix_variables)]\n"
   ]
  },
  {
   "cell_type": "code",
   "execution_count": 40,
   "metadata": {},
   "outputs": [],
   "source": [
    "# Matrix subtraction \n",
    "def matrix_subtraction(*matrix_variables):\n",
    "    if matirx_size_check(*matrix_variables) == False:\n",
    "        raise ArithmeticError\n",
    "    return [[row[0]*2 - sum(row) for row in zip(*matrix)] for matirx in zip(*matrix_variables)]\n"
   ]
  },
  {
   "cell_type": "code",
   "execution_count": 41,
   "metadata": {},
   "outputs": [
    {
     "name": "stdout",
     "output_type": "stream",
     "text": [
      "[[2, 1, 2], [5, 1, 2]]\n"
     ]
    }
   ],
   "source": [
    "# Matrix Transpose\n",
    "def matrix_transpose(matrix_variable):\n",
    "    return[ [element for element in row] for row in zip(*matrix_variable)]\n",
    "matrix_w = [[2,5],[1,1],[2,2]]\n",
    "print(matrix_transpose(matrix_w))"
   ]
  },
  {
   "cell_type": "code",
   "execution_count": null,
   "metadata": {},
   "outputs": [],
   "source": [
    "# scalar matrix product\n",
    "def scalar_matrix_product(alpha,matrix_variable):\n",
    "    return [ scalar_vector_product(alpha,row) for row in matrix_variable]"
   ]
  },
  {
   "cell_type": "code",
   "execution_count": 48,
   "metadata": {},
   "outputs": [
    {
     "data": {
      "text/plain": [
       "False"
      ]
     },
     "execution_count": 48,
     "metadata": {},
     "output_type": "execute_result"
    }
   ],
   "source": [
    "# product_availablity_matirx\n",
    "def is_product_availability_matrix(matrix_a, matrix_b):\n",
    "    return len([column_vector for column_vector in zip(*matrix_a)]) == len(matrix_b) #두번째 매트릭스의 행과 첫번째 매트릭스의 열의 수가 같은지 비교\n",
    "matrix_x =[[1,2],[2,2],[3,2]]\n",
    "matrix_y =[[1,2,3],[2,3,4],[4,5,6]]\n",
    "is_product_availability_matrix(matrix_x,matrix_y)"
   ]
  },
  {
   "cell_type": "code",
   "execution_count": 50,
   "metadata": {},
   "outputs": [
    {
     "name": "stdout",
     "output_type": "stream",
     "text": [
      "[[12, 7, 9], [3, 2, 3]]\n"
     ]
    }
   ],
   "source": [
    "# Matrix Product\n",
    "def matrix_product(matrix_a,matrix_b):\n",
    "    return [ [sum(a*b for a,b in zip(row_a,column_b))\n",
    "             for column_b in zip(*matrix_b)]\n",
    "           for row_a in matrix_a]\n",
    "matrix_x=[[2,5],[1,1]]\n",
    "matrix_y=[[1,1,2],[2,1,1]]\n",
    "print(matrix_product(matrix_x,matrix_y))"
   ]
  },
  {
   "cell_type": "code",
   "execution_count": 59,
   "metadata": {},
   "outputs": [
    {
     "name": "stdout",
     "output_type": "stream",
     "text": [
      "52.0\n",
      "-21.0\n"
     ]
    }
   ],
   "source": [
    "# Assignment_ Insert Operation (연산자 끼워넣기)\n",
    "import itertools\n",
    "from functools import reduce\n",
    "import sys\n",
    "import time\n",
    "\n",
    "def insert_operation(length, input_num, input_oper):\n",
    "    \n",
    "    ops = {\"0\": (lambda x,y: x+y), \"1\": (lambda x,y : x-y), \"2\":(lambda x,y: x*y), \"3\": (lambda x,y : x/y)} # Value 값을 lambda 로 설정\n",
    "    oper_permutation=[]\n",
    "    result=[]\n",
    "    list(oper_permutation.extend(\n",
    "        [str(index)]*value) for index,value in enumerate(input_oper) if value >0) # [\"0\"] [\"0\"] [\"1\"] [\"2\"] [\"3\"] 연산자를 몇번 실행하는 지 우리가 모르기 때문에 몇번수행인지 알아봐야함\n",
    "    \n",
    "    permutation = [list(x) for x in set(itertools.permutations(oper_permutation))] #모든 연산의 경우의수를 만들어냄 \n",
    "    #print(permutation)\n",
    "    \n",
    "    for i in permutation: #reduce 를 사용해서 리스트 하나의 계산을 전부 가능하게끔 함 \n",
    "        result.append(reduce(lambda x,y :ops[i.pop()](x,y), input_num)) # x,y 는 input_num = numbers에서 가져오게 되고 1,2 를 말함 \n",
    "        #pop()은 리스트의 맨 마지막 요소를 돌려 주고 그 요소는 삭제하는 함수이다.\n",
    "    \n",
    "    print(str(max(result)) + \"\\n\"+ str(min(result))) #연산의 최대값과 최소값 출력\n",
    "    \n",
    "n = 6\n",
    "numbers = [1,2,3,4,5,6]\n",
    "arithmetics = [2,1,1,1]\n",
    "insert_operation(n,numbers,arithmetics)"
   ]
  },
  {
   "cell_type": "code",
   "execution_count": null,
   "metadata": {},
   "outputs": [],
   "source": []
  }
 ],
 "metadata": {
  "kernelspec": {
   "display_name": "Python 3",
   "language": "python",
   "name": "python3"
  },
  "language_info": {
   "codemirror_mode": {
    "name": "ipython",
    "version": 3
   },
   "file_extension": ".py",
   "mimetype": "text/x-python",
   "name": "python",
   "nbconvert_exporter": "python",
   "pygments_lexer": "ipython3",
   "version": "3.6.5"
  }
 },
 "nbformat": 4,
 "nbformat_minor": 2
}
