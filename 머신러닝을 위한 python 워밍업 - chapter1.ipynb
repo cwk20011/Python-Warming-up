{
 "cells": [
  {
   "cell_type": "code",
   "execution_count": 10,
   "metadata": {},
   "outputs": [
    {
     "name": "stdout",
     "output_type": "stream",
     "text": [
      "redbluegreenyellow\n"
     ]
    }
   ],
   "source": [
    "#1.OVERVIEW \n",
    "#파이썬은 for loop 보다 list 형태를 변형하는게 더 간지남\n",
    "\n",
    "colors = [\"red\",\"blue\",\"green\",\"yellow\"]\n",
    "result =\"\"\n",
    "for s in colors :\n",
    "    result += s\n",
    "\n",
    "print(result)"
   ]
  },
  {
   "cell_type": "code",
   "execution_count": 2,
   "metadata": {},
   "outputs": [
    {
     "name": "stdout",
     "output_type": "stream",
     "text": [
      "['zero', 'one', 'two', 'three']\n"
     ]
    },
    {
     "data": {
      "text/plain": [
       "['python', 'jquery', 'javascript']"
      ]
     },
     "execution_count": 2,
     "metadata": {},
     "output_type": "execute_result"
    }
   ],
   "source": [
    "# 2.split & join\n",
    "#Split - string 값을 리스트 형태로 바꾸는 형태\n",
    "#빈칸을 기준으로 나누기 \n",
    "#뉴스데이터에서 많이 씀\n",
    "\n",
    "items = 'zero one two three'.split()\n",
    "print(items)\n",
    "\n",
    "# , 를 기준으로 나누기\n",
    "example = 'python,jquery,javascript'\n",
    "example.split(\",\")"
   ]
  },
  {
   "cell_type": "code",
   "execution_count": 19,
   "metadata": {},
   "outputs": [
    {
     "name": "stdout",
     "output_type": "stream",
     "text": [
      "python jquery javascript\n"
     ]
    }
   ],
   "source": [
    "# Unpacking 기법 - list 안에 값을 각 변수에 매핑\n",
    "a,b,c = example.split(\",\")\n",
    "print(a,b,c)"
   ]
  },
  {
   "cell_type": "code",
   "execution_count": 22,
   "metadata": {},
   "outputs": [
    {
     "name": "stdout",
     "output_type": "stream",
     "text": [
      "cs50 gachon edu\n"
     ]
    }
   ],
   "source": [
    "example='cs50.gachon.edu'\n",
    "subdomain,domain,tld = example.split('.')\n",
    "print(subdomain,domain,tld)"
   ]
  },
  {
   "cell_type": "code",
   "execution_count": 3,
   "metadata": {},
   "outputs": [
    {
     "name": "stdout",
     "output_type": "stream",
     "text": [
      "redbluegreenyellow\n"
     ]
    }
   ],
   "source": [
    "#Join - list로 string을 하나로 합치는 것\n",
    "colors = [\"red\", \"blue\", \"green\", \"yellow\"]\n",
    "result = \"\".join(colors)\n",
    "\n",
    "print(result)"
   ]
  },
  {
   "cell_type": "code",
   "execution_count": 4,
   "metadata": {},
   "outputs": [
    {
     "name": "stdout",
     "output_type": "stream",
     "text": [
      "red blue green yellow\n"
     ]
    }
   ],
   "source": [
    "# \" \" - 공백을 기준으로 합치기\n",
    "colors = [\"red\", \"blue\", \"green\", \"yellow\"]\n",
    "result = \" \".join(colors)\n",
    "\n",
    "print(result)"
   ]
  },
  {
   "cell_type": "code",
   "execution_count": 24,
   "metadata": {},
   "outputs": [
    {
     "name": "stdout",
     "output_type": "stream",
     "text": [
      "red, blue, green, yellow\n"
     ]
    }
   ],
   "source": [
    "# \", \" - ,와 공백을 기준으로 합치기\n",
    "colors = [\"red\", \"blue\", \"green\", \"yellow\"]\n",
    "result = \", \".join(colors)\n",
    "\n",
    "print(result)"
   ]
  },
  {
   "cell_type": "code",
   "execution_count": 25,
   "metadata": {},
   "outputs": [
    {
     "name": "stdout",
     "output_type": "stream",
     "text": [
      "red-blue-green-yellow\n"
     ]
    }
   ],
   "source": [
    "# \"-\" - 공백을 기준으로 합치기\n",
    "colors = [\"red\", \"blue\", \"green\", \"yellow\"]\n",
    "result = \"-\".join(colors)\n",
    "\n",
    "print(result)"
   ]
  },
  {
   "cell_type": "code",
   "execution_count": 27,
   "metadata": {},
   "outputs": [
    {
     "data": {
      "text/plain": [
       "[0, 1, 2, 3, 4, 5, 6, 7, 8, 9]"
      ]
     },
     "execution_count": 27,
     "metadata": {},
     "output_type": "execute_result"
    }
   ],
   "source": [
    "# 3. List Comprehension\n",
    "#List Comprehension - list를 사용해 간단히 다른 list를 만드는 방법\n",
    "#for + append 보다 속도가 빠름\n",
    "\n",
    "#append 형식\n",
    "result=[]\n",
    "for i in range(10):\n",
    "    result.append(i)\n",
    "result"
   ]
  },
  {
   "cell_type": "code",
   "execution_count": 28,
   "metadata": {},
   "outputs": [
    {
     "data": {
      "text/plain": [
       "[0, 1, 2, 3, 4, 5, 6, 7, 8, 9]"
      ]
     },
     "execution_count": 28,
     "metadata": {},
     "output_type": "execute_result"
    }
   ],
   "source": [
    "#list comprehensions\n",
    "result = [i for i in range(10)]\n",
    "result"
   ]
  },
  {
   "cell_type": "code",
   "execution_count": 29,
   "metadata": {},
   "outputs": [
    {
     "data": {
      "text/plain": [
       "[0, 2, 4, 6, 8]"
      ]
     },
     "execution_count": 29,
     "metadata": {},
     "output_type": "execute_result"
    }
   ],
   "source": [
    "#List comprehensions 에서 filter 사용법\n",
    "result = [i for i in range(10) if i%2 ==0]\n",
    "result"
   ]
  },
  {
   "cell_type": "code",
   "execution_count": 30,
   "metadata": {},
   "outputs": [
    {
     "data": {
      "text/plain": [
       "['HW',\n",
       " 'Ho',\n",
       " 'Hr',\n",
       " 'Hl',\n",
       " 'Hd',\n",
       " 'eW',\n",
       " 'eo',\n",
       " 'er',\n",
       " 'el',\n",
       " 'ed',\n",
       " 'lW',\n",
       " 'lo',\n",
       " 'lr',\n",
       " 'll',\n",
       " 'ld',\n",
       " 'lW',\n",
       " 'lo',\n",
       " 'lr',\n",
       " 'll',\n",
       " 'ld',\n",
       " 'oW',\n",
       " 'oo',\n",
       " 'or',\n",
       " 'ol',\n",
       " 'od']"
      ]
     },
     "execution_count": 30,
     "metadata": {},
     "output_type": "execute_result"
    }
   ],
   "source": [
    "word_1 = \"Hello\"\n",
    "word_2 = \"World\"\n",
    "result = [i+j for i in word_1 for j in word_2] #Nested For Loop\n",
    "result #결과 값이 1 dimension 에 할당됨. 나중에 multi dimension 으로 하고 싶은경우에는 대괄호를 한번 더 쳐야됨\n",
    "#[[i+j for i in word_1] for j in word_2]"
   ]
  },
  {
   "cell_type": "code",
   "execution_count": 31,
   "metadata": {},
   "outputs": [
    {
     "data": {
      "text/plain": [
       "[['HW', 'eW', 'lW', 'lW', 'oW'],\n",
       " ['Ho', 'eo', 'lo', 'lo', 'oo'],\n",
       " ['Hr', 'er', 'lr', 'lr', 'or'],\n",
       " ['Hl', 'el', 'll', 'll', 'ol'],\n",
       " ['Hd', 'ed', 'ld', 'ld', 'od']]"
      ]
     },
     "execution_count": 31,
     "metadata": {},
     "output_type": "execute_result"
    }
   ],
   "source": [
    "#multi dimension 으로 진행해봄\n",
    "word_1 = \"Hello\"\n",
    "word_2 = \"World\"\n",
    "result = [[i+j for i in word_1] for j in word_2] #바깥 for 문이 고정이 되서 for 문이 돌게됨\n",
    "result"
   ]
  },
  {
   "cell_type": "code",
   "execution_count": 32,
   "metadata": {},
   "outputs": [
    {
     "name": "stdout",
     "output_type": "stream",
     "text": [
      "['AD', 'AE', 'AA', 'BD', 'BE', 'BA', 'CD', 'CE', 'CA']\n"
     ]
    }
   ],
   "source": [
    "case_1 = [\"A\", \"B\", \"C\"]\n",
    "case_2 = [\"D\", \"E\", \"A\"]\n",
    "\n",
    "result = [i+j for i in case_1 for j in case_2]\n",
    "print(result)"
   ]
  },
  {
   "cell_type": "code",
   "execution_count": 33,
   "metadata": {},
   "outputs": [
    {
     "name": "stdout",
     "output_type": "stream",
     "text": [
      "['AD', 'AE', 'BA', 'BD', 'BE', 'CA', 'CD', 'CE']\n"
     ]
    }
   ],
   "source": [
    "# if 문 추가 , sorting\n",
    "result = [i+j for i in case_1 for j in case_2 if not(i==j)]\n",
    "result.sort()\n",
    "\n",
    "print(result)"
   ]
  },
  {
   "cell_type": "code",
   "execution_count": 40,
   "metadata": {},
   "outputs": [
    {
     "name": "stdout",
     "output_type": "stream",
     "text": [
      "['The', 'quick', 'brown', 'fox', 'jumps', 'over', 'the', 'lazy', 'dog']\n",
      "['THE', 'the', 3]\n",
      "['QUICK', 'quick', 5]\n",
      "['BROWN', 'brown', 5]\n",
      "['FOX', 'fox', 3]\n",
      "['JUMPS', 'jumps', 5]\n",
      "['OVER', 'over', 4]\n",
      "['THE', 'the', 3]\n",
      "['LAZY', 'lazy', 4]\n",
      "['DOG', 'dog', 3]\n"
     ]
    }
   ],
   "source": [
    "#split + list Comprehension\n",
    "words = 'The quick brown fox jumps over the lazy dog'.split()\n",
    "print(words)\n",
    "stuff=[[w.upper(),w.lower(),len(w)]for w in words] #리스트 형태를 내가 완성시키는걸 알 수 있음\n",
    "for i in stuff :\n",
    "    print(i)"
   ]
  },
  {
   "cell_type": "code",
   "execution_count": 44,
   "metadata": {},
   "outputs": [
    {
     "name": "stdout",
     "output_type": "stream",
     "text": [
      "0 tic\n",
      "1 tac\n",
      "2 toc\n"
     ]
    }
   ],
   "source": [
    "# 4. Enumerate & Zip\n",
    "# Enumerate 란 List 의 Element 를 추출할 때 번호를 붙여서 추출\n",
    "for i,v in enumerate(['tic','tac','toc']):\n",
    "    print(i,v) #list에 있는 index와 값을 unpacking"
   ]
  },
  {
   "cell_type": "code",
   "execution_count": 43,
   "metadata": {},
   "outputs": [
    {
     "data": {
      "text/plain": [
       "[(0, 'a'), (1, 'b'), (2, 'c'), (3, 'd')]"
      ]
     },
     "execution_count": 43,
     "metadata": {},
     "output_type": "execute_result"
    }
   ],
   "source": [
    "#list에 있는 index와 값을 unpacking 하여 list로 저장\n",
    "mylist = [\"a\",\"b\",\"c\",\"d\"]\n",
    "list(enumerate(mylist)) "
   ]
  },
  {
   "cell_type": "code",
   "execution_count": 45,
   "metadata": {},
   "outputs": [
    {
     "data": {
      "text/plain": [
       "{0: 'Gachon',\n",
       " 1: 'University',\n",
       " 2: 'is',\n",
       " 3: 'an',\n",
       " 4: 'academic',\n",
       " 5: 'institute',\n",
       " 6: 'located',\n",
       " 7: 'in',\n",
       " 8: 'South',\n",
       " 9: 'Korea.'}"
      ]
     },
     "execution_count": 45,
     "metadata": {},
     "output_type": "execute_result"
    }
   ],
   "source": [
    "{i:j for i,j in enumerate('Gachon University is an academic institute located in South Korea.'.split())}\n",
    "#문장을 list로 만들고 list의 index와 값을 unpacking 해 dict로 저장"
   ]
  },
  {
   "cell_type": "code",
   "execution_count": 7,
   "metadata": {},
   "outputs": [
    {
     "name": "stdout",
     "output_type": "stream",
     "text": [
      "a1 b1\n",
      "a2 b2\n",
      "a3 b3\n"
     ]
    }
   ],
   "source": [
    "# Zip 이란 두개의 list의 값을 병렬적으로 추출함\n",
    "alist = ['a1','a2','a3']\n",
    "blist = ['b1','b2','b3']\n",
    "for a,b in zip(alist,blist):\n",
    "    print(a,b) #병렬적으로 값을 추출"
   ]
  },
  {
   "cell_type": "code",
   "execution_count": 48,
   "metadata": {},
   "outputs": [
    {
     "name": "stdout",
     "output_type": "stream",
     "text": [
      "(1, 10, 100) (2, 20, 200) (3, 30, 300)\n"
     ]
    }
   ],
   "source": [
    "#각 Tuple의 같은 index 끼리 묶음\n",
    "a,b,c = zip ((1,2,3),(10,20,30),(100,200,300))\n",
    "print(a,b,c)"
   ]
  },
  {
   "cell_type": "code",
   "execution_count": 9,
   "metadata": {},
   "outputs": [
    {
     "data": {
      "text/plain": [
       "[111, 222, 333]"
      ]
     },
     "execution_count": 9,
     "metadata": {},
     "output_type": "execute_result"
    }
   ],
   "source": [
    "#각 Tuple 같은 index를 묶어 합을 list로 변환\n",
    "[sum(x) for x in zip((1,2,3),(10,20,30),(100,200,300))]\n",
    "#[x for x in zip((1,2,3),(10,20,30),(100,200,300))] "
   ]
  },
  {
   "cell_type": "code",
   "execution_count": 10,
   "metadata": {},
   "outputs": [
    {
     "name": "stdout",
     "output_type": "stream",
     "text": [
      "0 a1 b1\n",
      "1 a2 b2\n",
      "2 a3 b3\n"
     ]
    }
   ],
   "source": [
    "alist = ['a1','a2','a3']\n",
    "blist = ['b1','b2','b3']\n",
    "\n",
    "for i,(a,b) in enumerate(zip(alist,blist)):\n",
    "    print(i,a,b) #index alist[index] blist[index] 표시"
   ]
  },
  {
   "cell_type": "code",
   "execution_count": 58,
   "metadata": {},
   "outputs": [
    {
     "name": "stdout",
     "output_type": "stream",
     "text": [
      "5\n"
     ]
    }
   ],
   "source": [
    "# 5. Lambda & MapReduce\n",
    "#Lambda - 익명함수 (함수 이름 없이 함수처럼 쓸수 있는 익명함수)\n",
    "def f(x,y):\n",
    "    return x+y\n",
    "print(f(1,4))"
   ]
  },
  {
   "cell_type": "code",
   "execution_count": 59,
   "metadata": {},
   "outputs": [
    {
     "name": "stdout",
     "output_type": "stream",
     "text": [
      "5\n"
     ]
    }
   ],
   "source": [
    "f = lambda x,y: x+y\n",
    "print(f(1,4))"
   ]
  },
  {
   "cell_type": "code",
   "execution_count": 60,
   "metadata": {},
   "outputs": [
    {
     "name": "stdout",
     "output_type": "stream",
     "text": [
      "9\n"
     ]
    }
   ],
   "source": [
    "f = lambda x : x**2\n",
    "print(f(3))"
   ]
  },
  {
   "cell_type": "code",
   "execution_count": 61,
   "metadata": {},
   "outputs": [
    {
     "name": "stdout",
     "output_type": "stream",
     "text": [
      "6\n"
     ]
    }
   ],
   "source": [
    "print((lambda x: x+1)(5)) #바로 실행도 가능 ★"
   ]
  },
  {
   "cell_type": "code",
   "execution_count": 62,
   "metadata": {},
   "outputs": [
    {
     "name": "stdout",
     "output_type": "stream",
     "text": [
      "[1, 4, 9, 16, 25]\n"
     ]
    }
   ],
   "source": [
    "# MAP & Reduce\n",
    "# MAP function - Sequence 자료형 (리스트,튜플) 각 element에 동일한 Function을 적용함\n",
    "#map(function,list_name)\n",
    "ex = [1,2,3,4,5]\n",
    "f = lambda x: x **2\n",
    "print(list(map(f,ex))) #map 앞에 list 써줘야지만 출력 가능"
   ]
  },
  {
   "cell_type": "code",
   "execution_count": 64,
   "metadata": {},
   "outputs": [
    {
     "name": "stdout",
     "output_type": "stream",
     "text": [
      "[2, 4, 6, 8, 10]\n"
     ]
    }
   ],
   "source": [
    "ex = [1,2,3,4,5]\n",
    "f = lambda x,y: x + y\n",
    "print(list(map(f,ex,ex)))  #zip을 굳이 안써줘도 두개연산 형태로도 가능 "
   ]
  },
  {
   "cell_type": "code",
   "execution_count": 65,
   "metadata": {},
   "outputs": [
    {
     "data": {
      "text/plain": [
       "[1, 4, 3, 16, 5]"
      ]
     },
     "execution_count": 65,
     "metadata": {},
     "output_type": "execute_result"
    }
   ],
   "source": [
    "ex = [1,2,3,4,5]\n",
    "list(map(\n",
    "        lambda x : x**2 if x % 2 == 0 else x,\n",
    "            ex)) #map 함수도 filter를 사용할 수 있지만 반드시 else 값을 써줘야함 ★ #lambda는 else 값 쓰지 않음"
   ]
  },
  {
   "cell_type": "code",
   "execution_count": 11,
   "metadata": {},
   "outputs": [
    {
     "data": {
      "text/plain": [
       "[4, 16]"
      ]
     },
     "execution_count": 11,
     "metadata": {},
     "output_type": "execute_result"
    }
   ],
   "source": [
    "[value ** 2 for value in ex]\n",
    "#[value ** 2 for value in ex if value % 2 ==0]  "
   ]
  },
  {
   "cell_type": "code",
   "execution_count": 1,
   "metadata": {},
   "outputs": [
    {
     "name": "stdout",
     "output_type": "stream",
     "text": [
      "[1, 4, 9, 16, 25]\n"
     ]
    }
   ],
   "source": [
    "ex = [1,2,3,4,5]\n",
    "f = lambda x : x **2 \n",
    "print(list(map(f,ex)))"
   ]
  },
  {
   "cell_type": "code",
   "execution_count": 85,
   "metadata": {},
   "outputs": [
    {
     "name": "stdout",
     "output_type": "stream",
     "text": [
      "1\n",
      "4\n",
      "9\n",
      "16\n",
      "25\n"
     ]
    }
   ],
   "source": [
    "for i in map(f,ex):\n",
    "    print(i)"
   ]
  },
  {
   "cell_type": "code",
   "execution_count": 86,
   "metadata": {},
   "outputs": [
    {
     "name": "stdout",
     "output_type": "stream",
     "text": [
      "15\n"
     ]
    }
   ],
   "source": [
    "# Reduce Function - Map Function 과 달리 List에 하나에 함수를 통째로 적용해서 통합\n",
    "from functools import reduce\n",
    "print(reduce(lambda x,y : x+y ,[1,2,3,4,5])) #elements 하나하나에 함수를 동일 적용 하는게 아니라 함수하나를 리스트 자체에다가 적용"
   ]
  },
  {
   "cell_type": "code",
   "execution_count": 96,
   "metadata": {},
   "outputs": [
    {
     "data": {
      "text/plain": [
       "120"
      ]
     },
     "execution_count": 96,
     "metadata": {},
     "output_type": "execute_result"
    }
   ],
   "source": [
    "def factorial(n):\n",
    "    return reduce(\n",
    "                lambda x,y : x*y, range(1,n+1)) #python range에서는 뒤에서 하나 전까지임\n",
    "\n",
    "factorial(5)"
   ]
  },
  {
   "cell_type": "code",
   "execution_count": 97,
   "metadata": {},
   "outputs": [
    {
     "name": "stdout",
     "output_type": "stream",
     "text": [
      "1 (2, 3, 4, 5, 6)\n",
      "<class 'tuple'>\n"
     ]
    }
   ],
   "source": [
    "# 6. Asterisk - 흔히 알고 있는 * 를 의미함 *args , **kargs (가변인자) / 전부 불러오라는 의미\n",
    "def asterisk_test(a,*args):\n",
    "    print(a,args)\n",
    "    print(type(args))\n",
    "asterisk_test(1,2,3,4,5,6) #args 가 tuple 형태로 들어감"
   ]
  },
  {
   "cell_type": "code",
   "execution_count": 99,
   "metadata": {},
   "outputs": [
    {
     "name": "stdout",
     "output_type": "stream",
     "text": [
      "1 {'b': 2, 'c': 3, 'd': 4, 'e': 5, 'f': 6}\n",
      "<class 'dict'>\n"
     ]
    }
   ],
   "source": [
    "# keywords 인자를 한번에 넘길때는 ** 를 사용 (dict에서 사용)\n",
    "def asterisk_test(a,**kargs):\n",
    "    print(a,kargs)\n",
    "    print(type(kargs))\n",
    "asterisk_test(1,b=2,c=3,d=4,e=5,f=6) #kagrs 가 dict 형태로 들어감 - pandas에서는 다 keywords인자로 받음"
   ]
  },
  {
   "cell_type": "code",
   "execution_count": 13,
   "metadata": {},
   "outputs": [
    {
     "name": "stdout",
     "output_type": "stream",
     "text": [
      "1 (2, 3, 4, 5, 6)\n",
      "<class 'tuple'>\n"
     ]
    }
   ],
   "source": [
    "# Asterisk - unpacking a container (언패킹할때 유용)\n",
    "# tuple , dict 등 자료형에 들어가 있는 값을 unpacking\n",
    "# 함수의 입력값, zip 등에 유용하게 사용가능\n",
    "def asterisk_test(a,*args):\n",
    "    print(a,args[0]) #tuple 형태로 묶여서 들어가기때문에 첫번째를 뽑으라고 해야만 나옴 / print(a,args) 를 치게 되면 1 ((2,3,4,5,6),) 형태로나옴\n",
    "    print(type(args))\n",
    "asterisk_test(1,(2,3,4,5,6))"
   ]
  },
  {
   "cell_type": "code",
   "execution_count": 105,
   "metadata": {},
   "outputs": [
    {
     "name": "stdout",
     "output_type": "stream",
     "text": [
      "1 2 3 4 5 6\n",
      "<class 'tuple'>\n"
     ]
    }
   ],
   "source": [
    "# Unpacking\n",
    "def asterisk_test(a,args):\n",
    "    print(a,*args) # * 써서 Unpacking 실시\n",
    "    print(type(args))\n",
    "asterisk_test(1,(2,3,4,5,6))"
   ]
  },
  {
   "cell_type": "code",
   "execution_count": 114,
   "metadata": {},
   "outputs": [
    {
     "name": "stdout",
     "output_type": "stream",
     "text": [
      "[1, 2] [3, 4] [5, 6]\n",
      "[1, 2] [3, 4] [5, 6]\n"
     ]
    }
   ],
   "source": [
    "# Unpacking\n",
    "\n",
    "a,b,c = ([1,2],[3,4],[5,6])\n",
    "print(a,b,c)\n",
    "\n",
    "data = ([1,2],[3,4],[5,6])\n",
    "print(*data)"
   ]
  },
  {
   "cell_type": "code",
   "execution_count": 109,
   "metadata": {},
   "outputs": [
    {
     "name": "stdout",
     "output_type": "stream",
     "text": [
      "10 1 2 3\n"
     ]
    }
   ],
   "source": [
    "def asterisk_test(a,b,c,d):\n",
    "    print(a,b,c,d)\n",
    "data = {\"b\":1,\"c\":2,\"d\":3}\n",
    "asterisk_test(10,**data)"
   ]
  },
  {
   "cell_type": "code",
   "execution_count": 15,
   "metadata": {},
   "outputs": [
    {
     "name": "stdout",
     "output_type": "stream",
     "text": [
      "(1, 3, 5)\n",
      "(2, 4, 6)\n"
     ]
    }
   ],
   "source": [
    "for data in zip(*([1,2],[3,4],[5,6])):\n",
    "    print(data)"
   ]
  },
  {
   "cell_type": "code",
   "execution_count": 112,
   "metadata": {},
   "outputs": [
    {
     "name": "stdout",
     "output_type": "stream",
     "text": [
      "10 3 2 1 56\n"
     ]
    }
   ],
   "source": [
    "def asterisk_test(a,b,c,d,e=0):\n",
    "    print(a,b,c,d,e)\n",
    "data = {\"d\":1, \"c\":2, \"b\":3, \"e\":56}\n",
    "asterisk_test(10,**data)"
   ]
  },
  {
   "cell_type": "code",
   "execution_count": 118,
   "metadata": {},
   "outputs": [
    {
     "name": "stdout",
     "output_type": "stream",
     "text": [
      "9\n",
      "12\n"
     ]
    }
   ],
   "source": [
    "for data in zip(*([1, 2], [3, 4], [5, 6])):\n",
    "    print(sum(data))"
   ]
  },
  {
   "cell_type": "code",
   "execution_count": 16,
   "metadata": {},
   "outputs": [
    {
     "name": "stdout",
     "output_type": "stream",
     "text": [
      "deque([0, 1, 2, 3, 4])\n"
     ]
    }
   ],
   "source": [
    "# 7. Data Structure - Collections Module\n",
    "# Deque - stack 과 Queue 를 지원하는 모듈 \n",
    "# List에 비해 효율적인 자료 저장 방식을 지원함\n",
    "\n",
    "from collections import deque\n",
    "\n",
    "deque_list = deque()\n",
    "for i in range(5):\n",
    "    deque_list.append(i)\n",
    "print(deque_list)"
   ]
  },
  {
   "cell_type": "code",
   "execution_count": 17,
   "metadata": {},
   "outputs": [
    {
     "name": "stdout",
     "output_type": "stream",
     "text": [
      "deque([10, 0, 1, 2, 3, 4])\n"
     ]
    }
   ],
   "source": [
    "deque_list.appendleft(10) #왼쪽에 append \n",
    "print(deque_list)"
   ]
  },
  {
   "cell_type": "code",
   "execution_count": 19,
   "metadata": {},
   "outputs": [
    {
     "name": "stdout",
     "output_type": "stream",
     "text": [
      "18.69794059588376 seconds\n"
     ]
    }
   ],
   "source": [
    "# deque 는 효율적 메모리 구조로 처리 속도 향상\n",
    "import time\n",
    "\n",
    "start_time = time.clock()\n",
    "deque_list = deque()\n",
    "# Stack \n",
    "for i in range(10000):\n",
    "    for i in range(10000):\n",
    "        deque_list.append(i)\n",
    "        deque_list.pop()\n",
    "print(time.clock() - start_time, \"seconds\") # 18.69794059588376 seconds"
   ]
  },
  {
   "cell_type": "code",
   "execution_count": 20,
   "metadata": {},
   "outputs": [
    {
     "data": {
      "text/plain": [
       "deque([])"
      ]
     },
     "execution_count": 20,
     "metadata": {},
     "output_type": "execute_result"
    }
   ],
   "source": [
    "deque_list"
   ]
  },
  {
   "cell_type": "code",
   "execution_count": 21,
   "metadata": {},
   "outputs": [
    {
     "name": "stdout",
     "output_type": "stream",
     "text": [
      "49.34910981424508 seconds\n"
     ]
    }
   ],
   "source": [
    "import time\n",
    "\n",
    "start_time = time.clock()\n",
    "just_list= []\n",
    "for i in range(10000):\n",
    "    for i in range(10000):\n",
    "        just_list.append(i)\n",
    "        just_list.pop()\n",
    "print(time.clock()-start_time , \"seconds\") #일반 list append 가 시간이 더 걸리는 것을 확인 할 수 있음 # 49.34910981424508 seconds"
   ]
  },
  {
   "cell_type": "code",
   "execution_count": 29,
   "metadata": {},
   "outputs": [],
   "source": [
    "# OrderedDict - DIct 와 달리 , 데이터를 입력한 순서대로 dict를 반환함\n",
    "d = {}\n",
    "d['x'] = 100\n",
    "d['y'] = 200\n",
    "d['z'] = 300\n",
    "d['l'] = 500\n",
    "for k,v in d.items():\n",
    "    print(k,v)"
   ]
  },
  {
   "cell_type": "code",
   "execution_count": 23,
   "metadata": {},
   "outputs": [
    {
     "name": "stdout",
     "output_type": "stream",
     "text": [
      "x 100\n",
      "y 200\n",
      "z 300\n",
      "l 500\n"
     ]
    }
   ],
   "source": [
    "from collections import OrderedDict\n",
    "d = OrderedDict()\n",
    "d['x'] = 100\n",
    "d['y'] = 200\n",
    "d['z'] = 300\n",
    "d['l'] = 500\n",
    "for k,v in d.items():\n",
    "    print(k,v)"
   ]
  },
  {
   "cell_type": "code",
   "execution_count": 27,
   "metadata": {
    "scrolled": true
   },
   "outputs": [
    {
     "name": "stdout",
     "output_type": "stream",
     "text": [
      "l 500\n",
      "x 100\n",
      "y 200\n",
      "z 300\n"
     ]
    }
   ],
   "source": [
    "# DIct type 값을 , value 또는 key 값으로 정렬할 때 사용 가능\n",
    "for k,v in OrderedDict(sorted(d.items(),key=lambda t: t[0])).items():\n",
    "    print(k,v)"
   ]
  },
  {
   "cell_type": "code",
   "execution_count": 31,
   "metadata": {},
   "outputs": [
    {
     "name": "stdout",
     "output_type": "stream",
     "text": [
      "x 100\n",
      "y 200\n",
      "z 300\n",
      "l 500\n"
     ]
    }
   ],
   "source": [
    "for k,v in OrderedDict(sorted(d.items(),key=lambda t: t[1])).items():\n",
    "    print(k,v)"
   ]
  },
  {
   "cell_type": "code",
   "execution_count": 33,
   "metadata": {},
   "outputs": [
    {
     "name": "stdout",
     "output_type": "stream",
     "text": [
      "0\n"
     ]
    }
   ],
   "source": [
    "#defaultdict - dict type의 값에 기본 값을 지정, 신규값 생성시 사용하는 방법\n",
    "from collections import defaultdict\n",
    "d = defaultdict(object) #Default dictionary를 생성\n",
    "d = defaultdict(lambda: 0) # default 값을 0으로 설정\n",
    "print(d[\"first\"]) # Text를 dict key 로 count 할 때 편리함 "
   ]
  },
  {
   "cell_type": "code",
   "execution_count": 39,
   "metadata": {},
   "outputs": [
    {
     "name": "stdout",
     "output_type": "stream",
     "text": [
      "Counter({'a': 3, 'l': 2, 'g': 1, 'h': 1, 'd': 1})\n"
     ]
    }
   ],
   "source": [
    "# Counter - sequence type 의 data element들의 개수를 dict 형태로 변환\n",
    "from collections import Counter\n",
    "c = Counter() # a new, empty counter\n",
    "c = Counter('gallahad') # a new counter from an iterable\n",
    "print(c)"
   ]
  },
  {
   "cell_type": "code",
   "execution_count": 1,
   "metadata": {},
   "outputs": [
    {
     "name": "stdout",
     "output_type": "stream",
     "text": [
      "[1, 2, 10] (1, 2, 10) {'x': 1, 'y': 1, 'z': 10}\n"
     ]
    }
   ],
   "source": [
    "# Linear algebra codes \n",
    "# Vector representation of python\n",
    "# vector 를 파이썬으로 표시하는 다양한 방법 존재 \n",
    "vector_a = [1,2,10] # List 로 표시\n",
    "vector_b = (1,2,10) # Tuple 로 표시\n",
    "vector_c = {'x':1, 'y' : 1, 'z' : 10} # Dict 로 표현\n",
    "\n",
    "print(vector_a,vector_b,vector_c)\n"
   ]
  },
  {
   "cell_type": "code",
   "execution_count": 8,
   "metadata": {},
   "outputs": [
    {
     "name": "stdout",
     "output_type": "stream",
     "text": [
      "[7, 10]\n"
     ]
    }
   ],
   "source": [
    "# Vector 의 계산 \n",
    "# 잘못된 파이썬 표현\n",
    "u = [2,2]\n",
    "v = [2,3]\n",
    "z = [3,5]\n",
    "result = []\n",
    "for i in range(len(u)):\n",
    "    result.append(u[i] + v[i] + z[i])\n",
    "    \n",
    "print(result)"
   ]
  },
  {
   "cell_type": "code",
   "execution_count": 9,
   "metadata": {},
   "outputs": [
    {
     "name": "stdout",
     "output_type": "stream",
     "text": [
      "[7, 10]\n"
     ]
    }
   ],
   "source": [
    "#파이썬스러운 코드 \n",
    "u = [2,2]\n",
    "v = [2,3]\n",
    "z = [3,5]\n",
    "\n",
    "result = [sum(t) for t in zip(u,v,z)]\n",
    "print(result)"
   ]
  },
  {
   "cell_type": "code",
   "execution_count": 10,
   "metadata": {},
   "outputs": [
    {
     "name": "stdout",
     "output_type": "stream",
     "text": [
      "[10, 12, 14]\n"
     ]
    }
   ],
   "source": [
    "# scalar - vector product\n",
    "u = [1,2,3]\n",
    "v = [4,4,4]\n",
    "alpha = 2\n",
    "\n",
    "result = [alpha*sum(t) for t in zip(u,v)]\n",
    "print(result)"
   ]
  },
  {
   "cell_type": "code",
   "execution_count": 13,
   "metadata": {},
   "outputs": [],
   "source": [
    "# Matrix representation of python\n",
    "# Matrix 를 파이썬으로 표시하는 다양한 방법 존재 \n",
    "matrix_a = [[3,6],[4,5]]\n",
    "matrix_b = [(3,6),(4,5)]\n",
    "matrix_c = {(0,0): 3,(0,1):6,(1,0):4,(1,1):5}"
   ]
  },
  {
   "cell_type": "code",
   "execution_count": 16,
   "metadata": {},
   "outputs": [
    {
     "name": "stdout",
     "output_type": "stream",
     "text": [
      "[[8, 14], [10, 12]]\n"
     ]
    }
   ],
   "source": [
    "# Matrix의 계산 \n",
    "matrix_a = [[3,6],[4,5]]\n",
    "matrix_b = [[5,8],[6,7]]\n",
    "result = [[sum(row) for row in zip(*t)] for t in zip(matrix_a,matrix_b)]\n",
    "# matrix_a와 matrix_b를 zip 하면 ([3,6], [5,8]) 이 첫번째로 튜플형태로 나타나고 *t를 함으로써 언팩이 되고 순서대로 [3+5, 6+8]  값이 됨\n",
    "    \n",
    "print(result)"
   ]
  },
  {
   "cell_type": "code",
   "execution_count": 21,
   "metadata": {},
   "outputs": [
    {
     "name": "stdout",
     "output_type": "stream",
     "text": [
      "[[12, 24], [16, 20]]\n"
     ]
    }
   ],
   "source": [
    "# Scalar - Matrix Product\n",
    "matrix_a = [[3,6],[4,5]]\n",
    "alpha = 4\n",
    "result = [[alpha* element for element in t] for t in matrix_a]\n",
    "print(result)"
   ]
  },
  {
   "cell_type": "code",
   "execution_count": 23,
   "metadata": {},
   "outputs": [
    {
     "name": "stdout",
     "output_type": "stream",
     "text": [
      "[[1, 4], [2, 5], [3, 6]]\n"
     ]
    }
   ],
   "source": [
    "# Matrix Transpose \n",
    "matrix_a = [[1,2,3],[4,5,6]]\n",
    "result = [ [element for element in t] for t in zip(*matrix_a)]\n",
    "print(result)\n",
    "# zip 하는 순간 [1,2,3], [4,5,6] 으로 쪼개짐 zip 형태 첫번째로 t에 들어가는 [1,4]"
   ]
  },
  {
   "cell_type": "code",
   "execution_count": 24,
   "metadata": {},
   "outputs": [
    {
     "name": "stdout",
     "output_type": "stream",
     "text": [
      "[[5, 8], [5, 6]]\n"
     ]
    }
   ],
   "source": [
    "# Matrix product \n",
    "matrix_a = [[1,1,2],[2,1,1]]\n",
    "matrix_b = [[1,1],[2,1],[1,3]]\n",
    "result = [[sum(a * b for a,b in zip(row_a,column_b)) for column_b in zip(*matrix_b)] for row_a in matrix_a]\n",
    "#zip(*matrix_b)를 통해서 언패킹 하는 것이 관건\n",
    "print(result)"
   ]
  },
  {
   "cell_type": "code",
   "execution_count": null,
   "metadata": {},
   "outputs": [],
   "source": [
    "# --------------------------------------------------CASE Study - News Categorization\n",
    "# 비슷한 뉴스를 어떻게 선정할까? \n",
    "# 유사하다 = 가깝다\n",
    "# 문자를 벡터로 변화 - One-hot Encoding (하나의 단어를 Vector의 Index로 인식, 단어 존재시 1 없으면 0)\n",
    "# Bag of words - 단어별로 인덱스를 부여해서, 한 문장(또는 문서)의 단어의 개수를 Vector로 표현\n",
    "# 유사성 계산은 Distance measure 형식으로 진행 \n",
    "# 문서들끼리 비교할때는 cosine distance(두 점 사이의 각도를 계산) 를 많이 사용\n",
    "# 유클리디안 거리는 두점사이의 거리를 피타고라스 정리에 의해 계산\n",
    "# Why cosine similarity ? count < direction\n"
   ]
  },
  {
   "cell_type": "code",
   "execution_count": 1,
   "metadata": {
    "scrolled": true
   },
   "outputs": [
    {
     "data": {
      "text/plain": [
       "['1_Dae-Ho Lee walk-off homer gives Mariners 4-2 win over Rangers.txt',\n",
       " '1_Korean First Baseman Dae-Ho Lee Becomes Free Agent, Interested In MLB Deal.txt',\n",
       " '1_Lee Dae-ho Announces MLB Aspirations.txt',\n",
       " '1_Lee Dae-ho to Start Spring Training in Arizona.txt',\n",
       " '1_Lee Dae-ho wins MVP in Japan Series.txt',\n",
       " \"1_Mariners' Lee Dae-ho belts a walk-off homer.txt\",\n",
       " '1_Mariners’ Lee Dae-ho gets 1st two-hit game, double.txt',\n",
       " '1_MLB Team Interested In Dae-Ho Lee.txt',\n",
       " \"1_Seattle Mariners' Newest Signing Dae-Ho Lee Could Become Fan Favorite.txt\",\n",
       " '1_SoftBank Hawks Hope to Renew Contract with Lee Dae-ho.txt',\n",
       " '2_Dodgers left with questions after latest Hyun-Jin Ryu setback.txt',\n",
       " '2_Dodgers left-hander Hyun-Jin Ryu expects to be ready for start of season.txt',\n",
       " '2_Dodgers unsure when Hyun-Jin Ryu will throw another bullpen session.txt',\n",
       " '2_Dodgers will take it slowly with pitcher Hyun-Jin Ryu, whose health could be a key to their season.txt',\n",
       " '2_Hyun-Jin Ryu downplays long break between bullpen sessions.txt',\n",
       " \"2_Hyun-Jin Ryu's timetable starting to become clear.txt\",\n",
       " '2_Los Angeles Dodgers’ Hyun-Jin Ryu Experiencing Shoulder Discomfort.txt',\n",
       " '2_Ryu Hyun-jin appears before fans after 3-month hiatus for rehabilitation.txt',\n",
       " '2_Ryu Hyun-jin Rejoins Dodgers After Surgery.txt',\n",
       " '2_Ryu Hyun-jin suffers injury in groin, further delays return.txt',\n",
       " '3_Cleveland Indians interested in South Korean reliever Seung-hwan Oh.txt',\n",
       " '3_Free agent closer Seung-hwan Oh under investigation for gambling.txt',\n",
       " '3_Korean reliever Seung-hwan Oh has the best nickname for a closer.txt',\n",
       " '3_Lim Chang-yong, Oh Seung-hwan to be suspended from 50% of games even if they return.txt',\n",
       " '3_Oh Seung-hwan Could Lose Contract Over Gambling Scandal.txt',\n",
       " '3_Seung Hwan Oh Arrives Early To Cardinals Spring Training Camp.txt',\n",
       " '3_Seung-hwan Oh off to a great start.txt',\n",
       " '3_SEUNG-HWAN OH SHUTS DOWN TWINS IN FIRST SPRING ACTION.txt',\n",
       " '3_SEUNG-HWAN OH STRIKES OUT THE SIDE.txt',\n",
       " '3_SEUNG-HWAN OH TOSSES CLEAN INNING VERSUS BOSTON.txt',\n",
       " \"4_Byung Ho Park went 1-for-4 with a solo homer in Saturday's 4-1 loss to the Tigers..txt\",\n",
       " '4_BYUNG-HO PARK SETTLING IN TO AMERICAN GAME.txt',\n",
       " \"4_Byung-Ho Park Won't Fix The Minnesota Twins.txt\",\n",
       " \"4_Byung-ho Park's homers are the best thing about the Twins so far.txt\",\n",
       " '4_Minnesota’s Park Byung-ho hits 7th homer of the season.txt',\n",
       " '4_Park Byung-ho hits large homer on ‘Park Byung-ho Day’.txt',\n",
       " '4_Park remains on bench as Twins face Gonzalez and the Nats.txt',\n",
       " \"4_Twins' Park Byung-ho hits first big league triple.txt\",\n",
       " \"4_Twins' slugger Byung Ho Park adapts to high heat.txt\",\n",
       " '4_Twins’ Byung Ho Park Still Getting Accustomed To American Life.txt',\n",
       " '5_ S. Korea look well-positioned to qualify for 2018 World Cup.txt',\n",
       " '5_Augsburg midfielder Koo Ja-cheol scores 3 hat tricks at home game.txt',\n",
       " '5_Augsburg vs Stuttgart Bundesliga Match Preview and Kick-Off Time.txt',\n",
       " '5_Follow the action live as Augsburg welcome the visit of Stuttgart on Saturday.txt',\n",
       " \"5_Injured midfielder likely to miss nat'l team friendlies.txt\",\n",
       " '5_Koo Ja-cheol Nets a Hat Trick for Augsburg.txt',\n",
       " '5_Korean Footballers in Europe Struggle for Match Time.txt',\n",
       " '5_S. Korean MF Koo Ja-cheol suspended for next World Cup qualifier.txt',\n",
       " '5_South Korean Footballer Koo Ja Cheol Returns To Augsburg, Says He Has the ‘Feeling of Coming Home’.txt',\n",
       " \"5_Stielike warns it won't be easy for Euro-stars.txt\",\n",
       " '6_AFC 2018 World Cup Qualifying South Korea vs Lebanon, Preview, Prediction & Predicted Lineup.txt',\n",
       " '6_Borussia Dortmund sign Korea defender Park Joo-ho from Mainz.txt',\n",
       " '6_Borussia Dortmund vs. Wolfsburg Team News, Preview, Live Stream, TV Info.txt',\n",
       " '6_BVB has initially without full-back Joo-Ho Park.txt',\n",
       " '6_International South Korean Joo Ho Park, is committed to Borussia Dortmund on Saturday..txt',\n",
       " '6_Joo-Ho Park poor for Borussia Dortmund in loss at Cologne.txt',\n",
       " \"6_Mkhitaryan, Hummels perfect 10s in Dortmund's win at Gladbach.txt\",\n",
       " \"6_Park Joo-ho delivers top performance in Dortmund's late Europa victory.txt\",\n",
       " '6_Son Heung-min, Park Joo-ho Set to Start for New Clubs.txt',\n",
       " '6_Thomas Tuchel mulls Park Joo-ho dilemma on Borussia Dortmund`s record run.txt',\n",
       " '7_Ki Sung-Yueng back in Swansea City fold as Garry Monk targets victory over benchmark club Everton.txt',\n",
       " '7_Ki Sung-yueng Scores 2nd Goal for Swansea in 4 Months.txt',\n",
       " '7_Ki Sung-yueng Stretchered Off Pitch with Head Injury.txt',\n",
       " '7_Premier League 2015-2016 Swansea City vs Manchester City, Preview, Prediction & Predicted Lineup.txt',\n",
       " '7_Sung-yueng In Team Of The Week.txt',\n",
       " '7_Swansea City midfielder Ki Sung-Yueng demands immediate improvement.txt',\n",
       " '7_Swansea City midfielder Ki Sung-Yueng says confidence will not be dented by Arsenal defeat.txt',\n",
       " '7_Swansea City midfielder Ki Sung-Yueng wary of Arsenal threat.txt',\n",
       " '7_Swansea City midfielder Ki Sung-Yueng will miss Crystal Palace clash.txt',\n",
       " '7_Swansea win the perfect tonic for weary Sunderland.txt',\n",
       " '8_Has Heung Min Son Done Enough to Justify 22m Transfer.txt',\n",
       " '8_Heung min Son Believes Injury Tainted Debut at Tottenham.txt',\n",
       " \"8_Heung Min Son doubles Tottenham's lead over Chelsea.txt\",\n",
       " '8_Heung Min Son gives Tottenham a two-goal advantage vs Chelsea.txt',\n",
       " \"8_Heung Min Son prefers Tottenham's busy fixture list to winter break.txt\",\n",
       " '8_South Korea are waiting to hear if Tottenham will clear Son Heung-min for the Olympics, according to the forward..txt',\n",
       " \"8_South Korea coach has a warning for Tottenham Hotspur's Heung-min Son and fellow internationals, suggests they should consider exits.txt\",\n",
       " '8_Top five matchups in 2018 AFC World Cup final round qualification.txt',\n",
       " '8_Tottenham vs Southampton player ratings Heung-min Son shines but Ryan Mason disappoints.txt',\n",
       " \"8_Who Should Be Tottenham Hotspur's No. 1 Summer Transfer Target.txt\"]"
      ]
     },
     "execution_count": 1,
     "metadata": {},
     "output_type": "execute_result"
    }
   ],
   "source": [
    "# 해당 데이터가 있는 폴더를 불러 파일 이름을 리스트화\n",
    "import os\n",
    "def get_file_list(dir_name):\n",
    "    return os.listdir(dir_name)\n",
    "get_file_list(\"C:/Users/최의관/news_data\")\n"
   ]
  },
  {
   "cell_type": "code",
   "execution_count": 2,
   "metadata": {},
   "outputs": [],
   "source": [
    "#파일별로 내용읽기- 0 은 야구 1 은 축구\n",
    "def get_conetents(file_list):\n",
    "    y_class=[] #80개의값 (축구인지 야구인지 구분)\n",
    "    x_text=[] # 80개 기사의 내용이 리스트로 들어가있음\n",
    "    class_dict= {\n",
    "        1:\"0\", 2: \"0\", 3:\"0\", 4:\"0\" ,5: \"1\", 6:\"1\",7:\"1\",8:\"1\"}\n",
    "    \n",
    "    for file_name in file_list:\n",
    "        try:\n",
    "            f = open(file_name, \"r\", encoding = \"cp949\") #윈도우 기반 unicode 인코딩은 cp949 \n",
    "            #해당파일이름의 첫번째 숫자를 불러와서 야구인지 축구인지 판단\n",
    "            category = int(file_name.split(os.sep)[1].split(\"_\")[0]) #os.sep 은 파일경로를 나누는 기준인 \\ 을 기준으로 나눔 \n",
    "            y_class.append(class_dict[category])\n",
    "            x_text.append(f.read())\n",
    "            f.close()\n",
    "        except UnicodeDecodeError as e:\n",
    "            print(e)\n",
    "            print(file_name)\n",
    "    return x_text,y_class\n"
   ]
  },
  {
   "cell_type": "code",
   "execution_count": 3,
   "metadata": {},
   "outputs": [],
   "source": [
    "# Corpus 만들기 - 단어별 index 생성하기 corpus는 말주머니라고 생각하면 됨\n",
    "def get_cleaned_text(text):\n",
    "    import re\n",
    "    text = re.sub('\\W+','',text.lower()) #의미없는 문장부호 등은 제거후 소문자로 전환 (정규표현식)\n",
    "    #간편하기 위함이지 실제로는 쉽게 소문자로 바꾸는 것에 있어서 고민이 필요한 부분\n",
    "    return text\n",
    "\n",
    "def get_corpus_dict(text):\n",
    "    text = [sentence.split() for sentence in text]\n",
    "    cleaned_words = [get_cleaned_text(word) for words in text for word in words]\n",
    "    \n",
    "    from collections import OrderedDict\n",
    "    corpus_dict = OrderedDict()\n",
    "    for i,v in enumerate(set(cleaned_words)):  #set 하는 이유는 같은 단어는 제거하고 남은단어만 모아서 인덱스를 부여하기 위함 \n",
    "        corpus_dict[v] = i # 단어가 key 이고 인덱싱 값이 value이다. 이유는 단어가 고유값이 되었기 때문에 가능함\n",
    "    return corpus_dict"
   ]
  },
  {
   "cell_type": "code",
   "execution_count": 12,
   "metadata": {},
   "outputs": [],
   "source": [
    "#문서별로 Bag of words vector 생성 - 생성된 단어 주머니 개수만큼 백터의 크기가 필요\n",
    "def get_count_vector(text,corpus):\n",
    "    text = [sentence.split() for sentence in text]\n",
    "    word_number_list=[[corpus[get_cleaned_text(word)] for word in words] for words in text] # 인덱스 숫자로 바뀜\n",
    "    #print(word_number_list)\n",
    "    # key 값과 동일한 값으로 인덱싱을 해야하기 때문에 get_cleaned_text(word) 를진행 \n",
    "    x_vector = [[0 for _ in range(len(corpus))] for x in range(len(text))] # _ 는 변수는 사용하지 않는다는 의미, 모든값을 0으로 채우는 구조\n",
    "    # 한마디로 80 by 4025 matrix 만드는 것 \n",
    "    \n",
    "    for i, text in enumerate(word_number_list): #i 는 몇번째 기사인지를 뜻함\n",
    "        for word_number in text: #text 는 인덱스 번호(dict에서 몇번째 위치한 값인지)이다.\n",
    "            x_vector[i][word_number] += 1 #단어 빈도수 만큼이나 체크 되는 것임 \n",
    "    return x_vector"
   ]
  },
  {
   "cell_type": "code",
   "execution_count": 5,
   "metadata": {},
   "outputs": [],
   "source": [
    "# ------------------------------------------------------------------------헷갈리는 부분(word_number_list) 다시 Check!!! \n",
    "def get_count_vector(text,corpus):\n",
    "    text = [sentence.split() for sentence in text]\n",
    "    word_number_list=[[corpus[get_cleaned_text(word)] for word in words] for words in text] # 4025 개이고, 인덱스 숫자로 바뀜\n",
    "    print(word_number_list) \n",
    "    "
   ]
  },
  {
   "cell_type": "code",
   "execution_count": 6,
   "metadata": {},
   "outputs": [
    {
     "name": "stdout",
     "output_type": "stream",
     "text": [
      "Number of words : 4025\n",
      "[[1700, 185, 1091, 4011, 2533, 2109, 1205, 4011, 3247, 1700, 185, 1091, 95, 3460, 575, 2102, 3739, 95, 2498, 199, 3072, 2552, 3806, 2552, 220, 2781, 2026, 554, 220, 1294, 3600, 3314, 1163, 702, 3822, 2739, 1086, 641, 938, 2468, 2070, 1689, 2483, 58, 2483, 2894, 3258, 1583, 3844, 4011, 1760, 1388, 4011, 390, 1191, 244, 1335, 945, 95, 3914, 3362, 2972, 3909, 3757, 942, 2671, 4011, 1, 3304, 95, 309, 158, 865, 4011, 2202, 2325, 2371, 3314, 929, 641, 158, 1414, 2972, 4011, 1689, 363, 671, 3634, 4011, 1758, 1097, 1994, 2895, 185, 95, 2806, 1388, 95, 1047, 2132, 4011, 2071, 2034, 1086, 292, 1652, 3592, 1507, 2132, 3446, 929, 3204, 2597, 243, 784, 1388, 4011, 3943, 2972, 838, 2417, 3634, 3348, 4011, 1, 3204, 3436, 2418, 1337, 4011, 2972, 1446, 185, 95, 254, 429, 2418, 2894, 95, 2972, 3643, 3443, 1388, 3267, 942, 2066, 3272, 1388, 3818, 220, 912, 912, 2427, 1700, 787, 3566, 2489, 2449, 1388, 4011, 158, 942, 95, 3518, 1813, 3822, 185, 2435, 1169, 2066, 386, 1495, 2132, 2202, 1256, 3442, 1700, 185, 2066, 2316, 3362, 4011, 827, 1412, 101, 1169, 4011, 3362, 3442, 477, 942, 1023, 3851, 388, 1276, 942, 1917, 912, 2059, 2132, 1408, 2850, 942, 1408, 1700, 3841, 1445, 3746, 3171, 267, 2850, 1388, 2890, 2197, 2915, 2894, 95, 2693, 2972, 3643, 3117, 1388, 2325, 97, 2779, 866, 2132, 2601, 4011, 3348, 95, 3938, 1357, 3171, 185, 370, 1256, 4011, 3984, 2197, 172, 3822, 3276, 960, 2552, 1808, 693, 4011, 767, 1337, 4011, 2972, 1446, 4011, 3348, 3903, 57, 4011, 1357, 3844, 4011, 1719, 869, 3493, 2528, 2102, 95, 1589, 2972, 3643, 1107, 1086, 2223, 1913, 3024, 2132, 3086, 4011, 3362, 1414, 351, 172, 2070, 3178, 2739, 97, 196, 1223, 2154, 95, 1398, 258, 2551, 2640, 2548, 2569, 1507, 3914, 888, 784, 3264, 3643, 1004, 2850, 842, 1871, 1253, 868, 3258, 1936, 3466, 2662, 1822, 3258, 3163, 2548, 942, 185, 2190, 2894, 4011, 158, 2739, 1902, 2021, 3349, 2552, 95, 2930, 453, 2132, 2773, 803, 2764, 1917, 1902, 3450, 1256, 4011, 1125, 3314, 95, 946, 3362, 2417, 269, 509, 2783, 828, 4011, 258, 3844, 2238, 2417, 1371, 1414, 1376, 1862, 3563, 1256, 2796, 3746, 453, 2202, 3627, 2972, 3314, 95, 946, 3362, 2417, 2894, 4011, 2456, 3712, 3710, 1256, 3349, 477], [2468, 3322, 1902, 1245, 2132, 1279, 4011, 2165, 2672, 4011, 2294, 1485, 2132, 4011, 1458, 2144, 1994, 641, 938, 2468, 3322, 1902, 3205, 503, 2132, 1305, 1256, 2672, 4011, 2294, 1485, 2847, 2132, 95, 2336, 2672, 3300, 877, 1388, 2205, 565, 403, 1808, 578, 2890, 2932, 662, 3314, 4011, 3341, 2498, 2894, 4011, 1756, 3820, 1795, 1388, 4011, 2698, 699, 159, 689, 3844, 408, 403, 1808, 2538, 2132, 1729, 2066, 3664, 2351, 3462, 3844, 142, 1388, 2573, 95, 1782, 2921, 4011, 840, 641, 938, 2154, 3032, 3844, 4011, 1994, 159, 340, 3844, 1924, 3314, 865, 95, 820, 172, 1114, 4011, 1305, 2132, 1236, 2132, 408, 2769, 2897, 3723, 3322, 2154, 693, 2678, 3844, 408, 2678, 3314, 563, 4011, 2050, 3305, 942, 4011, 1795, 2897, 403, 702, 3842, 2066, 802, 3664, 2351, 3462, 3322, 1902, 1091, 2625, 95, 3228, 1922, 3822, 1902, 1514, 245, 4011, 3616, 672, 1087, 942, 4011, 1650, 1902, 3205, 2370, 3314, 563, 789, 3854, 159, 2072, 3374, 1388, 2678, 3844, 4011, 2971, 942, 3577, 1777, 2132, 256, 3822, 3374, 3322, 969, 3844, 2890, 261, 3029, 3289, 3145, 2781, 2601, 2831, 3244, 1777, 3998, 3841, 1137, 1065, 3829, 3145, 2298, 2863, 1700, 1902, 3205, 2669, 3844, 848, 2883, 3032, 3901, 2498, 3314, 4011, 1756, 3820, 1795, 3322, 3837, 95, 1259, 3287, 2098, 865, 2156, 420, 1193, 3342, 2894, 3631, 2972, 204, 942, 2269, 204, 730, 3844, 865, 2890, 2304, 3829, 3844, 563, 1924, 942, 408, 403, 702, 4011, 1879, 2957, 1388, 95, 343, 3287, 2098, 865, 1397, 420, 1193, 3342, 2894, 1401, 2972, 204, 942, 2429, 204, 730, 3844, 3844, 1320, 2883, 3032], [3322, 2468, 95, 1994, 4023, 2624, 2678, 2894, 4011, 3820, 1795, 3844, 408, 1808, 240, 1745, 2132, 256, 95, 3829, 3844, 1676, 689, 159, 3844, 4011, 3762, 3322, 1808, 3264, 1798, 3844, 2698, 699, 159, 942, 185, 896, 1521, 1388, 4011, 408, 2417, 3901, 1220, 3998, 2215, 1065, 3828, 3314, 3901, 1220, 784, 185, 2005, 1065, 3204, 158, 4011, 408, 2417, 942, 4011, 955, 185, 3842, 1521, 3322, 2449, 1414, 95, 261, 284, 1256, 3442, 1169, 3035, 2972, 1170, 626, 1700, 702, 1660, 628, 2132, 256, 1065, 3081, 3374, 1388, 2678, 3844, 4011, 52, 2447, 1845, 1994, 2932, 3198, 3516, 1388, 4011, 1803, 3312, 702, 2494, 3314, 1877, 2672, 52, 3075, 1169, 3228, 185, 113, 2827, 3901, 3633, 3534, 3314, 4011, 3258, 2072, 3753, 3571, 1169, 2611, 3982, 3025, 962, 2672, 4011, 1803, 3312, 2132, 4011, 1171, 892, 1170, 1220], [3322, 2468, 2009, 3314, 216, 1256, 3442, 2764, 4011, 2739, 3348, 807, 1342, 1749, 3322, 1626, 2132, 53, 3314, 4011, 3762, 1169, 2711, 95, 34, 1783, 2529, 3702, 3851, 95, 2793, 2382, 1993, 2890, 1745, 1414, 4011, 916, 1388, 4011, 3204, 2132, 1839, 2894, 1112, 2552, 2827, 2552, 518, 2449, 2890, 1197, 1849, 1141, 1513, 1910, 3322, 702, 1072, 2132, 258, 1749, 3901, 626], [1994, 4023, 3322, 2468, 1388, 4011, 1756, 3820, 1795, 3138, 4011, 1521, 1232, 3844, 4011, 408, 2417, 1388, 4011, 2698, 699, 159, 3001, 689, 3314, 2890, 19, 1771, 3844, 2263, 2890, 3204, 2132, 1280, 2520, 763, 2056, 3349, 2894, 95, 58, 2972, 3643, 3844, 4011, 528, 1191, 4011, 4023, 2814, 2062, 4011, 1795, 2132, 95, 1823, 158, 865, 4011, 2172, 2856, 2805, 1414, 4011, 2350, 2746, 3844, 2172, 942, 2324, 4011, 1795, 2132, 95, 1586, 2417, 158, 1700, 3456, 4011, 349, 408, 2417, 2056, 158, 3314, 4011, 2993, 3204, 4011, 58, 2533, 3322, 3363, 3117, 2805, 97, 2398, 3000, 185, 95, 2973, 784, 2569, 4011, 1795, 2066, 2827, 1374, 1357, 4011, 1795, 3036, 3258, 1036, 204, 3844, 4011, 3910, 1388, 4011, 264, 942, 1845, 3844, 4011, 1212, 1337, 4011, 2417, 3322, 870, 1719, 888, 3844, 3215, 463, 1953, 3258, 2972, 204, 942, 1719, 437, 3145, 737, 3657, 1018, 2132, 158, 4011, 2417, 3258, 763, 3959, 3322, 185, 2801, 2552, 2283, 1169, 4011, 3362, 3634, 2294, 3683, 1660, 3145, 2781, 82, 3844, 3849, 3322, 2469, 2890, 1521, 3680, 2132, 2890, 1112, 2283, 4011, 466, 3844, 411, 1388, 608, 3116, 929, 2775, 2360, 1256, 3656, 942, 3145, 2010, 3562, 3833, 2972, 3145, 737, 1093, 1190, 2132, 3833, 869, 1434, 1598, 403, 1902, 1983, 4011, 3630, 3619, 1388, 494, 3713, 2943, 1216, 3322, 2449, 403, 752, 3450, 2890, 1112, 2132, 3866, 4011, 1994, 4023, 1091, 1538, 3221, 4011, 641, 1994, 1521, 2382, 403, 702, 13, 4011, 641, 923, 3187, 2897, 4011, 2050, 3773, 1905, 539, 3844, 2564, 4011, 1014, 3535, 514, 2932, 1388, 4011, 1994, 159, 340, 378, 2154, 3032, 3844, 1924, 3314, 2662, 1593, 1609, 95, 3436, 2418, 1388, 3714, 2894, 1982, 2972, 204, 403, 2154, 2890, 2690, 2498, 3844, 3121, 2251, 4011, 3360, 1693, 746, 2663, 2894, 2965, 2972, 204, 942, 773, 437, 403, 2041, 4011, 1795, 2672, 4011, 2540, 2498, 1169, 2732, 3258, 3959, 2894, 4011, 2626, 2050, 3305, 3844, 3723, 942, 1277, 3844, 4011, 587, 2498, 3901, 1220, 403, 730, 2535, 2894, 153, 888, 1953, 3631, 2972, 204, 942, 2269, 437], [784, 371, 185, 785, 2132, 1628, 4011, 3362, 3314, 2664, 1994, 1676, 1224, 3322, 2468, 1388, 4011, 2739, 3348, 3458, 95, 3362, 3634, 746, 2890, 641, 2037, 2972, 3643, 2897, 2890, 1229, 3844, 4011, 1458, 689, 1256, 244, 3322, 3756, 3844, 4011, 3436, 2361, 2894, 95, 2058, 1256, 641, 942, 3729, 95, 58, 1028, 3844, 4011, 1760, 1388, 4011, 390, 1191, 1107, 4011, 2202, 2325, 1414, 2312, 3283, 3844, 2739, 2132, 2479, 4011, 3348, 2132, 95, 309, 2455, 4011, 1994, 4023, 334, 2102, 95, 174, 1686, 2672, 409, 3981, 3428, 1784, 942, 926, 1700, 865, 4011, 2009, 3283, 2904, 2360, 48, 3314, 4011, 3594, 1326, 2894, 4011, 54, 4004, 1256, 2255, 2764, 4011, 1871, 3542, 1287, 2132, 2102, 95, 852, 960, 3746, 3171, 207, 942, 955, 1112, 3854, 1360, 1205, 4011, 2972, 420, 2132, 1425, 3322, 88, 2041, 4011, 308, 1918, 3728, 2890, 476, 2468, 2010, 1777, 2890, 1415, 88, 2672, 4011, 3535, 514, 3331, 2132, 1294, 1515, 2154, 2132, 3205, 95, 951, 2132, 3891, 2066, 860, 2132, 4011, 965, 3909, 793, 942, 3145, 541, 2132, 3205, 4011, 951, 3145, 3900, 2337, 2382, 3145, 185, 384, 785, 2132, 2102, 95, 3571, 2150, 2449, 4011, 1254, 1994, 1337, 2066, 2563, 1169, 4011, 3362, 3781, 2132, 4011, 2455, 3322, 2468, 3221, 4011, 641, 502, 2939, 2132, 807, 16, 95, 1689, 2483, 3844, 2890, 1229, 2498, 2897, 4011, 3390, 1388, 4011, 2739, 3348, 3844, 2310, 3322, 13, 3221, 4011, 2520, 2591, 182, 2132, 2102, 95, 121, 2972, 3643, 2206, 3006, 1796, 4011, 2931, 1150, 182, 1388, 1288, 3844, 2981, 3322, 1808, 3740, 4011, 833, 2132, 2100, 121, 888, 3844, 3854, 946, 699, 159, 2144, 3844, 1924, 408, 942, 4011, 3762, 4011, 1254, 1994, 4023, 3995, 3117, 946, 130, 2850, 1388, 2890, 842, 1689, 888, 3844, 1924, 942, 403, 2102, 3258, 1689, 888, 3844, 408, 2188, 95, 2483, 3901, 966, 4011, 528, 628, 3822, 95, 1994, 1676, 689, 2932, 1808, 2102, 95, 1689, 2972, 3643, 2206, 67, 262, 1167, 3957, 1850, 942, 3686, 706, 681, 1288, 942, 1277, 1038], [3634, 4011, 1924, 1012, 2818, 3876, 1789, 1170, 3959, 408, 2417, 1521, 3322, 2468, 2213, 2890, 522, 1388, 1114, 4011, 2739, 3348, 1064, 2894, 2890, 641, 1025, 3362, 1388, 4011, 1342, 3442, 784, 1388, 3833, 185, 13, 2890, 641, 2755, 4011, 840, 1994, 4023, 267, 2850, 1388, 95, 3150, 2327, 3314, 738, 2915, 3634, 993, 1757, 3314, 2842, 1107, 4011, 2818, 3876, 1641, 3844, 3480, 689, 3667, 3844, 216, 2894, 1538, 3149, 463, 3226, 2890, 2139, 993, 1735, 4011, 3362, 1700, 2832, 3450, 1736, 2132, 1279, 2890, 1234, 1245, 2282, 1545, 2924, 1169, 3258, 888, 3844, 2890, 641, 3258, 463, 2890, 3436, 2418, 2154, 3164, 2633, 3314, 4011, 1342, 2070, 641, 2102, 863, 3844, 4011, 3657, 641, 1191, 2552, 403, 684, 1735, 4011, 3241, 2361, 2552, 4011, 264, 2939, 2347, 2894, 3258, 1256, 783, 1107, 85, 3265, 279, 942, 3750, 95, 1333, 633, 2098, 417, 1658, 2132, 2009, 2132, 2601, 4011, 3348, 95, 738, 1357, 403, 684, 1735, 4011, 3241, 2361, 2894, 3258, 1583, 1464, 3844, 4011, 1148, 1191, 2382, 2154, 2132, 1941, 2917, 4011, 528, 2132, 1408, 2890, 2520, 2102, 1388, 4011, 453, 2552, 4011, 641, 3656, 2058, 1412, 996, 3117, 2132, 860, 4011, 1191, 4011, 1641, 1993, 4011, 4004, 2132, 269, 3248, 2076, 942, 3322, 2852, 2664, 2894, 2890, 641, 2755, 2132, 1589, 4011, 528, 403, 752, 2482, 137, 1205, 2132, 1339, 1256, 1951, 1131, 633, 2755, 3322, 1123, 2850, 2132, 4004, 2670, 2841, 3844, 4011, 495, 172, 2200, 686, 3634, 1845, 502, 2939, 2317, 2171, 271, 3322, 702, 1660, 3016, 3314, 3938, 3245, 2894, 784, 2755, 784, 2972, 3643, 3914, 204, 942, 842, 437, 1641, 1994, 641, 938, 67, 1363, 2766, 2327, 3314, 3883, 2890, 3436, 2418, 1221, 1414, 2778], [1994, 641, 938, 2468, 3322, 702, 2360, 388, 1440, 2672, 95, 1676, 689, 159, 3204, 403, 2154, 693, 1749, 2894, 2890, 1014, 3204, 4011, 3535, 514, 3844, 216, 2382, 281, 1745, 2847, 2132, 3300, 877, 1388, 2247, 2205, 565, 1197, 403, 952, 4011, 500, 1808, 693, 2256, 2132, 2819, 2066, 3132, 52, 3204, 2070, 1014, 1939, 4011, 1756, 3820, 1795, 1388, 4011, 2698, 699, 159, 3001, 3753, 3740, 2132, 258, 1342, 1749, 3844, 95, 1542, 1388, 3219, 942, 2309, 2132, 4018, 4011, 4023, 3322, 2697, 3827, 867, 2552, 95, 641, 938, 2382, 752, 3205, 1036, 1388, 95, 502, 2939, 3844, 52, 1170, 2498, 3322, 326, 3631, 2972, 204, 861, 3844, 2269, 204, 2894, 95, 3287, 2098, 1388, 1259, 3322, 702, 2010, 3033, 95, 3647, 839, 2847, 2132, 4011, 2336, 942, 1168, 3205, 1388, 1440, 2132, 4011, 2751, 1299, 774, 2898, 2779, 3737, 1902, 1514, 1408, 388, 1722, 1107, 1668, 3507, 1414, 38, 95, 3647, 839, 3314, 3833, 752, 3205, 2066, 1421, 3740, 1507, 4011, 1299, 1538, 807, 1048, 746, 3208, 1857, 1414, 641, 3656, 2132, 258, 4011, 3341, 2498, 403, 1168, 1863, 2894, 2270, 2082, 95, 1545, 1263, 2939, 2132, 1717, 1414, 641, 3656, 3739, 502, 2939], [4011, 2739, 3348, 807, 2154, 2066, 1380, 2721, 2448, 2436, 1490, 942, 3275, 1429, 829, 1700, 2060, 3822, 3314, 3854, 4011, 3800, 4011, 3348, 807, 113, 1917, 2839, 3753, 1091, 3841, 1256, 244, 4011, 3348, 421, 2066, 1539, 2894, 1994, 774, 2468, 3322, 1256, 95, 3647, 2262, 689, 839, 4011, 839, 1914, 1091, 3205, 2552, 1366, 2552, 95, 3452, 1653, 2436, 3739, 3991, 95, 3516, 3198, 2436, 2529, 3145, 737, 2839, 3843, 1414, 3396, 4011, 3348, 2832, 3448, 2132, 3972, 3198, 2382, 641, 938, 3322, 1808, 4011, 1208, 2132, 3919, 2557, 2850, 3844, 52, 3844, 3341, 3322, 702, 3634, 2341, 3660, 95, 2898, 1414, 4011, 1095, 1388, 2814, 2382, 4011, 1208, 2132, 3205, 2066, 2391, 2932, 942, 3991, 3450, 4011, 641, 3656, 1105, 3314, 4011, 1008, 3638, 3959, 702, 3862, 3322, 702, 2066, 3158, 2436, 3314, 654, 1399, 2552, 403, 398, 647, 1863, 1735, 554, 4011, 556, 1808, 1268, 3314, 3901, 813, 1414, 1758, 3002, 1155, 403, 398, 647, 3553, 109, 2093, 2382, 403, 1711, 1507, 3314, 1700, 2894, 2890, 337, 1414, 4011, 420, 403, 1808, 2102, 865, 95, 2633, 3436, 2418, 3844, 646, 1388, 2890, 1170, 738, 1593, 3514, 1192, 378, 942, 3001, 1254, 1924, 942, 408, 2890, 3829, 3436, 2098, 1192, 4011, 3258, 2144, 702, 343, 2529, 702, 4, 2132, 3450, 4011, 430, 2102, 3854, 2294, 942, 1994, 2072, 807, 1710, 869, 835, 52, 3322, 702, 3634, 2341, 3660, 2245, 95, 1049, 1256, 4011, 1676, 689, 1064, 2382, 403, 3597, 534, 4011, 1208, 2132, 1817, 2281, 1507, 1414, 641, 3656, 3739, 3450, 95, 2347, 3324, 2740, 2894, 4011, 3204, 3322, 1808, 1398, 1726, 1414, 641, 3656, 2382, 2894, 2890, 678, 403, 702, 1091, 2355, 2132, 3920, 2894, 2890, 109, 2565, 1256, 4011, 3283, 4011, 1319, 1388, 2816, 1726, 2894, 2066, 3400, 1995, 1414, 4011, 420, 752, 1673, 1777, 95, 1713, 2347, 662, 3314, 4011, 3348, 2382, 3322, 1808, 2132, 49, 3822, 403, 2781, 209, 3844, 4011, 3762, 554, 403, 3116, 2408, 13, 2894, 4011, 1979, 143, 4011, 3348, 807, 324, 3097, 702, 1514, 2132, 1279, 4011, 3280, 2132, 2347, 3901, 2498, 766, 3097, 752, 2309, 2609, 3322, 702, 95, 396, 3001, 3816, 302, 942, 95, 1209, 3001, 1039, 1116, 3844, 2010, 842, 1593, 3844, 4011, 3001, 884, 1253, 2678, 3844, 4011, 378, 403, 185, 2244, 4011, 1521, 1388, 4011, 689, 3844, 751, 766, 3322, 702, 1036, 1388, 95, 1354, 2939, 3991, 2894, 2890, 2537, 1234, 403, 702, 3096, 3822, 2890, 3850, 2408, 1902, 2374, 3679, 3844, 52, 3901, 702, 2597, 4011, 2823, 3108, 3822, 3854, 117, 2072, 807, 95, 1285, 1057, 3844, 1354, 869, 835, 52, 4011, 704, 3314, 2070, 3338, 3740, 3844, 52, 752, 3489, 2132, 66, 4014, 1414, 3901, 830, 3844, 2890, 3829, 4014, 3844, 2890, 450, 185, 3211, 4011, 3076, 1388, 4011, 1992, 1129, 2404, 191, 1337, 4011, 3488, 4014, 2839, 1808, 4011, 3338, 2132, 3027, 1256, 95, 1676, 689, 1064, 3844, 95, 918, 2740, 2382, 403, 702, 3597, 1256, 4011, 1228, 2384, 2890, 4021, 1169, 3341, 1481, 3844, 4011, 813, 2070, 678, 942, 420, 337, 576, 4014, 3675, 1472, 2552, 1917, 563, 1777, 2132, 2234, 4011, 420, 339, 4011, 671, 3734, 3314, 3595, 3507, 3322, 1902, 807, 2132, 49, 1140, 3844, 2, 2132, 1279, 4011, 1458, 689, 1064, 2382, 1700, 185, 1703, 3822, 403, 1808, 3883, 3713, 3844, 472, 3289, 403, 2781, 1294, 33, 1253, 1700, 702, 2960, 2802, 3822, 3322, 1902, 1279, 95, 1676, 2391, 3844, 4011, 258, 1388, 4011, 2498, 403, 3282, 807, 95, 522, 2132, 3450, 4011, 1717, 1049, 1414, 641, 3656, 2672, 2171, 271, 271, 702, 2850, 1388, 2262, 689, 2284, 1472, 1733, 95, 878, 1388, 95, 551, 3289, 3322, 3116, 1279, 4011, 579, 1064, 3346, 1700, 702, 95, 2948, 897, 2921, 4011, 3348, 1412, 95, 2731, 2566, 2894, 3322, 3289, 403, 398, 2421, 1700, 1902, 3122, 4011, 3348, 1008, 2132, 1956, 3289, 403, 3282, 96, 392, 2931, 3322, 1902, 2986, 4011, 3619, 403, 2724, 1459, 1725, 3823, 1252, 95, 415, 1717, 880, 1452, 1256, 2890, 3514, 1234, 3322, 1168, 722, 253, 1735, 3822, 2740, 942, 1729, 95, 1504, 391, 3844, 2739], [4011, 1756, 3820, 1795, 3772, 142, 1388, 3722, 95, 2921, 2894, 4023, 3322, 2468, 1652, 185, 4011, 3299, 1708, 2932, 3844, 4011, 2698, 699, 159, 408, 2417, 1170, 1220, 1169, 4011, 860, 1388, 1170, 2498, 3322, 2798, 2890, 2309, 2132, 3027, 3844, 1676, 689, 159, 2382, 403, 1808, 1091, 1640, 2598, 95, 3204, 2294, 3683, 1703, 1256, 3442, 3822, 4011, 2411, 3944, 3078, 354, 3766, 4011, 3350, 1388, 2436, 95, 2921, 2894, 3322, 3844, 1786, 4011, 3204, 2154, 2397, 2449, 4011, 3330, 3314, 2568, 2894, 3322, 185, 172, 1342, 3576, 1840], [2818, 3876, 0, 4011, 2818, 3876, 1850, 2341, 1426, 3889, 2132, 3906, 3851, 409, 2946, 1483, 394, 2850, 1388, 2890, 2921, 1169, 1008, 2498, 2382, 1917, 1914, 3889, 2132, 258, 1506, 3289, 102, 2769, 2150, 3314, 3833, 1464, 1850, 787, 2996, 3780, 399, 172, 569, 3362, 1107, 4011, 1077, 2592, 1610, 514, 3822, 1483, 2154, 1845, 2813, 961, 3901, 628, 95, 2810, 1630, 3822, 1952, 2664, 2132, 3864, 2890, 3903, 2117, 1483, 1698, 1822, 3844, 95, 2757, 3362, 2897, 1755, 3016, 2540, 95, 3631, 1495, 2132, 4011, 3369, 3332, 3261, 3844, 3362, 2842, 1388, 4011, 2895, 689, 346, 2417, 403, 1787, 2894, 2266, 2607, 3844, 2890, 3465, 1831, 2890, 641, 3258, 1593, 2894, 4011, 1850, 942, 4011, 1365, 3221, 21, 905, 869, 403, 1703, 2132, 1342, 1749, 3844, 1492, 403, 2178, 542, 1886, 2132, 2570, 95, 1665, 1855, 1256, 1215, 3938, 2946, 2891, 3361, 2487, 2132, 3205, 2066, 1365, 1464, 3314, 4011, 1850, 2817, 3585, 3879, 1271, 1483, 2122, 2890, 3465, 3964, 1755, 3016, 95, 1220, 2132, 4011, 453, 1169, 2890, 1170, 258, 3314, 4011, 1850, 2382, 185, 2839, 372, 310, 869, 1342, 1749, 1423, 3844, 475, 1786, 403, 185, 2178, 2910, 825, 3314, 95, 3633, 277, 2132, 2607, 3844, 4011, 1831, 2931, 2453, 2890, 1613, 2839, 392, 3907, 4011, 955, 3507, 403, 18, 95, 1494, 1130, 3362, 1170, 626, 942, 2290, 3109, 2414, 2382, 2931, 4011, 565, 1388, 2890, 771, 961, 863, 2132, 1950, 2239, 3869, 993, 2132, 3450, 95, 1542, 720, 2132, 2666, 1388, 3950, 3901, 3928, 825, 942, 2931, 1408, 2664, 2281, 1256, 4011, 1531, 3780, 2449, 3145, 2863, 4011, 2853, 628, 220, 3316, 220, 3869, 993, 2132, 807, 2664, 2281, 2107, 2382, 2931, 2582, 95, 961, 3844, 4011, 3224, 1388, 1342, 942, 2931, 2894, 3901, 2929, 1280, 95, 961, 942, 3145, 2298, 3600, 1598, 786, 4011, 1965, 702, 4011, 1850, 2551, 1789, 1808, 693, 1715, 3634, 3771, 3114, 2672, 1249, 2042, 661, 942, 2696, 165, 1652, 807, 2679, 2132, 2772, 946, 3264, 204, 942, 2071, 888, 3844, 3137, 2548, 2382, 2894, 1115, 235, 1170, 1593, 52, 3272, 3816, 1660, 2551, 3314, 4011, 216, 3039, 564, 3608, 1338, 3844, 4011, 3281, 3822, 1483, 1168, 2492, 3391, 220, 3889, 2664, 2281, 2382, 220, 3889, 2664, 2281, 2412, 3780, 2449, 1483, 1652, 3437, 95, 2947, 3304, 3713, 2921, 1824, 2132, 4011, 1277, 2498, 185, 1060, 2890, 641, 3258, 1593, 2894, 4011, 1850, 403, 3837, 95, 2392, 1579, 942, 2633, 3272, 3844, 2299, 2548, 2890, 641, 1220, 942, 863, 2281, 2894, 95, 1582, 833, 942, 231, 3272, 3844, 273, 2548, 3844, 2540, 563, 3959, 20, 2552, 4011, 2341, 2842, 97, 3907, 2970, 473, 942, 235, 1652, 807, 2679, 3314, 842, 222, 1584, 2189, 403, 185, 392, 1256, 3404, 2132, 3621, 1027, 2548, 3844, 4011, 641, 3914, 3959, 1388, 2890, 2921, 942, 2986, 2066, 1391, 600, 1169, 1008, 2498, 869, 102, 3205, 3061, 3959, 3898, 942, 2839, 3844, 4011, 450, 1388, 2890, 3829, 1660, 4011, 1850, 2035, 3339, 825, 95, 3793, 3822, 1808, 1729, 3854, 470, 1875, 2894, 1483, 95, 1549, 3822, 2060, 2132, 1408, 1426, 942, 1036, 3924, 3634, 4011, 453], [4011, 1850, 2298, 3600, 2846, 554, 2132, 395, 2672, 2946, 1483, 3901, 2498, 2382, 4011, 409, 399, 2255, 554, 403, 2318, 1388, 1140, 2552, 403, 3491, 2132, 2886, 95, 1747, 2132, 2818, 3876, 1483, 2621, 2955, 1414, 3253, 3664, 2958, 3844, 1254, 1924, 3822, 403, 1704, 2318, 2132, 3205, 95, 3807, 1388, 4011, 1850, 3281, 137, 838, 453, 1483, 2154, 1831, 1886, 1256, 2890, 2009, 1855, 3844, 1215, 942, 1414, 1488, 3953, 4011, 431, 2672, 2280, 95, 1886, 702, 1737, 3985, 1836, 344, 2382, 2890, 1886, 3116, 1091, 1419, 181, 327, 2570, 1441, 2063, 2890, 43, 3314, 3035, 2132, 1818, 1065, 1555, 1808, 693, 993, 392, 942, 3998, 693, 3994, 1980, 253, 2188, 95, 551, 1483, 2449, 2847, 2132, 95, 2336, 3634, 4011, 2205, 565, 1197, 3145, 2863, 3145, 3540, 3205, 3589, 2132, 1408, 3844, 2282, 785, 1099, 2132, 3205, 972, 3314, 1342, 1749], [2946, 1483, 1766, 2910, 825, 2552, 403, 1959, 2890, 3519, 2281, 2672, 1831, 1886, 1256, 913, 1850, 787, 2996, 3780, 2449, 403, 1072, 1483, 2132, 2077, 95, 3903, 2117, 3901, 626, 2382, 2239, 2458, 3780, 952, 1483, 185, 2839, 2200, 2435, 2281, 3780, 2028, 1280, 3597, 1091, 95, 961, 2382, 3807, 1388, 4011, 3075, 2000, 2918, 3862, 702, 2341, 162, 3314, 1483, 2132, 2077, 2890, 1008, 3903, 2117, 3780, 2449, 2382, 4011, 1789, 2154, 95, 1463, 3191, 2933, 2764, 1917, 2781, 2281, 3117, 942, 2931, 1266, 1700, 1507, 1464, 2382, 2582, 2341, 162, 869, 1321, 993, 2132, 258, 3465, 1464, 869, 3576, 1423, 4011, 1850, 2449, 1917, 1072, 1483, 2132, 2150, 3844, 95, 3480, 689, 3362, 1483, 1140, 399, 2890, 3828, 3869, 2132, 1839, 4011, 3204, 3844, 1215, 1279, 1374, 3114, 942, 4005, 2425, 2548, 3635, 29, 1729, 3985, 942, 3985, 1514, 2552, 403, 1766, 103, 1483, 2209, 2607, 3844, 2890, 2009, 2457, 1169, 3465, 95, 3903, 2117, 1256, 1714, 2965, 403, 1808, 1091, 2046, 2897, 1414, 388, 830, 3844, 4011, 3106, 3780, 969, 1483, 1902, 1278, 2890, 3465, 3964], [986, 720, 149, 2946, 1483, 2672, 4011, 587, 2498, 942, 3314, 95, 104, 3490, 2672, 1831, 1886, 1980, 453, 702, 2022, 2894, 3749, 1256, 3349, 2552, 403, 1100, 1483, 212, 95, 3904, 152, 3903, 2117, 1850, 787, 2996, 3780, 2868, 1598, 1483, 752, 794, 1738, 405, 2482, 1483, 1147, 3635, 2820, 1256, 913, 869, 403, 906, 95, 2254, 1388, 1219, 942, 4011, 2567, 1330, 1388, 2607, 2132, 1083, 95, 3874, 3298, 1777, 95, 1950, 3465, 2117, 2894, 2280, 2473, 2710, 4011, 819, 2894, 2529, 4011, 1850, 1902, 1045, 1483, 3901, 1342, 4011, 3204, 2862, 2132, 2150, 2664, 3844, 3480, 689, 2883, 942, 142, 403, 1902, 2557, 3576, 2552, 95, 994, 1388, 4011, 3710, 3281, 2382, 3461, 3780, 872, 3588, 1388, 159, 1770, 3265, 3845, 1168, 2246, 95, 511, 3314, 2891, 431, 2132, 846, 2332, 220, 3854, 2191, 2664, 2132, 3205, 972, 838, 453, 3845, 2449, 1337, 95, 1134, 2117, 2894, 2955, 2552, 4011, 3075, 3507, 942, 2499, 1703, 2132, 1281, 1158, 403, 3282, 220, 1294, 1280, 2010, 1280, 2316, 3314, 3762, 2132, 1294, 1700, 4011, 1545, 3519, 942, 1294, 1700, 3844, 3844, 95, 3519, 3822, 869, 403, 3731, 2281, 1321, 2281, 3314, 2282], [296, 2241, 0, 2597, 554, 1168, 3205, 2552, 1736, 2552, 95, 3633, 1192, 3903, 788, 3490, 2818, 3876, 1850, 4004, 2946, 1483, 2028, 244, 3822, 403, 702, 1091, 3698, 2270, 2666, 1388, 961, 1483, 1652, 2839, 702, 1256, 4011, 968, 1169, 1831, 1886, 3844, 1215, 1170, 18, 95, 3903, 2117, 1414, 1850, 3576, 1256, 913, 2890, 2520, 3903, 1388, 4011, 1342, 942, 403, 2449, 403, 1914, 1091, 2077, 1845, 784, 3314, 1845, 3258, 720, 1255, 404, 2010, 2206, 3854, 4011, 87, 3854, 4011, 1162, 942, 2555, 1917, 807, 1626, 1483, 2449, 817, 2066, 636, 1169, 4011, 2520, 3903, 2117, 3901, 185, 4011, 239, 2132, 2808, 33, 3145, 737, 2010, 993, 3342, 2894, 3822, 942, 3145, 794, 2414, 2891, 1342, 544, 3209, 185, 1414, 95, 1036, 3115, 3404, 1836, 4011, 2808, 1388, 2890, 2412, 1112, 403, 3902, 1072, 2281, 1735, 4011, 1676, 689, 3281, 2917, 1215, 2569, 2664, 95, 1194, 1220, 2132, 2844, 2672, 2890, 1886, 3862, 702, 3597, 2341, 1219, 403, 2449, 685, 1169, 4011, 3262, 3607, 807, 2300, 3439, 2607, 4011, 2884, 3898, 702, 2341, 182, 869, 1700, 3731, 2132, 1618, 2672, 1886, 403, 542, 95, 1067, 1210, 714, 3844, 3659, 1253, 403, 185, 2839, 3844, 3571, 3018, 2552, 3314, 2890, 3371, 2220, 2557, 1192, 3465, 788, 1483, 796, 1700, 2552, 1737, 3822, 185, 1072, 404, 3657, 1702, 942, 1768, 2894, 4011, 2485, 1917, 807, 187, 608, 403, 2449, 1917, 807, 187, 608, 628, 2132, 2808, 942, 1917, 807, 1626, 3854, 3901, 2850, 2555, 1917, 2154, 187, 404, 2010, 1018, 2894, 3822, 3991, 187, 4011, 1067, 1210, 1886, 3822, 3145, 2154, 172, 3862, 1902, 3205, 2282, 1012, 942, 2353, 1012, 3607, 2010, 807, 2132, 1637, 1700, 2850], [296, 2241, 0, 1253, 4011, 2818, 3876, 1850, 3753, 2815, 1507, 1342, 1749, 3901, 3633, 2946, 1483, 702, 2010, 3710, 2890, 787, 2996, 3780, 2449, 1483, 1902, 2077, 95, 3408, 3903, 2117, 244, 942, 2931, 258, 1142, 466, 3844, 1269, 3436, 478, 3634, 4011, 626, 4011, 409, 1652, 2154, 1831, 1886, 1170, 1220, 1808, 693, 3844, 3576, 2769, 2897, 4011, 1850, 1703, 3844, 1786, 2382, 1058, 3626, 865, 4011, 3412, 2793, 3991, 3994, 2066, 2220, 2557, 2132, 446, 2607, 1434, 3289, 1483, 702, 1962, 1256, 95, 1342, 1749, 2485, 1660, 869, 3507, 752, 3280, 2132, 1269, 3143, 3309, 999, 2072, 3561, 3844, 3576, 3780, 2449, 1882, 2961, 95, 2567, 1342, 1696, 2640, 3219, 1716, 3822, 1483, 702, 3851, 3914, 3219, 2924, 2672, 3554, 95, 2300, 3662, 1734, 1388, 3262, 1269, 3143, 942, 2883, 2523, 3914, 720, 1253, 105, 95, 2150, 2553, 3844, 1980, 258, 1700, 3066, 3822, 1483, 752, 3205, 972, 2132, 2150, 3844, 2883, 2188, 2291, 3634, 4011, 2520, 3633, 1388, 1215, 2009, 3196, 702, 953, 3739, 1091, 1483, 1902, 2150, 3844, 2262, 689, 2883, 1169, 2890, 1342, 1749, 1734, 702, 212, 3739, 3289, 403, 752, 1839, 4011, 1850, 2931, 403, 2154, 3481, 693, 1072, 2132, 431, 2132, 4011, 3204, 3844, 1215, 2382, 2890, 2220, 2557, 1414, 4011, 258, 1388, 2019, 72, 1414, 95, 2753, 431, 1483, 702, 784, 1388, 3258, 1850, 3710, 3507, 1072, 2132, 431, 2132, 4011, 1939, 172, 4011, 1039, 2557, 717, 2571, 1652, 2154, 1067, 1210, 1886, 1170, 510, 1808, 2066, 1619, 385, 1388, 1114, 1414, 1488, 3258, 3114, 3314, 4011, 1850, 172, 4011, 382, 683, 2557], [97, 3413, 305, 185, 399, 3349, 2132, 3205, 3740, 2132, 2331, 2281, 1886, 942, 3798, 3544, 933, 4011, 2498, 784, 453, 1169, 97, 2946, 1483, 2122, 3698, 701, 3844, 2890, 9, 2009, 1831, 702, 4011, 1850, 3710, 3281, 3844, 2173, 3819, 1735, 4011, 3341, 2498, 1253, 787, 2996, 3780, 2449, 3822, 2891, 701, 481, 95, 961, 942, 3822, 2890, 3092, 3638, 720, 1388, 2808, 702, 95, 749, 2155, 1280, 2839, 1091, 95, 2414, 3972, 3314, 4011, 409, 1652, 2832, 2150, 3314, 4011, 3125, 1492, 2498, 403, 13, 1046, 95, 37, 1388, 3114, 3844, 2540, 277, 2132, 1965, 33, 1321, 879, 4011, 1531, 2010, 2965, 1012, 3844, 4011, 3412, 3258, 3959, 403, 13, 1787, 2894, 554, 3780, 796, 2552, 2567, 2607, 1337, 95, 3903, 2117, 2010, 865, 95, 3633, 3093, 4011, 2500, 787, 2449, 3822, 1483, 702, 3851, 3258, 3219, 3907, 4011, 2808, 1388, 4011, 2551, 1789, 1483, 2449, 2582, 3597, 2341, 1219, 942, 3835, 2010, 2300, 2607, 2382, 4011, 409, 542, 2890, 1831, 714, 1170, 1215, 33, 3901, 1168, 3880, 3205, 905, 3739, 1414, 1488, 1987, 2545, 2890, 3341, 1229, 1169, 3854, 4011, 1994, 643, 1169, 2890, 1886, 3822, 403, 185, 3715, 1388, 4011, 1855, 2293, 3844, 2890, 1831, 2769, 2897, 403, 542, 2066, 954, 3851, 3258, 3959, 1824, 33, 1280, 1635, 2132, 1639, 3822, 4011, 1831, 185, 1036, 3777, 2897, 403, 1822, 3314, 3822, 3276, 1253, 3884, 1253, 4011, 1850, 2492, 3491, 3314, 4011, 731, 537, 3844, 1773, 1388, 929, 3125, 2551, 1789, 3634, 914, 305, 942, 1178, 3566, 2311, 942, 2042, 661, 3844, 2351, 1197, 1845, 1847, 2685, 2672, 1483, 702, 993, 2132, 3122, 3833, 1258, 4011, 3586, 2597, 1114, 1538, 623, 3114, 3844, 3258, 52, 1593, 185, 3812, 3053, 865, 3822, 1655, 993, 1230, 2894, 95, 1349, 3272, 688, 2148, 942, 1510, 2459, 3844, 606, 2548, 132, 2672, 473, 1321, 3908, 4011, 1008, 3230, 2641, 1256, 4011, 3125, 3204, 1660, 3822, 305, 942, 717, 2571, 1902, 1036, 1836, 1514, 3544, 1414, 1488, 933, 4011, 2498, 4011, 1850, 1902, 3434, 1256, 95, 37, 1388, 1402, 91, 1020, 3844, 661, 3949, 3294, 3983, 1588, 1172, 3322, 3452, 305, 942, 2696, 165, 2132, 3880, 1279, 2066, 2391, 3844, 4011, 3710, 3281, 3901, 702, 4011, 1170, 1544, 3822, 4011, 1939, 2427, 1169, 3909, 1115, 235, 2132, 4011, 216, 3039, 2382, 2582, 2839, 2242, 1388, 628, 2132, 3596, 4011, 2000, 3361, 1388, 1483, 2552, 392, 2552, 4011, 1208, 1388, 3635, 503, 2132, 2407, 2850, 4011, 52, 1064, 3819, 1735, 3341], [1483, 2946, 1784, 4011, 2818, 3876, 1850, 4004, 1652, 702, 3994, 2344, 1749, 1169, 703, 1831, 1886, 3756, 172, 2890, 2972, 88, 1256, 3442, 1483, 2041, 2890, 3204, 1414, 4011, 3075, 838, 3362, 1414, 1280, 2972, 697, 1388, 4011, 3386, 2746, 3844, 2818, 3876, 403, 3602, 2132, 4011, 3204, 946, 2949, 1169, 3881, 2344, 1749, 3844, 296, 216, 2672, 154, 3145, 737, 3657, 1702, 2132, 3205, 2281, 3844, 2818, 3876, 1065, 2344, 1749, 702, 709, 1923, 1065, 1831, 702, 3844, 2282, 705, 942, 1062, 702, 709, 392, 403, 2449, 1256, 2890, 2520, 1269, 2551, 2551, 1749, 3634, 2677, 95, 1871, 768, 1256, 3442, 610, 3681, 3145, 737, 1072, 2132, 1294, 1845, 1269, 2551, 1749, 2117, 172, 3994, 4011, 1531, 1414, 2066, 4022, 3362, 4011, 37, 1388, 1833, 403, 1694, 1414, 1269, 2551, 788, 702, 13, 2588, 2063, 2890, 3204, 3116, 1091, 2192, 2891, 3760, 544, 993, 2261, 118, 3346, 3822, 1483, 3766, 2066, 4022, 3362, 2747, 2402, 3822, 403, 1168, 431, 2132, 2883, 172, 2827, 2753, 95, 511, 3762, 3683, 2154, 2584, 1483, 1652, 185, 1710, 3881, 2890, 649, 3131, 2065, 2087, 403, 1168, 1091, 807, 2890, 2403, 2667, 1337, 2344, 1749, 735, 2132, 95, 3696, 1169, 4011, 3683, 2563], [2818, 3876, 1850, 4004, 1483, 2946, 2009, 95, 1749, 3576, 3844, 296, 216, 1256, 3442, 942, 2008, 4011, 3204, 3145, 3602, 2132, 2818, 3876, 3314, 4011, 641, 628, 3844, 946, 2949, 403, 2449, 1483, 2154, 1886, 1256, 2890, 2009, 1831, 1170, 2498, 942, 3569, 4011, 2773, 2498, 1256, 4011, 3642, 557, 1647, 3844, 4011, 1749, 3576, 2132, 1304, 1256, 2344, 3289, 2315, 498, 392, 2552, 1626, 403, 1902, 3205, 3589, 2132, 1279, 95, 431, 2132, 4011, 1458, 689, 3844, 3213, 3739, 2753], [2818, 3876, 1850, 4004, 1483, 2946, 1784, 1652, 702, 3994, 2344, 1749, 1169, 1886, 1914, 807, 95, 961, 3844, 2890, 544, 1388, 3035, 2132, 4011, 1531, 3145, 2863, 4011, 2853, 628, 220, 3316, 220, 3869, 993, 2132, 807, 2664, 2281, 2107, 2382, 3862, 185, 95, 961, 2827, 3844, 1342, 3224, 1388, 1342, 1850, 787, 2996, 3780, 2449, 1700, 702, 4011, 641, 628, 3822, 1483, 1808, 2959, 1388, 1219, 3844, 2890, 1657, 955, 1836, 4011, 1831, 3822, 403, 542, 1886, 3844, 1215, 1170, 1220, 2747, 1639, 1700, 702, 3835, 698, 3822, 2890, 1219, 702, 1091, 3844, 2890, 1831, 1483, 1565, 2132, 1279, 4011, 1064, 3314, 4011, 1593, 838, 3362, 2382, 702, 703, 95, 1426, 2344, 1650, 277, 2132, 2890, 1831, 1219, 3844, 1786, 220, 3889, 2664, 2281, 2382, 220, 3889, 2664, 2281, 2412, 3780, 2449, 1321, 2839, 3464, 1276, 2132, 3814, 2890, 2457, 3844, 1099, 2382, 3869, 993, 2132, 3450, 95, 1542, 1388, 720, 2132, 3950, 3901, 3928, 825, 172, 220, 1408, 2664, 2281, 1256, 4011, 1531], [1288, 1575, 0, 4011, 62, 113, 2066, 903, 1092, 2132, 158, 4011, 1705, 853, 2132, 1254, 1994, 641, 938, 3516, 3198, 1170, 3633, 2382, 2321, 2850, 2132, 4011, 589, 3945, 1703, 4011, 589, 2085, 1092, 185, 3147, 3713, 2382, 1917, 2035, 3972, 4011, 415, 1354, 2939, 3628, 3061, 720, 4011, 3544, 1256, 3198, 3116, 1091, 1633, 4011, 62, 2850, 1388, 4011, 1994, 3758, 1917, 807, 1440, 3844, 269, 282, 354, 1652, 702, 971, 2132, 1381, 4011, 3929, 2861, 3901, 3633, 2132, 3769, 2132, 2079, 601, 2411, 354, 2814, 702, 95, 1732, 1243, 1652, 1808, 2154, 95, 3796, 1388, 3850, 2551, 546, 3844, 1924, 942, 408, 354, 552, 4011, 3408, 956, 1808, 1541, 4011, 1170, 3258, 3959, 2551, 3314, 4011, 3673, 1906, 3844, 408, 172, 3822, 403, 1822, 1156, 3959, 3844, 1924, 3901, 3412, 2498, 3844, 408, 354, 2766, 3690, 2894, 95, 2229, 3272, 942, 1586, 1685, 403, 1004, 2850, 2892, 942, 868, 3215, 3844, 2953, 2665, 2548, 354, 2814, 702, 558, 2894, 95, 23, 3272, 3844, 2415, 2883, 3844, 1924, 942, 408, 1321, 1135, 2680, 2883, 1253, 4000, 3160, 2459, 942, 3938, 2128, 2125, 1156, 2548, 3452, 2788, 62, 3588, 1388, 159, 1770, 2449, 3442, 3822, 4011, 62, 3869, 3838, 2654, 1256, 2080, 4011, 191, 3901, 813, 3822, 702, 21, 379, 2206, 4011, 565, 3822, 2978, 2527, 1168, 3544, 3807, 1388, 510, 2206, 1886, 1256, 2890, 1545, 1831, 4011, 3903, 118, 1168, 2021, 388, 1638, 1020, 4011, 3947, 3979, 3837, 4011, 2716, 3272, 3844, 4011, 2670, 3901, 1220, 1414, 3711, 2382, 993, 825, 4011, 3618, 1700, 185, 2011, 3822, 787, 469, 1325, 2427, 1845, 662, 251, 3975, 1577, 942, 2393, 3139, 2944, 354, 3179, 3198, 702, 95, 2351, 3462, 942, 3282, 1091, 807, 2132, 2650, 817, 4011, 3228, 1650, 1994, 2824, 3007, 1493, 702, 1072, 2132, 3205, 3837, 3844, 4011, 3741, 3106, 4011, 62, 807, 535, 1493, 2382, 1280, 2519, 3289, 1642, 1279, 95, 1092, 1256, 2664], [3915, 2351, 3462, 2393, 282, 354, 702, 3226, 2307, 3314, 3144, 3634, 1994, 1844, 2847, 2132, 3620, 565, 3167, 3844, 1924, 1638, 3117, 3258, 3959, 3844, 2023, 3001, 3844, 2529, 403, 1828, 1251, 1685, 2125, 2498, 3314, 4011, 3673, 1906, 354, 1808, 693, 3096, 2132, 1279, 4011, 1195, 1735, 1676, 689, 159, 1414, 1095, 2814, 3844, 1430, 2548, 354, 1382, 95, 3829, 23, 3272, 2894, 95, 3160, 2138, 942, 3938, 3485, 2013, 476, 185, 2596, 3844, 1648, 1337, 2066, 2307, 1388, 2890, 1014, 1806, 1677, 1997, 1388, 4011, 1904, 2919, 206, 974, 1388, 4011, 1904, 854, 2417, 3844, 975, 4011, 3204, 35, 946, 2072, 2206, 1790, 1388, 2408, 3144, 1953, 1997, 2188, 593, 946, 2072, 4011, 2919, 206, 2766, 1256, 2132, 3058, 4011, 1994, 2417, 2132, 4011, 1534, 2507, 2847, 2132, 1295, 1997, 1203, 95, 2840, 2894, 95, 1415, 2776, 994, 2132, 1989, 1854, 3144, 667, 3844, 493, 2552, 392, 2552, 4011, 529, 1700, 702, 1091, 2011, 3822, 2270, 1860, 3212, 1808, 727, 354, 2132, 4011, 3144, 83, 766, 565, 1388, 2013, 518, 2638, 2308, 1538, 1169, 894, 1414, 4011, 732, 2236, 637, 894, 2681, 2290, 136, 95, 557, 1388, 1344, 1652, 2346, 4011, 3140, 3844, 493, 4011, 1008, 253, 3314, 4011, 1218, 702, 2132, 3090, 953, 354, 942, 1997, 1547, 101, 766, 95, 162, 3314, 2013, 885, 702, 1091, 1640, 3740, 2013, 3462, 3103, 3233, 261, 2192, 354, 702, 1414, 95, 2534, 830, 1388, 2436, 95, 2773, 2921, 2894, 95, 2698, 699, 159, 3001, 3739, 2066, 52, 3204, 942, 403, 3186, 2132, 2011, 92, 2552, 1827, 2552, 518, 3540, 354, 2738, 95, 885, 403, 1902, 1279, 2011, 317, 942, 1704, 215, 2894, 4011, 1907, 2307, 1994, 1012, 354, 185, 3481, 971, 2132, 1040, 1414, 4011, 2448, 2760, 1170, 3633, 3844, 2470, 2382, 3116, 1091, 1279, 4011, 211, 1661, 2850, 1388, 3249, 3314, 4011, 2307, 3540, 4011, 2307, 2011, 2890, 476, 354, 1902, 3205, 2351, 2132, 3972, 2894, 2270, 3204, 2552, 2066, 3664, 2351, 3462, 2890, 1014, 3204, 4011, 3673, 1906, 2154, 2397, 3772, 1440, 3844, 914, 4011, 2393, 3314, 95, 1194, 2531, 1507, 1256, 282, 354, 1953, 2890, 1214, 2423, 4011, 3408, 956, 1381, 2572, 1127, 3804], [388, 159, 1390, 3753, 3376, 4011, 3394, 1388, 2506, 3377, 2854, 942, 4011, 2484, 104, 3359, 3328, 3744, 2885, 255, 3916, 942, 2450, 1520, 2885, 2102, 95, 1211, 1388, 2972, 204, 3916, 2901, 95, 3796, 1388, 2459, 942, 1520, 1945, 1046, 95, 3362, 1256, 3910, 1388, 2200, 291, 3635, 3753, 3854, 388, 1348, 3591, 1390, 2982, 2200, 33, 2282, 1414, 614, 466, 3822, 1344, 1327, 3607, 95, 2903, 1388, 2459, 1882, 1348, 632, 740, 1026, 144, 745, 1457, 413, 1599, 3314, 52, 1422, 2189, 3289, 1276, 1340, 2850, 2552, 1072, 3901, 2448, 220, 1914, 807, 1845, 2317, 3314, 3817, 2423, 3844, 4011, 2971, 1994, 2393, 282, 354, 3186, 2132, 3027, 3844, 4011, 2971, 942, 702, 1072, 2132, 2819, 2894, 3075, 3901, 2448, 4011, 840, 1808, 1090, 388, 3053, 1843, 3844, 563, 4011, 1924, 159, 340, 942, 2698, 699, 2067, 2572, 1322, 2954, 2997, 1327, 2664, 4011, 1384, 3388, 1388, 1924, 3844, 2890, 1127, 2410, 3289, 3822, 481, 785, 4011, 1651, 2393, 702, 552, 4011, 3408, 956, 2847, 2132, 52, 333, 1891, 3822, 1808, 2132, 3205, 784, 1388, 4011, 3230, 1390, 1205, 942, 1280, 2426, 291, 3314, 95, 2393, 1452, 1256, 2890, 1234, 2672, 4011, 378, 942, 4011, 3001, 220, 752, 395, 1782, 3075, 2132, 1522, 2242, 1388, 1440, 3844, 354, 3844, 1156, 1593, 3844, 1924, 942, 3258, 3844, 408, 354, 1808, 1090, 95, 23, 3272, 1321, 4012, 3117, 95, 2498, 2894, 4011, 3673, 1906, 3844, 2529, 403, 2154, 95, 2952, 3272, 942, 1586, 1685, 403, 1004, 2850, 2892, 3241, 3844, 2953, 2665, 2548, 3853, 95, 3204, 702, 3385, 2132, 612, 1256, 3635, 3053, 3084, 1700, 2487, 4011, 3408, 956, 1902, 1868, 2890, 1859, 2132, 1676, 689, 159, 1008, 1220, 4011, 2853, 1544, 3259, 3762, 1388, 95, 1476, 3362, 3607, 2169, 33, 1151, 865, 4011, 762, 1388, 4011, 3362, 2132, 3926, 3393, 3062, 4011, 1481, 3062, 942, 226, 3753, 3636, 785, 2382, 2931, 3607, 3621, 4011, 3408, 1191, 0, 3739, 2902, 3844, 3901, 537, 1414, 4011, 860, 1388, 3822, 2902, 3598, 4011, 3408, 956, 1321, 1948, 1836, 3299, 2382, 3289, 3607, 2781, 348, 2132, 3926, 2664, 2668, 1919, 4011, 3362, 740, 4007, 1902, 651, 3612, 3410, 61, 3314, 88, 1414, 889, 1280, 912, 4011, 3376, 2423, 3314, 95, 2393, 942, 1700, 1711, 3762, 2191, 2132, 2116, 3314, 354, 1114, 1700, 3844, 4011, 2971, 3252, 1408, 2132, 807, 3854, 4011, 3411, 2552, 1700, 702, 1917, 1408, 929, 1322, 131, 3671, 1476, 783, 3687, 942, 3045, 1390, 2010, 2863, 1388, 4011, 3324, 1388, 1522, 2066, 52, 3204, 1168, 3420, 3314, 95, 2932, 552, 4011, 3408, 956], [1997, 1677, 1251, 942, 354, 282, 207, 1652, 3869, 1085, 2188, 489, 3634, 141, 1414, 95, 3102, 1388, 2606, 3713, 1919, 3314, 422, 362, 3144, 2292, 807, 693, 1132, 3476, 3822, 3162, 3833, 2672, 1823, 3244, 1388, 3854, 2883, 3634, 4011, 1924, 159, 340, 1256, 913, 1997, 1652, 185, 3030, 2672, 95, 557, 1388, 2317, 2072, 1414, 4011, 2919, 206, 1170, 1220, 942, 354, 1652, 1063, 2132, 2437, 2890, 2921, 2894, 4011, 3673, 1906, 1388, 2294, 795, 159, 3753, 2624, 2351, 1928, 2188, 3123, 3314, 3901, 2358, 378, 996, 929, 431, 2132, 4011, 378, 689, 2552, 4011, 3706, 2672, 2529, 929, 3476, 1902, 3450, 1448, 2552, 95, 1885, 3289, 4011, 3258, 2072, 1839, 1994, 159, 3075, 3628, 3901, 2498, 1917, 1902, 1091, 3205, 3733, 2132, 3027, 2552, 95, 2932, 3844, 1091, 1538, 4011, 1909, 689, 2382, 13, 4011, 2151, 689, 3844, 3624, 2883, 2672, 4011, 628, 1917, 526, 2552, 2072, 2894, 378, 1980, 3204, 702, 3740, 2132, 3027, 95, 2323, 1388, 153, 2883, 1337, 4011, 587, 2498, 3901, 1220, 2552, 4011, 1270, 1388, 3476, 3314, 4011, 3258, 2072, 1808, 693, 240, 2473, 702, 1660, 2654, 1256, 929, 762, 1388, 60, 993, 2261, 3074, 3179, 354, 282, 1652, 702, 2273, 2132, 1305, 2132, 4011, 3762, 1676, 689, 159, 953, 1997, 1652, 2839, 1662, 1388, 2699, 3130, 2552, 95, 1809, 4004, 1902, 431, 2132, 4011, 1531, 3739, 1091, 1808, 1729, 95, 234, 3429, 95, 2176, 1414, 378, 2449, 1272, 283, 702, 1091, 33, 1893, 3075, 1902, 3218, 1700, 515, 2132, 3855, 1997, 1677, 3991, 3634, 3614, 929, 1322, 410, 4011, 831, 3634, 378, 1902, 1514, 3512, 2552, 95, 1202, 3314, 406, 4011, 1270, 1388, 3476, 3314, 3509, 1363, 942, 1996, 1053, 2672, 2919, 1652, 3753, 2839, 3226, 2855, 2307, 3314, 4011, 54, 2292, 1915, 2137, 2629, 663, 1388, 378, 2449, 220, 3601, 3017, 2087, 2307, 702, 2839, 2147, 1256, 3509, 1363, 942, 1996, 1053, 118, 3289, 1917, 3753, 187, 3742, 3476, 1669, 2132, 3822, 3314, 1997, 1677, 942, 354, 282, 1917, 1902, 3205, 1132, 95, 1669, 3494, 1388, 74, 3634, 378, 2552, 392], [159, 2932, 354, 282, 3632, 3909, 2890, 2294, 2921, 3289, 403, 702, 847, 3314, 362, 3144, 2408, 3673, 1906, 2449, 3349, 1700, 752, 3531, 4011, 2921, 2894, 4011, 2932, 3289, 403, 702, 1152, 354, 702, 2839, 2200, 707, 942, 3862, 702, 95, 3350, 3822, 403, 1902, 3205, 3950, 3117, 4011, 168, 3673, 702, 1705, 2894, 354, 2132, 2437, 2890, 2921, 2382, 1808, 1660, 2290, 3569, 503, 3314, 95, 1470, 1777, 1924, 408, 702, 675, 228, 3844, 1240, 2894, 3144, 413, 3520, 942, 4011, 3327, 2377, 2060, 2132, 807, 693, 3726, 3822, 95, 1994, 355, 340, 702, 3333, 3844, 4011, 1701, 2013, 43, 3844, 1924, 1245, 3991, 3985, 2335, 2890, 1014, 3204, 2919, 206, 1808, 3209, 3071, 1806, 1997, 1677, 1652, 702, 13, 3154, 1388, 3144, 3844, 493, 2382, 4011, 3762, 702, 2839, 2066, 662, 1200, 3050, 1388, 4011, 1462, 159, 689, 1652, 185, 3071, 865, 95, 1313, 1701, 2482, 2041, 95, 2262, 689, 3204, 3844, 2081], [3369, 3332, 3261, 2549, 3664, 2921, 2436, 1254, 1994, 4004, 1566, 3469, 354, 2132, 95, 784, 1220, 839, 1414, 494, 2174, 2894, 95, 3204, 662, 3844, 2589, 3862, 185, 2341, 3228, 1922, 277, 2132, 354, 2200, 95, 2351, 3462, 3822, 185, 154, 2662, 3341, 1169, 4011, 2436, 354, 2154, 2132, 431, 2132, 2890, 568, 195, 2132, 2738, 2292, 1388, 3144, 2066, 1581, 2529, 1254, 1924, 2767, 228, 3971, 1107, 3314, 568, 1254, 1727, 3862, 702, 1538, 784, 1204, 585, 942, 570, 1313, 260, 3753, 1091, 3733, 118, 3862, 3753, 3215, 3140, 3314, 3573, 1538, 354, 3342, 2894, 1014, 1524, 3254, 4004, 1997, 1677, 942, 2013, 1014, 1806, 3869, 1152, 3226, 1254, 1994, 538, 354, 185, 219, 738, 3713, 3314, 1313, 1392, 95, 3102, 3730, 2132, 1138, 3844, 4011, 3929, 2861, 2125, 4011, 3003, 2672, 2057, 0, 4011, 1994, 159, 340, 1481, 2102, 563, 2072, 2894, 1149, 617, 1169, 894, 1152, 3833, 3314, 1313, 1205, 1251, 3713, 1919, 1682, 1980, 1414, 95, 585, 3844, 493, 3844, 2540, 4011, 718, 1788, 185, 3314, 2883, 3032, 3844, 1254, 1924, 1538, 1530, 354, 266, 2132, 408, 2132, 3339, 2890, 3829, 3342, 2894, 3994, 1927, 1388, 2890, 141, 3102, 403, 487, 2995, 1388, 2890, 34, 1783, 2132, 431, 2132, 4011, 2861, 176, 3901, 3412, 237, 2894, 1783, 3844, 1263, 354, 942, 2890, 3462, 3342, 2894, 95, 2438, 3561, 1414, 3555, 3180, 2746, 1811, 403, 2041, 3844, 4011, 3834, 3146, 2894, 4011, 2808, 1388, 4011, 3261, 2827, 2115, 3822, 185, 1169, 403, 2154, 684, 3117, 2890, 1747, 1388, 2704, 3409, 405, 1169, 2890, 3527, 403, 185, 1434, 3851, 2890, 2791, 2200, 3844, 4011, 2861, 403, 3103, 3822, 1700, 185, 1875, 2277, 2087, 1700, 185, 159, 4011, 1656, 3869, 993, 2132, 3759, 1000, 2413, 1169, 2890, 3527, 942, 404, 4, 2894, 4011, 987, 1388, 4011, 3261, 340, 354, 702, 1072, 2132, 3205, 3844, 4011, 3903, 3314, 3276, 3699, 13, 2132, 2407, 1003, 388, 2989, 3117, 27, 725, 942, 1814, 1120, 563, 2200, 1392, 126, 224, 3844, 4011, 1492, 2498, 3844, 4011, 3261, 239, 403, 1902, 3205, 4011, 1732, 104, 3314, 3261, 2393, 2905, 3285, 3289, 95, 532, 3540, 3095, 403, 1902, 3205, 1327, 224, 2132, 1707, 4011, 2814, 1220, 3898, 354, 1808, 3603, 3829, 2883, 3844, 1254, 1924, 942, 408, 354, 702, 316, 2894, 95, 23, 3272, 2894, 2717, 2459, 3844, 1604, 2665, 2548, 403, 13, 185, 95, 994, 1388, 4011, 1198, 1874, 1254, 1994, 755, 3204, 3844, 1117, 942, 1911, 4011, 195, 3844, 4011, 3247, 159, 3201, 3844, 3121, 2968, 942, 1277, 2057, 3088, 922, 1566, 3469, 354, 0, 1640, 1845, 3771, 2457, 3314, 4011, 3261, 3145, 2298, 3351, 3289, 3145, 3869, 4011, 2379, 3145, 752, 3450, 2814, 1220, 3898, 354, 3314, 981, 1817], [3819, 1735, 3901, 2498, 691, 3284, 3822, 4011, 3261, 752, 807, 95, 3657, 2282, 3903, 2894, 3035, 995, 1777, 27, 3691, 1814, 1120, 2905, 3285, 942, 3208, 3165, 3299, 2874, 3284, 3822, 3862, 3753, 3657, 3638, 3075, 1652, 2781, 4019, 2894, 4011, 3261, 3844, 1773, 1388, 3903, 3955, 118, 2451, 3739, 1091, 3822, 3609, 2132, 1994, 159, 88, 3844, 4011, 641, 2793, 1388, 4011, 2498, 282, 354, 1808, 959, 2552, 784, 1388, 4011, 3299, 2495, 3507, 3844, 3901, 3903, 3907, 3285, 942, 3691, 3844, 3013, 0, 3690, 2548, 3901, 1220, 2529, 89, 3507, 3844, 4011, 3903, 354, 702, 738, 2894, 95, 1454, 3272, 942, 3215, 2459, 1036, 764, 403, 1808, 95, 970, 2148, 784, 1388, 4011, 3230, 924, 3314, 95, 3727, 3699, 4004, 702, 3822, 403, 398, 3950, 4011, 960, 1408, 3891, 3844, 3027, 95, 3796, 942, 2277, 30, 2850, 4011, 1871, 3885, 4011, 2989, 2672, 4011, 1726, 3907, 2664, 2894, 4011, 3261, 3881, 2066, 21, 1048, 1726, 3907, 2664, 554, 354, 702, 3464, 702, 3991, 1036, 3053, 2013, 2012, 3443, 702, 2950, 4011, 3299, 3797, 3881, 998, 621, 3241, 3901, 1220, 403, 1808, 3215, 2459, 2569, 2664, 95, 1580, 2012, 1559, 2894, 4011, 2204, 1388, 2890, 941, 3844, 3822, 1634, 3254, 3362, 1169, 4011, 3276, 1237, 2545, 3844, 2529, 403, 2671, 1507, 3258, 204, 563, 204, 863, 1169, 3870, 2518, 1046, 95, 5, 852, 960, 354, 1808, 693, 3376, 1256, 4011, 2498, 403, 702, 13, 2551, 3844, 3571, 2989, 1869, 3844, 4011, 1156, 2883, 403, 1822, 3901, 1220, 2640, 1388, 3833, 3869, 3844, 95, 3362, 2538, 3634, 2842, 3739, 3985, 204, 354, 841, 2890, 3492, 2132, 4011, 3903, 2552, 95, 3657, 3528, 4004, 1652, 787, 3983, 2554, 2781, 2553, 1256, 3844, 423, 1972, 1869, 1016, 3844, 95, 3362, 1107, 4011, 1038, 208, 354, 1822, 3314, 1757, 2548, 942, 2832, 1522, 2270, 1343, 1388, 516, 2870, 3822, 403, 2781, 3810, 2548, 1507, 3314, 4011, 3903, 3289, 3889, 3205, 403, 1808, 13, 1822, 3844, 4011, 1659, 1191, 2740, 2882, 95, 1357, 3314, 3285, 1388, 762, 4011, 2498, 702, 2839, 1584, 942, 220, 2298, 807, 785, 3250, 2132, 3919, 2026, 1598, 95, 4004, 1902, 3205, 3844, 3901, 689, 21, 784, 1652, 1808, 1822, 3844, 95, 1972, 195, 3314, 2890, 3125, 3829, 118, 2894, 3822, 2200, 2449, 354, 1808, 1268, 464, 3289, 403, 3549, 1507, 3901, 2902, 1388, 3850, 663, 3318, 1210, 908, 2102, 95, 1501, 2894, 3901, 813, 2436], [3261, 1732, 104, 282, 354, 2910, 4011, 589, 825, 3844, 784, 1191, 1256, 2255, 3658, 2341, 888, 942, 3645, 2850, 784, 0, 3087, 17, 3516, 3198, 1888, 2391, 1700, 185, 95, 1713, 258, 3314, 354, 1652, 3540, 3205, 95, 1985, 3314, 4011, 3261, 1732, 2740, 2132, 2393, 2905, 3285, 3285, 702, 95, 1060, 2393, 2382, 702, 1091, 1553, 942, 354, 752, 1514, 3205, 4011, 641, 2132, 3450, 865, 3314, 2664, 3540, 403, 3199, 3844, 3341], [3261, 1732, 104, 282, 354, 2154, 2066, 2096, 3260, 1256, 3442, 3645, 2850, 4011, 1329, 3844, 4011, 495, 1191, 1888, 2391, 354, 702, 1640, 2132, 2772, 95, 3643, 2850, 1388, 4011, 3261, 3903, 3901, 2498, 942, 1808, 1004, 2850, 3914, 1388, 4011, 1719, 3241, 403, 1808, 998, 2552, 4011, 3362, 185, 650, 869, 403, 1822, 403, 3138, 2341, 300], [3261, 1732, 104, 282, 354, 1779, 95, 3163, 3960, 1191, 2894, 784, 2012, 4008, 4011, 1992, 1129, 2404, 1256, 2255, 1888, 2391, 354, 1808, 693, 2096, 3901, 1342, 1736, 2688, 1836, 4011, 3903, 3083, 1205, 2664, 3901, 2498, 3844, 95, 689, 2529, 161, 2767, 942, 1685, 403, 1215, 3205, 784, 1388, 4011, 3299, 1708, 2032, 2188, 95, 2740, 1809, 3901, 1342], [4011, 3915, 4023, 185, 4011, 2909, 2176, 1388, 191, 3314, 4011, 2556, 2092, 589, 1444, 2239, 167, 2890, 2520, 2483, 3844, 4011, 1170, 946, 2883, 3198, 89, 4011, 3204, 3844, 4011, 3276, 960, 2727, 2382, 702, 2559, 1414, 4011, 420, 3616, 1545, 3342, 2894, 4011, 2808, 1388, 2890, 1112, 1321, 3495, 3676, 865, 2892, 463, 3844, 2890, 641, 2498, 1512], [817, 3137, 2883, 3844, 3341, 589, 813, 1527, 3516, 3198, 1808, 2102, 1558, 2894, 646, 2972, 204, 942, 3409, 531, 2360, 2560, 1414, 95, 3257, 1559, 2890, 1536, 3152, 702, 2716, 1256, 4011, 589, 1888, 2391, 3901, 702, 3851, 554, 220, 1072, 2672, 3198, 95, 2866, 1057, 3844, 2890, 3616, 1234, 3844, 4011, 378, 2382, 2839, 95, 1060, 442, 3844, 4011, 52, 2894, 2242, 1388, 1724, 403, 1808, 1004, 2850, 1013, 1012, 3844, 2838, 463, 2529, 702, 1737, 403, 1902, 807, 2132, 2061, 224, 2132, 3700, 3844, 4011, 52], [1700, 185, 240, 1445, 3634, 1951, 3545, 1388, 744, 1141, 3822, 4011, 2092, 589, 2154, 3735, 4011, 2085, 1092, 1388, 3147, 3713, 2132, 1265, 2894, 81, 1994, 641, 938, 3516, 3198, 1652, 2102, 3389, 2894, 1740, 2972, 204, 942, 110, 531, 2678, 3314, 4011, 1803, 3312, 1170, 2498, 118, 1472, 4011, 2998, 1808, 1859, 403, 3701, 834, 4011, 589, 3988, 1925, 942, 2333, 3822, 95, 839, 2781, 3205, 1004, 1192, 563, 2225, 3844, 4011, 1008, 3061, 720, 1902, 3205, 95, 1851, 1916, 2630, 2672, 95, 3619, 886, 2285, 95, 1092, 3314, 3198, 3902, 95, 2353, 831, 1256, 2604, 3807, 3634, 2270, 3618, 1388, 4011, 3222, 2188, 2104, 1929, 3822, 807, 1640, 2132, 3205, 812, 3233, 627, 4011, 3075, 3640, 3314, 1008, 2498, 702, 2624, 1414, 2396, 3713, 2125, 967, 1700, 185, 1414, 1035, 3713, 3844, 1492, 392, 2848, 4011, 2442, 3956, 2770, 942, 3862, 702, 2602, 2132, 2383, 3822, 3862, 1902, 3205, 95, 430, 192, 3844, 1700, 137, 3341, 3844, 4011, 767, 1388, 3198, 3289, 2341, 839, 702, 1004, 2092, 828, 1280, 3147, 3713, 373, 942, 3198, 3688, 2281, 2132, 1803, 3314, 1008, 2498, 2341, 3939, 2341, 479, 3276, 756, 1767, 4011, 3204, 2781, 200, 2664, 2382, 1472, 3198, 1168, 31, 3205, 1388, 95, 2414, 2407, 2132, 95, 589, 3204, 3822, 2766, 329, 3844, 1492, 1980, 158, 3951, 2010, 3226, 2665, 3713, 403, 4013, 834, 2604, 1925, 3077, 4011, 589, 650, 3314, 668, 3844, 52, 2894, 907, 204, 1451, 2382, 4015, 940, 2894, 95, 3204, 3436, 2418, 1388, 2010, 2375, 942, 3707, 3844, 2560, 3443, 45, 1414, 2010, 1781, 2092, 13, 4015, 3317, 2894, 95, 3204, 855, 3443, 1388, 669, 942, 2497, 2894, 3791, 2972, 204, 1736, 1388, 3635, 1234, 4006, 2781, 3205, 2469, 2132, 2858, 3283, 4011, 589, 2585, 3713, 682, 3713, 3844, 1492, 2746, 3822, 1423, 3844, 751, 1739, 2066, 860, 2132, 826, 946, 2038, 1388, 589, 159, 1414, 4011, 635, 3197, 3353, 1201, 1785, 3901, 3844, 2968, 4011, 589, 3408, 1220, 1414, 4011, 1201, 4011, 3204, 4015, 1148, 3844, 3436, 2418, 1497, 3844, 2972, 204, 264, 3844, 45, 942, 1212, 3844, 855, 3443, 3510, 2532, 2132, 4011, 2670, 2236, 346, 1693, 4011, 2206, 1220, 1472, 4011, 3204, 113, 4011, 3266, 1464, 2092, 736, 2132, 3654, 3844, 2972, 204, 2382, 2409, 1148, 3844, 3436, 2418, 942, 2213, 2132, 2520, 3844, 45, 942, 349, 3844, 855, 1472, 2213, 4011, 155, 3844, 1354, 185, 1450, 3822, 2858, 3283, 185, 1091, 1414, 3854, 95, 466, 3198, 4011, 54, 3519, 4011, 1201, 185, 2894, 1538, 3914, 2072, 746, 2755, 318, 3844, 2972, 204, 2705, 2132, 2640, 3844, 2968, 2529, 2271, 4011, 1720, 2132, 4011, 1008, 830, 2597, 1667, 1859, 641, 3656, 702, 2624, 615, 3844, 2092, 3634, 1209, 3436, 3816, 942, 1014, 2670, 1521, 3248, 3479, 993, 2281, 2132, 2968, 1415, 951, 3479, 185, 4011, 2932, 88, 863, 2132, 1235, 3844, 2092, 3822, 1220, 2597, 1250, 826, 95, 2793, 1388, 3667, 2132, 258, 4011, 2498, 403, 332, 52, 2894, 95, 1005, 3436, 2418, 1253, 13, 855, 2029, 2972, 204, 2894, 7, 531, 2552, 403, 2135, 4011, 2499, 1049, 1806, 2627, 358, 890, 641, 3656, 942, 2102, 3990, 2894, 3061, 2972, 204, 942, 2831, 531, 942, 1700, 185, 1072, 3822, 4011, 3258, 752, 3339, 2132, 3891, 1507, 3910, 3955, 3844, 4011, 2773, 2746], [3862, 807, 693, 95, 37, 1388, 1276, 3822, 693, 135, 3851, 4011, 258, 1388, 3341, 3314, 4011, 2092, 589, 0, 4011, 591, 258, 1126, 711, 36, 3436, 2418, 942, 3854, 1276, 1723, 1010, 2382, 784, 1544, 3822, 1698, 4024, 702, 1994, 182, 3516, 1667, 2565, 2132, 2102, 383, 2972, 204, 3198, 0, 95, 2998, 1652, 2102, 1823, 4011, 3412, 3258, 1593, 3844, 1924, 0, 1698, 2154, 4011, 3012, 3280, 1735, 52, 2529, 3902, 3854, 3822, 3748, 1321, 2839, 746, 2010, 2655, 2382, 1276, 807, 693, 2688, 1525, 403, 2154, 842, 888, 3844, 4011, 1170, 3258, 2883, 1953, 95, 2483, 3844, 1980, 3362, 1839, 95, 213, 508, 1888, 159, 3754, 1660, 3607, 2781, 1235, 3289, 3198, 2781, 2102, 1845, 1256, 3349, 869, 4011, 589, 3027, 4011, 629, 76, 991, 702, 3057, 1862, 1805, 1280, 4011, 52, 2351, 3362, 1388, 4011, 453, 1182, 1256, 213, 1141, 942, 3607, 2781, 844, 1700, 1269, 942, 3314, 2351, 1256, 973, 1141, 2972, 52, 3296, 942, 1476, 2972, 2552, 3314, 3198, 842, 1388, 2890, 738, 888, 3901, 2498, 807, 693, 130, 942, 151, 3854, 693, 1348, 1284, 22, 2890, 641, 2483, 1388, 4011, 2498, 185, 1153, 1414, 3310, 32, 3634, 1438, 2102, 904, 3872, 4011, 2520, 3536, 1388, 4011, 2498, 1530, 3806, 3085, 748, 2064, 2154, 1700, 1414, 2094, 1817, 3519, 1700, 534, 3822, 869, 3198, 1743, 3650, 2850, 1845, 3661, 3370, 1388, 3901, 756, 702, 1598, 3716, 1344, 3844, 1924, 1408, 3851, 1667, 3850, 2010, 832, 2132, 4011, 1994, 619, 106, 1388, 2890, 130, 3893, 3045, 3822, 2666, 1388, 1358, 398, 3889, 1111, 501, 1395, 1667, 1845, 559, 2533, 1994, 2477, 2765, 3188, 0, 3524, 3545, 2784, 510, 1166, 3341, 501, 1395, 1667, 3525, 2858, 3283, 2483, 2016, 32, 1994, 2477, 1102, 2765, 2434, 0, 3524, 3545, 2784, 510, 3215, 3341, 1215, 3516, 3198, 3814, 746, 2267, 942, 1215, 1994, 3193, 3814, 993, 3379, 869, 403, 3282], [2092, 589, 938, 3198, 3516, 2102, 2890, 349, 2483, 1388, 4011, 2498, 3198, 3782, 4011, 3241, 2361, 2552, 2890, 3075, 349, 942, 502, 1871, 3844, 95, 3362, 1107, 4011, 1567, 1636, 1414, 874, 458, 3198, 3844, 2751, 2202, 1256, 3442, 1415, 628, 869, 403, 2102, 95, 3641, 2483, 2894, 95, 850, 3468, 1388, 356, 32, 3851, 634, 436, 2132, 4011, 306, 2248, 1446, 3844, 4011, 3910, 1388, 4011, 495, 1191, 2897, 2890, 1676, 689, 1229, 1700, 185, 4011, 2520, 628, 1169, 403, 2102, 95, 2483, 817, 3395, 2941, 2718, 1414, 4011, 3362, 1107, 629, 1256, 510, 1166, 3179, 3299, 955, 2980, 1652, 572, 2132, 2718, 2362, 3198, 2102, 1491, 3739, 1784, 3244, 1388, 4011, 274, 130, 3822, 403, 2102, 3844, 4011, 1994, 795, 689, 817, 3395, 2941, 449, 2894, 4011, 2483, 3198, 1808, 3181, 1091, 1538, 2890, 2341, 2327, 1049, 3844, 130, 3844, 2890, 3204, 2382, 13, 4011, 3910, 120, 3844, 130, 413, 4011, 182, 2072, 3844, 4011, 2367, 689, 4011, 2501, 2932, 3844, 130, 413, 4011, 182, 2072, 3844, 4011, 2367, 689, 702, 3610, 2198, 3914, 4011, 1036, 3145, 3450, 4011, 3241, 2361, 3844, 2883, 942, 3145, 549, 3507, 1833, 4011, 1036, 3142, 3145, 3421, 3198, 2449, 3145, 304, 3681, 3854, 4011, 1036, 869, 3145, 3450, 4011, 3241, 2361], [2092, 589, 1994, 4023, 3198, 3516, 2154, 2890, 1148, 2483, 1388, 4011, 2498, 3844, 95, 2972, 3362, 1107, 4011, 629, 76, 1388, 4011, 1676, 689, 159, 2529, 3782, 120, 1414, 4011, 3364, 2858, 3283, 3844, 2092, 1256, 2255, 1415, 628, 1700, 185, 2066, 1366, 2483, 403, 1973, 3198, 3516, 453, 2529, 403, 3036, 3258, 720, 1169, 746, 2066, 927, 2483, 2894, 95, 850, 3468, 1388, 1350, 436, 3822, 403, 160, 3844, 4011, 3362, 1107, 4011, 2818, 3876, 1641, 1256, 2105, 2552, 4011, 495, 1871, 942, 502, 2939, 3198, 3782, 4011, 3241, 2361, 2552, 4011, 641, 1871, 3844, 4011, 1760, 1388, 4011, 528, 1191, 2894, 4011, 1339, 3784, 2814, 403, 2102, 95, 1460, 3641, 2483, 3822, 1004, 4011, 3910, 315, 1388, 4011, 588, 783, 3844, 4011, 2789, 2181, 1446, 3117, 4011, 809, 3075, 3710, 4004, 1159, 305, 869, 3198, 2102, 4011, 2483, 4011, 1447, 657, 3822, 2890, 3594, 1161, 4011, 1803, 3312, 1388, 4011, 1994, 795, 159, 752, 2021, 3569, 3475, 1700, 702, 4011, 641, 628, 3822, 3198, 2102, 95, 2483, 817, 3395, 2941, 2718, 2897, 2890, 1229, 3844, 4011, 1676, 689, 869, 403, 2102, 3258, 3594, 130, 403, 3900, 1256, 3111, 2382, 403, 3900, 1256, 95, 1970, 1686, 1256, 4011, 453, 1169, 95, 2755, 3027, 942, 2483, 3844, 4011, 2520, 942, 528, 2548, 3026, 3198, 2154, 95, 2102, 3844, 4011, 1760, 1388, 4011, 264, 1191, 2132, 1829, 3620, 888, 3314, 4011, 641, 628, 2897, 2890, 1458, 689, 1229, 403, 13, 374, 2890, 3436, 2418, 2132, 4011, 1757, 2902, 2859, 3314, 3901, 2498, 4011, 3362, 185, 2798, 2552, 1327, 3362, 277, 2132, 1237, 3844, 4011, 3910, 1388, 4011, 349, 1191, 2092, 1919, 2044, 4011, 453, 185, 502, 2552, 3198, 3516, 2040, 453, 3634, 2092, 2132, 2911, 88, 1652, 3550, 3314, 3198, 2890, 3204, 3008, 3198, 3516, 2040, 3739, 502, 2339, 3314, 1447, 2664, 1256, 4011, 453, 88, 1652, 3869, 3564, 3844, 4011, 2339, 3869, 981, 95, 3952, 3456, 2894, 2092, 589, 3844, 1994, 2372, 2552, 95, 1047, 4011, 3204, 13, 3048, 1994, 2183, 942, 931, 3886, 113, 1388, 931, 3198, 3516, 2040, 2529, 185, 3891, 3844, 120, 1256, 4011, 2520, 3852, 1388, 4011, 2181, 1446, 1205, 4011, 1148, 3656, 3124, 185, 33, 3397, 3822, 1663, 3314, 4011, 315, 3869, 3854, 3048, 2850, 3198, 3516, 13, 3138, 3844, 2992, 4011, 838, 2551, 2046, 3634, 1608, 2465, 1994, 2367, 942, 3444, 1189, 3944, 1388, 2289, 1816, 3004, 423, 1994, 2054, 1000, 3844, 2092, 863, 2132, 1235, 4011, 3362, 942, 1700, 752, 807, 693, 3367, 3289, 3145, 2799, 1389, 3198, 2449, 1169, 4011, 3362, 1700, 185, 698, 3822, 3145, 2799, 392, 942, 2572, 3204, 1919, 4011, 3362, 3145, 737, 33, 2043, 2132, 4011, 3204, 3314, 2569, 95, 522, 2132, 95, 2773, 2738, 2447, 2611, 3982, 1784, 1388, 4011, 1171, 3712, 3032, 3844, 95, 1741, 3362, 2552, 95, 994, 1388, 3360, 95, 3314, 4011, 641, 628, 2897, 68, 2066, 1965, 3844, 2871, 1170, 1220, 3844, 95, 3362, 1107, 4011, 3935, 3431, 3279, 3709, 2843, 648, 2611, 3569, 2552, 1148, 1871, 942, 1148, 938, 1388, 3455, 3360, 95, 3204, 2193, 3837, 2341, 2102, 784, 1769, 942, 784, 3643, 2672, 946, 1012, 1414, 371, 1256, 4011, 453], [501, 1395, 3198, 702, 1256, 4011, 3126, 3314, 95, 1148, 763, 3362, 2552, 4011, 589, 2738, 409, 3552, 3694, 942, 4011, 2118, 712, 3198, 2634, 1777, 95, 2282, 2887, 2132, 3027, 1107, 95, 85, 2382, 787, 397, 507, 2766, 2894, 3248, 3479, 1414, 641, 3656, 3479, 702, 95, 3829, 1050, 2939, 1107, 3694, 2894, 3258, 2972, 204, 3479, 13, 702, 95, 1846, 977, 2203, 1107, 352, 3901, 2498, 2382, 3289, 3198, 3768, 3027, 1660, 869, 2781, 403, 4011, 1994, 159, 340, 1934, 4011, 502, 2939, 33, 3901, 702, 1845, 2701, 3314, 95, 4023, 1652, 2154, 946, 2972, 204, 3844, 2890, 3594, 842, 2883, 172, 3848, 3027, 1872, 2890, 1578, 4011, 589, 3753, 2656, 1094, 2212, 1960, 3844, 3692, 1388, 1307, 1643, 4011, 1939, 1528, 4011, 689, 2681, 942, 3138, 3295, 2132, 3501, 4011, 2212, 4011, 1939, 1902, 1522, 1094, 1237, 1414, 2858, 3283, 2574, 1008, 2132, 2858, 3283, 1414, 3761, 1862, 1644, 1862, 1894, 942, 4011, 1939, 1902, 807, 754, 3314, 4011, 1307, 1094, 784, 1137, 533, 3362, 1414, 2858, 3283, 3314, 3069, 2523, 2932, 1902, 807, 95, 1643, 1121, 657, 869, 403, 3668, 2363, 2967, 2154, 95, 557, 1388, 1643, 857, 942, 185, 993, 1507, 2132, 2072, 1445, 672, 3833, 2132, 1266, 95, 657, 404, 1442, 3822, 128, 3902, 784, 1388, 4011, 175, 1294, 3607, 275, 1598, 1151, 1700, 702, 2132, 3891, 101, 95, 1424, 557, 1388, 1643, 857, 470, 1736, 3799, 2552, 1072, 2582, 1956, 2744, 2894, 2967, 942, 2575, 775, 775, 185, 2260, 1256, 1552, 3622, 2924, 2579, 1263, 3993, 1169, 4011, 3408, 2850, 185, 113, 3844, 4011, 589, 2455, 865, 629, 1700, 332, 2132, 1674, 3822, 3862, 185, 1054, 1192, 4011, 3258, 2382, 1956, 1168, 3205, 1987, 2672, 4011, 3887, 3869, 1942, 775, 2449, 1014, 119, 3584, 1706, 702, 1256, 4011, 3642, 557, 2894, 95, 2912, 3291, 3439, 2253, 1645, 95, 3392, 994, 1388, 4011, 1260, 2622, 702, 2066, 2514, 746, 1564, 3314, 4011, 3556], [732, 1215, 2842, 2205, 0, 3198, 3516, 1388, 4011, 2092, 589, 2102, 4011, 641, 3360, 1388, 2890, 1676, 689, 3829, 2255, 1107, 4011, 2751, 1299, 3198, 2956, 4011, 1022, 2367, 689, 222, 1584, 1232, 3187, 3440, 3543, 3314, 95, 58, 3360, 3844, 4011, 3910, 1388, 4011, 264, 1114, 1700, 3098, 589, 1414, 874, 458, 3198, 3844, 2751, 2894, 3996, 1414, 641, 942, 2520, 2894, 784, 2850, 3198, 926, 2066, 3579, 3189, 1686, 865, 2089, 2888, 3537, 2686, 122, 563, 146, 2972, 4011, 2228, 412, 3543, 2672, 4011, 3362, 1700, 185, 1667, 2520, 2102, 3844, 3149, 463, 2894, 146, 3844, 1176, 115, 3198, 1652, 2154, 95, 1658, 3117, 3543, 3844, 4011, 2520, 90, 4011, 471, 919, 2894, 3258, 437, 942, 95, 3643, 1451, 1122, 2890, 2418, 2132, 2018, 4011, 589, 2766, 1256, 2132, 158, 2987, 3844, 4011, 2895, 689, 354, 282, 1388, 4011, 3369, 3332, 3261, 1779, 784, 3376, 1191, 1107, 4011, 805, 1030, 1414, 2972, 4011, 1254, 1994, 269, 3782, 865, 2672, 97, 1725, 499, 3844, 4011, 349, 942, 2427, 2010, 2662, 1833, 2132, 1473, 4011, 1329, 3844, 2, 354, 1412, 233, 1068, 1107, 66, 3192, 942, 2068, 1001, 942, 1029, 2345, 2673, 1256, 95, 2748, 2132, 2089, 2890, 3272, 1660, 285, 1414, 1611], [501, 1395, 3198, 2102, 95, 2972, 3643, 1107, 4011, 76, 1170, 3633, 3844, 4011, 2417, 1371, 501, 1395, 3198, 1100, 95, 3139, 305, 2962, 1721, 3412, 1414, 2461, 3189, 1337, 4011, 2520, 1191, 3442, 477, 942, 1412, 95, 781, 1256, 1280, 599, 1169, 243, 95, 1318, 3172, 470, 3056, 403, 2297, 3314, 4011, 2662, 2150, 1845, 1686, 618, 3574, 2132, 4011, 641, 942, 3198, 185, 972, 403, 2161, 2890, 371, 1735, 4011, 2150, 942, 898, 1700, 2502, 2132, 1080, 3283, 26, 1414, 2520, 3656, 2894, 95, 1589, 2755, 95, 3638, 1999, 2482, 3198, 1451, 1256, 95, 1797, 163, 1658, 2132, 2601, 4011, 589, 95, 3938, 1357, 1700, 185, 95, 2282, 1500, 3314, 4011, 3049, 589, 2382, 13, 1911, 95, 2262, 2074, 3314, 4011, 2998, 1994, 2890, 641, 1676, 689, 2102, 3117, 2066, 2857, 2150, 1737, 1882, 3842, 1036, 2942, 2523, 1220, 3844, 1676, 689, 159, 3299, 3962, 3726, 1256, 3198, 2552, 403, 2009, 1254, 1924, 2132, 3972, 2894, 4011, 589, 1170, 2448, 2771, 2890, 947, 1354, 2890, 3053, 371, 599, 0, 942, 2890, 1759, 1107, 3507, 1652, 2077, 3844, 4011, 107, 942, 4006, 3638, 3507, 3844, 4011, 1924, 159, 340, 2764, 3198, 2102, 1842, 130, 865, 4011, 3412, 3258, 1593, 2781, 2017, 95, 1686, 1036, 1836, 3100, 3189, 33, 1598, 702, 4011, 3280, 2132, 52, 2709, 1388, 599, 993, 392, 1280, 693, 95, 2020, 1864, 258, 2382, 4011, 589, 3753, 2780, 3634, 929, 1249, 2232, 3145, 2298, 3600, 3289, 3577, 3017, 776, 1256, 1598, 1321, 218, 1151, 98, 0, 1280, 2010, 3822, 3145, 1235, 2675, 127, 953, 1280, 1256, 2521, 3739, 3529, 3886, 787, 397, 507, 2449, 3805, 1710, 2664, 1865, 2749, 3693, 2382, 403, 2102, 95, 1686, 2924, 3314, 95, 3976, 2972, 3643, 2132, 1545, 3283, 1256, 510, 3149, 1321, 3995, 388, 2282, 2521, 3198, 1808, 2009, 2602, 1428, 3822, 403, 2781, 1367, 2078, 3529, 3886, 3822, 2934, 3844, 4011, 671, 3734, 4011, 1254, 1994, 89, 4011, 589, 2894, 3914, 2972, 204, 1953, 95, 1542, 3822, 266, 1036, 1836, 84, 32, 942, 946, 1388, 3833, 863, 1256, 3111, 3739, 2922, 2452, 3985, 1836, 386, 3189, 3451, 2226, 2533, 3822, 3995, 4011, 589, 3628, 95, 3643, 1388, 4011, 62, 185, 3117, 2066, 2908, 1308, 1538, 3822, 164, 1028, 3117, 1159, 305, 4011, 2483, 3822, 2426, 3644, 507, 863, 1256, 95, 1686, 1098, 1414, 3100, 3189, 1091, 3961, 737, 3145, 2511, 2132, 2102, 2972, 204, 3117, 95, 1151, 1686, 1280, 3854, 3851, 3706, 3198, 2449, 817, 2066, 636, 3309, 3607, 3621, 1700, 3607, 3768, 921, 2764, 1700, 498, 33, 3145, 34, 1256, 1065, 3706, 2552, 1736, 2552, 3145, 2781, 1107, 4011, 3846, 3189, 2521, 3145, 752, 1639, 3145, 794, 2979, 1660, 2950, 3991, 2688, 1169, 1614, 2755, 2847, 2132, 3085, 3856, 2649, 3198, 1808, 998, 3808, 1833, 1388, 1912, 1629, 3427, 3189, 942, 4006, 3901, 2498, 1388, 3635, 403, 1808, 879, 3215, 3314, 3886, 2662, 3314, 30, 942, 2443, 3117, 2608, 403, 1808, 3900, 942, 1046, 1414, 1538, 2640, 2382, 1388, 4011, 738, 1151, 2521, 403, 1808, 3891, 1735, 3027, 1538, 3822, 2755, 3117, 305, 1607, 3844, 3314, 95, 2102, 3634, 3482, 1806, 2363, 2967, 3991, 2894, 95, 3436, 2418, 1388, 1538, 1763, 89, 4011, 2971, 3844, 888, 1107, 3427, 2610, 2521, 2894, 1156, 1126, 1312, 1382, 646, 2575, 775, 2640, 942, 2523, 589, 999, 2932, 2154, 1414, 1488, 784, 172, 3198, 2382, 842, 1388, 1667, 2704, 2323, 888, 807, 137, 1256, 2603, 3739, 3987, 2521, 1098, 1414, 3100, 3739, 4006, 3145, 2863, 883, 702, 2666, 1388, 451, 1321, 95, 2602, 878, 1388, 95, 194, 2160, 3289, 1321, 503, 2132, 2102, 95, 2282, 1686, 1321, 1412, 4011, 371, 599, 2132, 1294, 1700, 507, 2449, 1321, 2900, 1256, 3529, 3886, 869, 1321, 2937, 3693, 470, 3198, 777, 2894, 2890, 69, 2526, 3145, 4013, 1639, 404, 95, 1686, 2939, 3739, 95, 2749, 2939, 2382, 1036, 1388, 1065, 2972, 204, 3844, 1254, 1924, 863, 1256, 2521, 3198, 2449, 1091, 3854, 2382, 388, 3145, 185, 997, 1256, 95, 3529, 960, 2087, 1388, 4011, 532, 942, 4011, 4004, 3822, 1808, 541, 1182, 470], [4011, 589, 807, 2154, 929, 2237, 1256, 4011, 1254, 1994, 4023, 2897, 3571, 3018, 942, 2348, 3634, 2890, 965, 353, 1028, 2132, 2089, 3283, 929, 2550, 3869, 1545, 1169, 95, 1864, 258, 3198, 2060, 2132, 3205, 2326, 2132, 2367, 159, 942, 1280, 1681, 2551, 1651, 2438, 2804, 3545, 702, 1667, 1017, 404, 1091, 993, 2132, 3500, 1280, 1091, 3636, 1114, 3635, 286, 2599, 3198, 2449, 2847, 2132, 1017, 3545, 942, 3145, 2832, 395, 1700, 2132, 3205, 3636, 1777, 3607, 2449, 1280, 95, 1458, 3280, 1280, 95, 2414, 1499, 942, 912, 3424, 2132, 3600, 3822, 2441, 3725, 1789, 942, 2441, 1112, 3753, 456, 3607, 1841, 1388, 1598, 392, 3739, 1389, 660, 3464, 3117, 4011, 3283, 1667, 693, 2721, 2360, 2890, 319, 942, 263, 1493, 2600, 3844, 4011, 119, 2612, 1678, 2850, 4011, 2964, 942, 1436, 2850, 1598, 2132, 1408, 1205, 1967, 1321, 2360, 2132, 3600, 2890, 1112, 470, 2053, 457, 942, 3854, 3145, 2781, 3597, 1820, 3822, 691, 3844, 3901, 2053, 702, 2511, 1091, 2132, 1279, 608, 794, 2279, 1182, 3198, 2449, 3233, 3545, 3893, 2511, 2132, 1279, 3963, 1205, 608, 2511, 2132, 1279, 1720, 942, 869, 3869, 1256, 4011, 1549, 1917, 3905, 608, 3289, 3145, 2191, 2132, 2650, 2850, 2132, 3866, 1408, 1737, 2132, 3810, 33, 3145, 912, 1772, 3822, 784, 477, 1414, 1342, 1749, 388, 1388, 4011, 827, 3991, 2154, 2664, 865, 2132, 3650, 2066, 3378, 1388, 4011, 3113, 0, 1737, 3198, 3940, 2890, 3809, 1414, 942, 227, 102, 1945, 1926], [732, 510, 3409, 2205, 0, 1660, 3822, 1254, 1924, 807, 2598, 2850, 1652, 929, 1177, 1902, 3205, 3844, 4011, 3408, 117, 138, 978, 3314, 4011, 1621, 2051, 3247, 1858, 1182, 3731, 4011, 1741, 1257, 418, 2478, 4011, 3910, 3258, 3844, 929, 1910, 2132, 4009, 95, 1825, 2132, 3238, 3844, 4011, 3235, 3314, 4011, 3408, 978, 3844, 210, 1041, 100, 1256, 3442, 1254, 1924, 3869, 3293, 2894, 769, 1946, 3319, 2881, 942, 3970, 3844, 1910, 95, 1280, 1292, 1091, 4011, 3230, 767, 537, 3822, 88, 2154, 2127, 2382, 3634, 1617, 95, 2385, 1388, 804, 3224, 1895, 2706, 1254, 1924, 1673, 2132, 3205, 400, 2132, 2864, 3314, 929, 1212, 763, 3247, 1858, 3314, 4011, 3408, 978, 3997, 2706, 3869, 620, 1735, 3258, 2380, 1388, 2640, 3075, 2132, 3027, 257, 3226, 4011, 2480, 1474, 4011, 3910, 3258, 184, 2672, 1980, 1910, 1902, 976, 2864, 3314, 4011, 1621, 3247, 1858, 3844, 3238, 1253, 4011, 664, 3075, 2672, 4011, 3258, 2380, 1902, 807, 2132, 2650, 817, 3266, 2132, 3546, 929, 1049, 1414, 4011, 419, 1254, 1924, 1902, 685, 3448, 2132, 2864, 2552, 413, 4011, 3910, 3258, 3075, 3844, 4011, 1910, 3314, 418, 1148, 1902, 2157, 388, 3220, 728, 825, 4011, 1549, 4011, 3258, 2341, 2842, 3242, 1902, 807, 2132, 2650, 817, 95, 1517, 3460, 978, 2894, 4011, 3187, 993, 1256, 2132, 2819, 4011, 566, 3204, 2672, 4011, 264, 138, 978, 3844, 4011, 1974, 1388, 1101, 2236, 2367, 942, 2576, 2682, 1969, 4002, 4011, 1517, 1594, 3460, 702, 13, 257, 942, 1902, 3205, 3032, 3844, 3763, 2589, 1472, 1917, 2834, 784, 1388, 4011, 3258, 3910, 3242, 3314, 4011, 3235, 1254, 1924, 3753, 2839, 3211, 2893, 2132, 2938, 929, 1825, 2132, 4011, 3247, 1858, 3342, 2894, 769, 2850, 1388, 1910, 95, 1452, 1256, 929, 145, 2024, 1107, 955, 3075, 942, 929, 2140, 3844, 4011, 3594, 978, 1254, 1924, 807, 2689, 1735, 4011, 3408, 978, 2552, 4011, 1910, 816, 3187, 2894, 95, 3775, 833, 1388, 1719, 2110, 424, 2529, 13, 4001, 95, 3061, 1081, 2455, 865, 3831, 1254, 1924, 332, 3634, 2103, 1564, 1078, 1954, 3753, 4011, 1538, 117, 1969, 1974, 3703, 994, 2132, 158, 3854, 2520, 978, 728, 2188, 246, 95, 385, 1917, 1451, 1738, 3828, 942, 2736, 3517, 3844, 4011, 646, 728, 3032, 1091, 3477, 4011, 1406, 1691, 4008, 3831, 413, 4011, 1177, 3844, 1910, 95, 3844, 4011, 3408, 978, 769, 1168, 2319, 4011, 2121, 3047, 3314, 1254, 1924, 4011, 252, 3247, 1858, 670, 4015, 641, 3844, 1910, 3836, 3844, 4011, 3594, 978, 2894, 2640, 424, 942, 3258, 2595, 1254, 1924, 807, 3837, 1156, 424, 646, 2595, 942, 3409, 320, 1107, 769, 942, 807, 2803, 738, 320, 3844, 1980, 1388, 929, 1170, 946, 2760, 929, 1170, 1477, 185, 3844, 3763, 2540, 3844, 1433, 2764, 1254, 1924, 1607, 738, 2132, 4011, 3878, 3844, 375, 1254, 1924, 807, 1945, 1919, 1256, 3387, 3541, 2894, 3258, 320, 942, 842, 2595, 1280, 628, 3314, 3762, 2132, 137, 2281, 2972, 2894, 95, 2282, 1885, 3844, 1433, 1954, 2449, 1256, 3442, 769, 13, 807, 2079, 2072, 1652, 3753, 2678, 3739, 807, 3032, 3844, 3666, 562, 1051, 1388, 2069, 109, 942, 3859, 843, 1388, 3320, 3753, 3211, 4011, 3258, 2467, 3127, 1256, 3764, 1254, 1924, 3540, 3814, 929, 3809, 1254, 1924, 807, 2085, 2024, 1107, 3854, 4011, 955, 2706, 3844, 4011, 1910, 1122, 929, 3350, 2132, 1407, 2478, 4011, 3910, 3258, 1946, 4015, 150, 359, 1910, 3197, 3844, 4011, 3594, 978, 2894, 646, 424, 942, 95, 1495, 929, 1538, 941, 185, 95, 309, 1495, 2132, 1101, 1924, 3844, 1066, 1254, 1924, 807, 870, 1156, 424, 946, 2595, 942, 784, 1495, 1107, 1946, 929, 1538, 2158, 99, 2281, 2132, 1274, 942, 1254, 1924, 13, 807, 1945, 2321, 2132, 1946, 3844, 4011, 3408, 3247, 1858, 138, 978, 2894, 842, 424, 942, 3258, 2595, 1946, 807, 2072, 1652, 3753, 1875, 2132, 4011, 1254, 1994, 1969, 88, 3665, 77, 3922, 3237, 4011, 1117, 942, 681, 117, 3166, 1388, 4011, 1220, 3032, 3314, 946, 1972, 1254, 1994, 2411, 172, 3035, 2132, 2890, 801, 1939, 3901, 1220, 1253, 2261, 3815, 1449, 2397, 3032, 2894, 2217, 2919, 1774, 1182, 946, 955, 3075, 3753, 1072, 2132, 1921, 2602, 3141, 2132, 1254, 1924, 2881, 4015, 55, 2041, 4011, 3408, 978, 2552, 4011, 1910, 2001, 3187, 2894, 646, 424, 942, 95, 1495, 4011, 3354, 553, 807, 842, 424, 3258, 2595, 942, 95, 1495, 1107, 4011, 3878, 3314, 4011, 1106, 2051, 3247, 1858, 942, 807, 1091, 2321, 2897, 2378, 1954, 3540, 3205, 1875, 2894, 2129, 2072, 2552, 403, 964, 2129, 2411, 3314, 826, 646, 3959, 172, 3994, 865, 1254, 1924, 3844, 2871, 2540, 3319, 4015, 3655, 3753, 503, 3314, 929, 641, 3247, 1858, 3629, 2897, 2106, 3844, 4011, 2520, 978, 1917, 90, 2520, 3844, 1910, 2001, 3907, 2881, 2894, 3914, 424, 3258, 2595, 942, 95, 1495, 1254, 1727, 807, 693, 13, 609, 1107, 4011, 1187, 3909, 1538, 3309, 3844, 929, 3061, 2760, 1253, 1420, 2608, 424, 942, 3409, 2595, 929, 771, 1813, 185, 3844, 1289, 1170, 1220, 1414, 4011, 1687, 117, 1969, 3022, 582, 1687, 117, 1858, 2764, 1254, 1924, 550, 3319, 1374, 3970, 3753, 875, 1256, 4011, 2051, 2410, 2520, 1958, 3844, 4011, 3408, 978, 974, 1388, 1538, 259, 1917, 3869, 4011, 312, 3844, 1910, 3599, 3907, 408, 1169, 3190, 2640, 424, 942, 3258, 320, 1254, 1924, 807, 3032, 3970, 1538, 2640, 1012, 942, 1917, 807, 946, 424, 3258, 2595, 942, 95, 1495, 1917, 1170, 2014, 3117, 1107, 1980, 955, 3844, 751, 869, 1254, 1924, 1919, 738, 1254, 1924, 3540, 1590, 2132, 1339, 2552, 423, 3828, 2552, 1917, 2781, 1107, 3970, 2529, 3950, 3844, 2662, 3828, 3844, 4011, 2520, 978, 4011, 3299, 413, 2706, 1546, 3314, 4011, 3408, 978, 4011, 2286, 1691, 544, 1168, 2319, 1036, 1554, 2132, 28, 1329, 1836, 2390, 1177, 1254, 1924, 641, 2214, 3319, 1256, 1523, 2327, 172, 2452, 2132, 3970, 3914, 720, 2482, 1917, 1902, 2931, 2738, 2881, 1414, 2972, 1256, 1755, 3016, 942, 2650, 2132, 769, 3914, 720, 2482, 2132, 3027, 554, 1168, 3205, 4011, 3299, 515, 1691, 3844, 4011, 3408, 978, 220, 3889, 2132, 2790, 1037, 172, 993, 2132, 769, 1954, 2449, 1280, 2316, 3314, 3762, 2132, 1091, 807, 1458, 2989, 172, 2678, 4011, 1691, 1107, 769, 1254, 1924, 1902, 1484, 1507, 4011, 641, 933, 1388, 4011, 3408, 978, 3634, 2207, 1946, 1256, 93, 2071, 4011, 2520, 933, 1902, 258, 1256, 2019, 3690, 2589, 869, 1917, 2930, 2132, 3319, 1254, 2247, 1170, 1691, 702, 1414, 1946, 1256, 1523, 494, 1008, 1220, 1242, 1507, 3314, 4011, 3408, 978, 1254, 1924, 1902, 3450, 1256, 2628, 1256, 2753, 2327, 3844, 3297, 1009, 942, 2738, 4011, 3358, 183, 1256, 2753, 494, 3844, 772, 220, 807, 693, 2494, 2132, 807, 728, 1107, 2590, 3231, 3075, 403, 2449, 1280, 2316, 3314, 3762, 2132, 1522, 3822, 2572, 2140, 3844, 1170, 2071, 2949, 3753, 1091, 871, 3634, 1420, 2282, 1627, 1107, 2628, 942, 4011, 3358, 183, 1954, 702, 893, 393, 3851, 2072, 1452, 3844, 3666, 1652, 3753, 2559, 2132, 1408, 2678, 628, 2894, 929, 2411, 2895, 3204, 2179, 942, 3697, 77, 2439, 1631, 3032, 1538, 946, 728, 1170, 2793, 942, 1808, 1640, 2132, 2945, 3844, 95, 1658, 3362, 3901, 2793, 3314, 2890, 3430, 1939, 1821, 2969, 2073, 3788, 2261, 1493, 3174, 1808, 3422, 2602, 2132, 2890, 3417, 1939, 3844, 4011, 3430, 2195, 689, 2382, 929, 532, 1215, 3205, 2688, 1836, 2072, 1777, 3322, 604, 1652, 1808, 1063, 2132, 2945, 3314, 1073, 1011, 2897, 95, 1691, 1107, 452, 1256, 1714, 2704, 3258, 2009, 173, 3844, 4011, 1561, 2758, 807, 693, 13, 2364, 3545, 1290, 1388, 42, 1698, 3032, 95, 1691, 2897, 1714, 2327, 942, 3198, 3129, 1388, 3120, 790, 185, 1170, 1710, 1256, 4011, 2150, 1256, 2632, 1738, 3844, 2049, 1968, 39, 2261, 1174, 2828, 1808, 693, 2850, 1388, 3667, 2897, 1714, 1748, 1169, 1124, 1507, 95, 1545, 1300, 1965, 2382, 2890, 1112, 459, 3980, 942, 2152, 2243, 807, 693, 2678, 392, 1388, 475, 3863, 1605, 3161, 980, 1808, 693, 1988, 2678, 3314, 2890, 2994, 1939, 1968, 1620, 388, 2072, 1215, 3205, 1256, 4011, 1305, 1337, 4011, 1196, 1469, 2613, 3844, 3065, 942, 1289, 403, 2449, 86, 2316, 702, 3822, 1917, 3889, 2132, 3205, 2281, 1256, 4011, 2150, 942, 3027, 728, 1988], [459, 1451, 946, 3767, 818, 1107, 1835, 1414, 95, 2972, 3362, 1256, 2239, 403, 1451, 4011, 838, 385, 1414, 264, 874, 3844, 4011, 641, 933, 172, 1176, 1845, 1414, 3593, 874, 3844, 4011, 641, 942, 4011, 1148, 1414, 668, 874, 3844, 4011, 2520, 1700, 702, 4011, 641, 628, 3822, 459, 2215, 3767, 818, 2552, 95, 699, 2932, 1652, 3478, 2132, 1069, 3844, 4011, 401, 2498, 1169, 4020, 4011, 1226, 3929, 1388, 4011, 3383, 3844, 3325, 403, 702, 13, 4011, 2520, 1994, 2132, 1989, 95, 3767, 3326, 3844, 4011, 2758, 1169, 1493, 3174, 1652, 3032, 3314, 645, 1835, 2281, 3844, 1277, 459, 13, 2154, 4011, 1930, 1388, 3228, 2890, 849, 833, 1388, 3616, 3828, 1451, 3844, 95, 587, 2498, 2894, 646, 3828, 2890, 3594, 833, 185, 3914, 3828, 3822, 403, 3837, 3844, 4011, 3337, 2498, 1414, 39, 942, 4011, 1170, 2498, 1414, 3894, 2552, 39, 1808, 1156, 728, 2132, 3027, 3844, 4011, 587, 2498, 459, 1808, 95, 3771, 522, 2132, 833, 1883, 3828, 3923, 77, 459, 702, 2678, 1414, 95, 1036, 411, 999, 1836, 172, 2552, 3954, 3406, 807, 2803, 1362, 3844, 3419, 1700, 702, 4011, 641, 628, 3314, 39, 2132, 1989, 3767, 818, 2897, 1280, 336, 2132, 4011, 823, 689, 3844, 4011, 3337, 2498, 1947, 4011, 3231, 739, 3250, 2033, 1808, 187, 459, 2461, 1037, 4011, 902, 1339, 1037, 413, 4011, 2072, 3844, 4011, 3258, 3075, 1256, 4011, 453, 2541, 3314, 459, 2341, 955, 2072, 3991, 1919, 95, 1339, 1414, 4011, 1719, 830, 2902, 39, 118, 1063, 2132, 3814, 1280, 1357, 2723, 4011, 3362, 3784, 2814, 3145, 794, 3255, 3822, 1065, 3767, 818, 3869, 1091, 1503, 2132, 836, 2572, 3204, 2132, 1989, 946, 1339, 1037, 2897, 2572, 3204, 3116, 1091, 158, 4011, 1691, 3145, 3601, 200, 2132, 1425, 1065, 3828, 459, 2449, 1414, 2066, 2563, 1169, 4011, 1691, 441, 3277, 865, 4011, 2883, 169], [39, 3753, 2624, 528, 2672, 1760, 2894, 95, 1037, 2323, 1388, 3061, 3781, 2132, 95, 833, 1388, 646, 424, 942, 1156, 2595, 1917, 3753, 1538, 946, 1037, 2011, 1388, 4011, 245, 3734, 1917, 1287, 2132, 2728, 95, 3643, 1388, 2640, 728, 2188, 95, 2455, 869, 1917, 2720, 937, 4016, 3938, 1170, 2239, 2894, 3677, 3214, 942, 2513, 2360, 1256, 4011, 1339, 1695, 2750, 1256, 4011, 955, 1263, 3753, 668, 1256, 4011, 689, 3948, 942, 3889, 4011, 1037, 434, 2087, 1917, 1091, 2846, 1635, 1640, 929, 1170, 158, 3844, 4011, 2758, 3782, 120, 1256, 2019, 494, 869, 1917, 2544, 2850, 3098, 1900, 1107, 42, 2894, 1119, 1532, 2493, 95, 520, 1388, 3828, 2897, 3822, 158, 1917, 807, 620, 3258, 942, 2321, 3258, 942, 137, 1735, 3901, 2305, 133, 1256, 4011, 2281, 1388, 95, 3631, 2972, 2158, 1414, 4011, 3792, 1388, 689, 540, 3046, 3847, 593, 3258, 807, 3209, 1964, 3901, 2498, 2894, 39, 447, 2850, 1251, 1900, 1414, 4011, 2095, 2894, 3815, 1881, 1576, 335, 942, 3980, 459, 2360, 1256, 4011, 1339, 1695, 3342, 2894, 2066, 3268, 2672, 3240, 3496, 39, 4008, 2750, 3702, 120, 1414, 4011, 435, 530, 1256, 2239, 510, 3215, 2894, 95, 659, 628, 1388, 2825, 652], [39, 3218, 434, 3844, 95, 3570, 988, 2552, 1917, 2650, 1735, 4011, 3408, 3638, 3219, 1388, 4011, 2498, 2624, 3844, 1543, 999, 1917, 2650, 1735, 929, 3362, 2894, 2750, 2894, 2010, 2327, 158, 3844, 929, 1170, 3016, 2883, 2382, 3822, 158, 863, 3844, 929, 3299, 965, 3362, 95, 3938, 158, 2924, 1414, 937, 4016, 1917, 1902, 2191, 2132, 2474, 1256, 3822, 1885, 3901, 626, 1107, 2750, 77, 3980, 459, 89, 929, 1176, 2894, 3761, 689, 3828, 942, 1902, 342, 2132, 1408, 1256, 4011, 1079, 1464, 3901, 626, 2750, 1902, 3205, 2511, 2132, 1164, 2924, 2672, 4011, 3570, 2169, 3901, 626, 997, 668, 3844, 4011, 2639, 1917, 2103, 2132, 39, 1256, 4011, 2281, 1388, 2010, 2327, 158, 3844, 929, 1170, 3016, 2883, 3844, 4011, 689, 2894, 929, 3299, 965, 3362, 2200, 95, 3631, 2158, 1414, 2972, 2132, 540, 3046, 3847, 1917, 1902, 3205, 503, 2132, 1408, 2281, 1256, 360, 3901, 626, 942, 1902, 3205, 503, 2132, 1951, 1680, 2132, 1432, 3833, 2132, 2455, 4011, 1561, 77, 89, 929, 1176, 2894, 2662, 689, 3828, 3901, 2498], [732, 1215, 738, 2205, 0, 1254, 1994, 77, 459, 3980, 702, 1514, 2132, 3544, 2895, 3204, 592, 728, 3844, 2753, 277, 2132, 95, 2645, 1965, 2890, 732, 1197, 2449, 3442, 459, 1652, 3774, 3314, 1968, 39, 3844, 4011, 2758, 185, 686, 3634, 1683, 2811, 3844, 4011, 2419, 874, 1337, 2890, 3075, 689, 1691, 1107, 1110, 2314, 1414, 1345, 3844, 2466, 1069, 1256, 2239, 1169, 2170, 186, 911, 684, 1256, 2890, 1545, 3825, 4011, 3958, 1699, 2482, 3592, 4011, 3888, 2154, 95, 2730, 595, 1256, 2890, 1545, 2602, 2645, 2847, 2132, 2530, 3462, 67, 2648, 459, 1252, 2132, 2808, 3314, 842, 2132, 2640, 3219, 67, 2621, 2205, 565, 1197, 3233, 3824, 459, 603, 3822, 403, 702, 1514, 2132, 3544, 4011, 2895, 3204, 592, 728, 3844, 2753, 1254, 1924, 1902, 3450, 1256, 2628, 1256, 2753, 2327, 3844, 3297, 1009, 942, 2738, 4011, 3358, 183, 1256, 2753, 494, 3844, 772, 2103, 1564, 1078, 1954, 2397, 2449, 403, 3186, 2132, 1818, 4011, 3173, 3204, 518, 2894, 2072, 3844, 3910, 1818, 118, 67, 2449, 3822, 459, 1902, 3205, 2146, 3314, 1254, 1924, 869, 4011, 3408, 117, 138, 978, 3314, 4011, 1621, 2051, 3247, 1858, 1840, 3844, 2871, 403, 3036, 3822, 4011, 1014, 3965, 942, 3894, 77, 1808, 2010, 3884, 95, 2645, 1091, 2066, 2216, 2529, 2154, 693, 2999, 459, 3844, 965, 3959, 459, 1808, 1451, 1719, 3828, 3844, 1013, 728, 3314, 39, 3901, 2498, 2221, 95, 178, 3314, 95, 1658, 2758, 2498, 403, 2154, 646, 3828, 1170, 2498, 2894, 3894], [459, 3980, 1451, 4011, 641, 3767, 3326, 1388, 2890, 699, 3829, 3844, 3470, 2972, 1691, 1107, 645, 1835, 1256, 2239, 2530, 264, 495, 942, 349, 3828, 1388, 4011, 2498, 3782, 2664, 2132, 95, 2773, 2927, 3230, 3314, 95, 2758, 2498, 459, 350, 3829, 3844, 1069, 3569, 2894, 3965, 3844, 751, 2154, 1945, 2397, 1451, 1036, 1836, 3914, 3828, 3844, 95, 2498, 459, 702, 4011, 2520, 1994, 2132, 1339, 95, 3767, 360, 3844, 95, 2758, 1691, 1169, 1014, 1835, 2932, 1493, 3174, 1652, 3116, 1700, 2111, 172, 1369, 2132, 2073, 3788, 3844, 4011, 3430, 2195, 689, 1994, 2758, 2807, 3930, 1751, 1945, 1451, 95, 3767, 3326, 1253, 2678, 3844, 1069, 2530, 641, 385, 863, 2010, 3914, 1999, 1735, 4011, 3362, 869, 403, 3334, 95, 3973, 1169, 3815, 1409, 2533, 2102, 4011, 1829, 3844, 4011, 3593, 874, 403, 1451, 3117, 1845, 1351, 3973, 3901, 628, 3117, 95, 2533, 3634, 2444, 3214, 2839, 503, 1884, 3844, 4011, 2520, 933, 2530, 1623, 3720, 3117, 3937, 445, 2598, 4011, 2281, 1388, 4011, 3867, 2132, 212, 4011, 3767, 3326, 39, 18, 2924, 929, 3061, 1357, 118, 3658, 1835, 2132, 1339, 2111, 3844, 4011, 2520, 933, 942, 246, 95, 74, 2010, 172, 4011, 1194, 628, 1943, 2132, 860, 4011, 3362, 3844, 95, 2814, 3235], [423, 1388, 4011, 3910, 1994, 1118, 2678, 3844, 3666, 807, 693, 2086, 3844, 965, 728, 236, 2820, 974, 1388, 1052, 3408, 117, 1273, 978, 3314, 4011, 1621, 3247, 1858, 3844, 3238, 2552, 1917, 3753, 2794, 2072, 3844, 4011, 1994, 2895, 3204, 2895, 3204, 787, 1078, 1954, 1016, 2621, 2955, 1700, 752, 3205, 515, 2132, 1419, 2072, 1652, 807, 1091, 2154, 628, 1256, 4011, 2150, 3314, 865, 2640, 2949, 1256, 4011, 3075, 1064, 3322, 604, 1388, 1073, 1011, 942, 2439, 1631, 1388, 1821, 2969, 3844, 4011, 3430, 2195, 689, 113, 2010, 784, 3629, 1980, 3844, 510, 3844, 95, 965, 2563, 2894, 95, 1994, 3683, 1403, 3322, 2959, 3851, 2200, 719, 3634, 1073, 1011, 787, 808, 527, 2897, 3490, 2672, 95, 2405, 1965, 3145, 2298, 807, 2270, 2358, 2132, 1164, 1182, 1008, 2498, 403, 2449, 77, 2439, 896, 287, 2932, 1388, 4011, 1220, 1170, 2498, 1169, 1176, 1719, 3828, 185, 3562, 1256, 2422, 2552, 95, 377, 3844, 1170, 3219, 3362, 1107, 3890, 2969, 2382, 1808, 2609, 545, 2009, 4011, 3126, 1388, 475, 2510, 3497, 4011, 3075, 2773, 787, 1808, 1019, 95, 190, 3314, 990, 3365, 865, 778, 3365, 1777, 2439, 1493, 3174, 1388, 2073, 3788, 3756, 3844, 842, 728, 3844, 510, 2382, 3569, 3844, 1538, 784, 1388, 3833, 2792, 719, 3844, 1664, 1388, 2890, 823, 111, 3844, 630, 3133, 3153, 942, 1537, 1283, 3153, 942, 1283, 807, 113, 1458, 1752, 2132, 4011, 3075, 3371, 3417, 999, 3844, 4011, 689, 1176, 2662, 942, 738, 3828, 3026, 3844, 4011, 2758, 3198, 3129, 1388, 790, 942, 3545, 1290, 1388, 42, 807, 563, 693, 2086, 2897, 1786, 1605, 3161, 3403, 1808, 3941, 2132, 3218, 1818, 2897, 4020, 1684, 2994, 1939, 1968, 1620, 3844, 154, 1160, 2010, 784, 385, 3844, 2890, 1170, 738, 728, 459, 3980, 1388, 2758, 1329, 39, 702, 4011, 1538, 1994, 2932, 2624, 760, 3844, 95, 3231, 689, 3710, 3844, 3854, 842, 728, 3844, 510, 459, 1808, 113, 95, 3771, 2391, 3844, 1980, 1112, 2152, 2243, 942, 1174, 2828, 807, 693, 3331, 2552, 2045], [732, 93, 2665, 2205, 0, 869, 1254, 1924, 3448, 2132, 2490, 929, 2085, 3757, 3844, 4011, 1108, 3247, 1858, 1273, 1107, 3604, 1008, 3442, 1917, 1902, 807, 2132, 1294, 33, 2188, 77, 459, 3980, 459, 1808, 693, 2394, 1437, 3314, 4011, 2635, 1910, 816, 1691, 3844, 4011, 2520, 978, 1388, 4011, 117, 1273, 3314, 4011, 1621, 2051, 3247, 1858, 1169, 1124, 1507, 2890, 2520, 278, 2734, 3844, 2552, 423, 2015, 1107, 2471, 3349, 403, 1902, 1600, 2274, 2890, 2758, 1939, 1968, 39, 459, 735, 3844, 1254, 2247, 2520, 385, 3844, 929, 1251, 158, 1414, 2217, 3247, 1858, 2746, 3844, 2217, 3372, 2006, 4011, 1924, 1969, 2682, 1585, 2449, 2341, 1470, 1902, 3205, 896, 3314, 4011, 77, 1652, 1808, 1451, 3215, 1012, 3844, 3098, 3664, 728, 3991, 2188, 459, 4011, 2899, 1254, 1924, 3540, 807, 2602, 2173, 1107, 3604, 4015, 821, 3844, 929, 3594, 1813, 3844, 2871, 1254, 1924, 1075, 3604, 386, 2894, 1031, 1493, 3174, 1176, 95, 3767, 3326, 1254, 1924, 1338, 2605, 4011, 1910, 2894, 95, 3376, 2276, 833, 3881, 1451, 3149, 3828, 942, 3733, 3517, 3314, 4011, 1220, 1254, 1924, 807, 1919, 2071, 620, 946, 942, 2321, 1538, 784, 0, 2132, 2287, 1414, 4011, 3703, 117, 1858, 3408, 3844, 154, 95, 2455, 865, 3604, 1902, 2601, 1254, 1924, 929, 3299, 1246, 3844, 95, 1762, 1220, 2897, 1113], [1254, 2247, 459, 3010, 188, 2449, 1700, 3109, 2282, 2132, 3205, 2281, 2972, 2894, 4011, 39, 2552, 403, 3437, 95, 3811, 839, 1256, 3442, 459, 1170, 3032, 3314, 4011, 3894, 1169, 4020, 4011, 3204, 3844, 2540, 4011, 3263, 641, 3032, 3314, 4011, 1352, 1253, 1256, 1898, 2672, 3965, 3844, 2498, 2879, 3998, 1866, 3109, 2979, 1414, 39, 942, 1660, 807, 4011, 1499, 1388, 4012, 2972, 459, 2449, 2552, 1703, 213, 1141, 1256, 244, 1280, 2414, 3822, 1700, 1731, 2850, 1414, 2280, 1767, 666, 1660, 3145, 737, 503, 2261, 2132, 2200, 2281, 1414, 4011, 1939, 942, 3145, 2191, 2132, 2407, 4011, 3204, 3557, 929, 3828, 3844, 4011, 2758, 1858, 942, 1143, 689, 403, 3036, 459, 2009, 95, 2282, 3355, 3844, 39, 1169, 1176, 1719, 3828, 3844, 1036, 1836, 3061, 2883, 1337, 2498, 2879, 2529, 185, 3396, 4011, 3204, 185, 13, 1018, 2132, 807, 2664, 2281, 220, 3869, 3844, 587, 2537, 2894, 459, 3010, 188, 1169, 2890, 2614, 942, 220, 3782, 4011, 522, 2132, 807, 2664, 2281, 2552, 1827, 2552, 1700, 959, 1410, 2039, 0, 3470, 2923, 1388, 1128, 0, 2449, 403, 521, 4011, 1939, 4011, 862, 2552, 392, 2552, 4011, 3204, 942, 1564, 33, 403, 3701, 3889, 1736, 628, 2132, 171, 2281, 3844, 1182, 2039, 2766, 1256, 2672, 95, 2503, 2742, 403, 1902, 2407, 3762, 3844, 2230, 2132, 1408, 1036, 3038, 1256, 2572, 3362, 2894, 459, 1660, 2678, 3314, 39, 403, 702, 1072, 2132, 96, 2688, 2897, 403, 1808, 3373, 2672, 4011, 1965, 3822, 1808, 2352, 2890, 1771, 1337, 2890, 1164, 2894, 4011, 3894, 942, 3965, 459, 185, 4011, 1014, 2179, 1388, 1254, 1924, 1969, 3204, 1337, 4011, 2877, 3247, 1858, 403, 641, 1963, 4011, 1561, 689, 3844, 681, 1169, 2436, 95, 2130, 839, 2894, 4011, 3965, 459, 1902, 1839, 4011, 2808, 1388, 39, 3204, 1256, 3349, 3314, 929, 3238, 1621, 2015], [4011, 1386, 1808, 2600, 1256, 4011, 3235, 3314, 4011, 1621, 3247, 1858, 3314, 1254, 1924, 1564, 1078, 1954, 521, 647, 2529, 3075, 1917, 1902, 2738, 3648, 3319, 769, 2881, 1946, 942, 3970, 3648, 942, 869, 1700, 3854, 3114, 1256, 2871, 2327, 3341, 942, 3486, 2871, 494, 2589, 1660, 403, 1808, 2132, 258, 3251, 3851, 2890, 3204, 2890, 3751, 702, 536, 2132, 1407, 3844, 4011, 3910, 3258, 3844, 4011, 1910, 942, 2552, 3901, 702, 4011, 3247, 1858, 4011, 956, 1902, 2191, 2132, 3283, 2890, 3173, 3204, 3844, 2523, 3362, 388, 1388, 4011, 3075, 3230, 3753, 3844, 3666, 3862, 702, 4011, 3430, 2195, 689, 480, 1388, 2179, 2439, 1631, 1414, 1821, 2969, 3322, 604, 1414, 1073, 1011, 942, 1493, 3174, 1414, 2073, 2674, 3862, 3753, 1036, 3844, 1069, 3198, 3129, 1414, 3120, 790, 2152, 2243, 459, 3980, 942, 1174, 2828, 1414, 39, 942, 3545, 3151, 2894, 42, 3299, 1388, 3635, 752, 395, 2132, 3205, 2821, 3314, 4011, 2895, 3204, 3289, 1863, 2382, 4011, 1564, 1808, 10, 4011, 1709, 3822, 1700, 3701, 3205, 33, 3636, 403, 1808, 2621, 3833, 3822, 1538, 3635, 1652, 3027, 1988, 3314, 929, 2411, 1902, 3205, 3211, 1414, 4011, 3072, 3822, 2400, 2132, 3638, 3517, 1388, 4011, 2272, 3747, 3753, 3464, 33, 2439, 185, 287, 2932, 1388, 4011, 2498, 1170, 628, 2382, 1362, 942, 4011, 2411, 1056, 807, 1710, 2664, 3058, 2890, 1944, 2091, 1493, 1414, 935, 702, 1764, 1256, 4011, 3126, 1253, 3322, 1414, 1011, 3288, 1056, 2132, 1408, 3822, 1707, 2132, 4011, 3283, 3844, 1069, 1538, 459, 942, 2152, 3027, 3288, 2894, 1174, 3884, 942, 4011, 3258, 2009, 173, 3198, 942, 3545, 1091, 3881, 3032, 3314, 95, 1542, 1388, 2949, 685, 2072, 1652, 2935, 1988, 1256, 4011, 3283, 2781, 3058, 929, 1818, 942, 1297, 4011, 1421, 532, 702, 3314, 4011, 2408, 3747, 2132, 3027, 2523, 3633, 1414, 95, 3571, 2902, 1700, 702, 2688, 2132, 3205, 2678, 3844, 4011, 3383, 1836, 268, 3844, 4011, 2195, 689, 1954, 702, 3118, 3822, 388, 1902, 1305, 3075, 1169, 4011, 3231, 2498, 3486, 3145, 737, 3565, 1598, 1917, 1902, 800, 2850, 3844, 2083, 3901, 1196, 403, 2621, 2955, 1414, 3253, 3664, 2958, 1169, 3035, 2672, 4011, 3235, 3145, 807, 388, 3534, 3822, 3635, 2072, 1652, 3753, 1091, 2678, 1988, 1215, 807, 1036, 1044, 3844, 2773, 3075, 1700, 702, 3657, 2316, 3314, 3833, 2132, 3027, 1988, 3145, 2863, 444, 1507, 2072, 1652, 807, 1091, 3032, 2552, 587, 504, 3314, 3851, 2640, 2949, 2132, 4011, 3247, 1858, 1444, 4013, 3205, 2488, 4011, 551, 702, 2066, 3898, 784, 942, 2523, 1564, 3314, 1254, 1924, 1808, 2449, 95, 1669, 1544, 2897, 1727, 3569, 993, 2132, 3666, 3844, 2270, 2666, 1388, 37, 4011, 881, 3739, 3141, 498, 3822, 2072, 1652, 545, 3027, 3844, 2851, 3739, 1069, 1902, 1091, 3027, 3314, 1924, 1700, 3441, 3073, 2382, 869, 1700, 3731, 825, 2132, 1700, 2341, 1564, 2162, 1700, 1507, 3289, 1954, 3282, 403, 1902, 3205, 4011, 641, 403, 702, 13, 2200, 95, 2602, 1006, 1091, 1538, 2781, 4011, 1564, 1628, 554, 2515, 587, 2382, 403, 1902, 3205, 571, 2890, 1064, 3314, 4011, 641, 3258, 2883, 1107, 3319, 1414, 2972, 942, 2881, 2924, 3844, 1595, 869, 4011, 3231, 2498, 702, 2010, 3710, 1961, 1902, 807, 3032, 2640, 2949, 1169, 4011, 258, 1388, 4011, 2773, 2498, 869, 2890, 3330, 702, 2797, 933, 4011, 1273, 2883, 1902, 3209, 807, 693, 3032, 3289, 1627, 3753, 2282, 1961, 1902, 1927, 942, 3862, 1902, 2341, 106, 2132, 2222, 95, 2085, 1994, 3204, 3289, 1627, 3753, 547, 3862, 1902, 3205, 2989, 2132, 2222, 1606, 3991, 33, 1700, 702, 1151, 2132, 2982, 2439, 4011, 2179, 942, 3270, 1388, 4011, 3204, 3739, 1493, 1280, 2121, 774, 2200, 2009, 2850, 1388, 2270, 1064, 2087, 1917, 807, 1091, 693, 2678, 1988, 1700, 702, 2802, 2132, 597, 2488, 3739, 1091], [4011, 1443, 553, 2720, 139, 3974, 3061, 1337, 929, 641, 1813, 3844, 4011, 419, 1256, 1778, 1659, 1388, 1170, 1220, 1414, 4011, 1032, 3664, 2746, 3844, 301, 2615, 942, 1917, 342, 2132, 1033, 929, 2153, 3901, 628, 3633, 1545, 1414, 929, 2972, 2746, 1254, 1924, 3363, 2233, 3204, 3604, 1823, 1414, 4011, 2773, 3604, 2895, 2746, 3844, 3538, 3604, 1337, 4011, 3594, 1181, 2552, 1703, 3634, 842, 842, 3258, 3204, 2179, 2439, 1631, 942, 2261, 1493, 3174, 3995, 3117, 784, 520, 1980, 1414, 4011, 1148, 942, 2712, 1999, 3314, 2439, 942, 837, 942, 1853, 3314, 1493, 3026, 1253, 1605, 3161, 3403, 3036, 1845, 784, 1414, 4011, 3625, 2132, 212, 4011, 2196, 1775, 1388, 2103, 1564, 1078, 28, 1329, 4011, 208, 3753, 2277, 1298, 1337, 4011, 2853, 1910, 2099, 1388, 4011, 2449, 138, 1892, 2552, 1917, 3753, 1136, 3247, 700, 439, 2439, 1388, 1821, 2969, 3161, 1388, 1968, 1620, 3322, 604, 1388, 1073, 1011, 3198, 3129, 1388, 3120, 790, 942, 3545, 1290, 1388, 42, 1493, 2624, 1486, 1507, 3314, 2073, 3844, 4011, 2195, 689, 702, 1091, 2146, 3844, 3901, 1691, 2894, 2615, 3314, 3732, 2265, 2447, 2615, 13, 1075, 3604, 2295, 1414, 929, 2972, 2746, 3844, 301, 1256, 93, 668, 1388, 1170, 1220, 2132, 708, 929, 1148, 158, 1388, 4011, 2015, 3233, 982, 2261, 2642, 512, 1451, 95, 2755, 1414, 4011, 3875, 942, 1832, 1999, 1253, 2890, 1112, 1286, 658, 2974, 3986, 1746, 1794, 2642, 2366, 942, 1570, 2644, 1980, 1451, 95, 1658, 385, 1414, 4011, 2774, 1475, 1370, 1096, 942, 2631, 1999, 3026, 2132, 212, 4011, 3053, 3892, 1771, 4011, 1394, 1885, 702, 95, 3098, 2354, 3314, 1254, 1924, 1254, 1924, 3710, 2988, 3678, 2700, 2826, 2036, 3545, 742, 3198, 2782, 2439, 459, 1439, 1043, 3322, 222, 3322, 2782, 3161, 2615, 3710, 2988, 779, 2700, 1856, 658, 2644, 1794, 6, 3986, 512, 95, 2643, 2366, 108, 2643, 506, 781, 1036, 891], [3120, 790, 807, 3437, 1254, 1994, 1557, 3198, 3129, 2672, 3894, 1256, 95, 3094, 2921, 4011, 2719, 1939, 240, 1256, 929, 272, 1256, 2239, 3198, 2029, 1652, 185, 3437, 3634, 3371, 790, 1564, 1670, 1478, 1253, 403, 185, 3844, 3558, 1414, 3894, 3844, 1277, 1808, 113, 1601, 2758, 1193, 942, 693, 3776, 2965, 1012, 3634, 2890, 195, 2240, 410, 1256, 2136, 4011, 1014, 47, 3200, 936, 3453, 4011, 2141, 1388, 1069, 3664, 27, 80, 3684, 790, 3901, 1196, 3129, 3198, 702, 95, 3376, 2049, 2132, 2572, 1444, 1414, 2356, 2449, 1574, 2923, 1388, 1128, 2978, 729, 3198, 498, 2110, 1735, 4011, 790, 1444, 2132, 2738, 3306, 2916, 1256, 2105], [3120, 790, 2214, 3965, 1256, 1181, 3438, 1388, 4011, 2301, 2758, 2498, 1256, 2239, 2897, 4011, 3878, 807, 3276, 814, 95, 3417, 1407, 942, 4011, 2075, 1538, 807, 2066, 2878, 522, 1414, 2678, 3844, 3666, 1008, 280, 2640, 1037, 3907, 349, 120, 2624, 2435, 3634, 1110, 2529, 1902, 3205, 785, 2132, 2864, 3314, 4011, 765, 1143, 689, 2015, 3901, 2498, 2087, 3046, 3847, 942, 790, 3027, 1980, 955, 3844, 4011, 948, 3356, 2025, 1388, 3901, 1813, 1808, 2132, 137, 2672, 11, 955, 1836, 4011, 689, 2639, 4, 785, 1700, 185, 95, 2721, 3633, 3314, 4011, 2536, 942, 1157, 1652, 240, 1256, 929, 272, 1256, 3349, 3822, 3204, 2179, 1479, 2320, 1808, 3999, 3526, 95, 1469, 2132, 3046, 569, 1691, 1902, 2246, 88, 95, 641, 2249, 2132, 3950, 929, 2845, 3205, 361, 2552, 3314, 3965, 95, 1465, 3302, 2498, 702, 4012, 2132, 95, 1707, 2597, 944, 4011, 2729, 1388, 4011, 765, 3615, 689, 942, 2678, 1741, 3765, 804, 4011, 2075, 3768, 3205, 1702, 2894, 929, 1070, 2552, 2758, 2113, 1170, 1220, 942, 1900, 1388, 4011, 2860, 790, 3844, 4011, 2302, 3314, 3901, 1070, 3869, 3571, 2382, 1945, 1964, 2103, 1564, 655, 1468, 1168, 3205, 1688, 3314, 2890, 1105, 3844, 4011, 1170, 3638, 728, 942, 1055, 2132, 3206, 4011, 2342, 3844, 2890, 261, 3029, 1256, 3349, 790, 1919, 4011, 641, 1813, 3844, 3763, 3844, 3175, 3927, 3781, 2132, 95, 2768, 3187, 2672, 214, 3882, 2382, 1917, 2725, 2799, 4011, 2755, 865, 3965, 2897, 4011, 3895, 2498], [2758, 1939, 3120, 790, 1902, 3205, 2188, 3198, 3844, 2635, 2883, 1256, 2890, 1557, 3129, 1622, 3232, 1388, 4011, 560, 1169, 786, 957, 193, 3499, 3120, 3210, 1256, 4011, 2239, 172, 4011, 2758, 3362, 2894, 747, 2750, 2847, 2132, 3789, 3634, 474, 3204, 2903, 1834, 3474, 2382, 4011, 2498, 2035, 3314, 4011, 739, 2932, 2672, 1254, 1924, 702, 1091, 3961, 212, 474, 3336, 2737, 607, 1383, 3129, 3198, 901, 0, 414, 0, 2676, 2920, 2373, 607, 2762], [4011, 3120, 790, 3234, 4011, 1469, 1388, 694, 1395, 3198, 2672, 3894, 1254, 1994, 3437, 95, 3094, 2921, 2894, 4011, 1154, 1939, 1169, 2732, 4011, 382, 3958, 1381, 3198, 694, 1395, 1526, 2672, 3894, 1169, 2079, 2416, 3669, 1414, 474, 403, 491, 21, 1670, 1478, 1652, 3449, 2664, 3844, 2890, 1014, 1939, 942, 702, 3657, 1875, 2894, 1280, 1529, 2066, 3158, 2433, 3314, 4011, 278, 942, 2536, 33, 2894, 95, 570, 2149, 1388, 3362, 2132, 3040, 4011, 743, 3289, 4011, 1469, 1330, 185, 1091, 3511, 4011, 2503, 2923, 2978, 729, 1332, 4011, 936, 694, 1395, 3198, 702, 95, 2009, 2281, 1652, 2781, 3205, 95, 3376, 2049, 2132, 2572, 3204, 0, 1808, 693, 403, 2145], [4011, 2448, 2557, 863, 1156, 1999, 470, 475, 3314, 3120, 790, 1652, 2321, 929, 1170, 1691, 1388, 1492, 3938, 2132, 367, 1169, 2882, 95, 1357, 3314, 2697, 1999, 4011, 1495, 3601, 3794, 4011, 2414, 641, 933, 1388, 1574, 2498, 2382, 4011, 1417, 1612, 4011, 3643, 1388, 3027, 474, 1268, 2132, 3205, 3844, 1194, 921, 1388, 4011, 1691, 2552, 1870, 1002, 1061, 3891, 3833, 974, 1169, 2608, 1999, 4011, 2536, 942, 1157, 3782, 470, 1736, 1519, 3844, 4011, 1357, 942, 2736, 921, 1388, 4011, 1691, 3911, 3844, 4011, 2520, 933, 790, 787, 1670, 1478, 2154, 2132, 2756, 1169, 4011, 1691, 3822, 2890, 1329, 2359, 4011, 1837, 2132, 3967, 3117, 95, 2235, 367, 1329, 784, 3822, 3672, 2455, 3844, 4011, 3408, 738, 1999, 1107, 95, 3021, 790, 569, 1691, 185, 4011, 3044, 1388, 4011, 2498, 3209, 3314, 2722, 3996, 1917, 1902, 2839, 1838, 3341, 1414, 1488, 1156, 1037, 4006, 4011, 3611, 3615, 689, 3460, 1049, 2529, 3601, 3205, 3912, 785, 2382, 4011, 1691, 1107, 367, 1808, 3309, 1464, 1019, 3822, 1917, 2298, 807, 554, 1700, 3702, 2132, 3814, 1507, 2894, 689, 540, 1968, 3046, 4011, 881, 1388, 95, 3381, 1707, 2056, 3323, 3844, 3341, 185, 2940, 1256, 4011, 1170, 1691, 453, 1388, 1492], [3120, 790, 3569, 3341, 1256, 4011, 1545, 3825, 1107, 929, 2658, 111, 3314, 95, 3615, 689, 1049, 3120, 179, 4011, 1465, 3752, 3631, 158, 3445, 790, 95, 2052, 2984, 865, 1301, 3459, 3204, 1652, 3869, 3844, 528, 120, 172, 4011, 1181, 790, 787, 1670, 1478, 2781, 3205, 1768, 2894, 2890, 3075, 1771, 3844, 95, 1396, 1691, 1256, 4011, 1549, 1256, 2239, 477, 474, 3032, 3405, 1969, 1169, 95, 2733, 258, 2132, 4011, 3362, 2552, 2143, 4011, 3408, 1815, 3844, 2230, 185, 2475, 4011, 2536, 942, 1157, 3869, 4011, 3299, 3053, 3204, 1256, 4011, 641, 2758, 1181, 1388, 4011, 2773, 1220, 2552, 929, 1556, 258, 534, 3822, 3862, 702, 1640, 1036, 2132, 137, 2672, 4011, 1315, 953, 1700, 1902, 3205, 785, 2132, 2601, 689, 540, 1968, 3046, 3847, 95, 3643, 3314, 929, 3619, 1766, 2132, 3205, 1710, 2382, 4011, 389, 1551, 2132, 664, 3306, 696, 790, 1245, 1507, 4011, 2639, 3314, 1660], [3120, 790, 3814, 929, 3376, 833, 1908, 2132, 258, 4011, 2301, 2498, 0, 2382, 2010, 3542, 1700, 3782, 95, 3187, 3844, 4011, 1148, 874, 1388, 1074, 628, 3634, 3198, 3129, 2132, 1361, 474, 2672, 3738, 929, 838, 1691, 1388, 4011, 1143, 689, 1107, 2657, 2869, 845, 232, 385, 3891, 4011, 2288, 3844, 411, 3409, 1999, 1735, 4011, 1691, 2132, 78, 554, 790, 956, 1670, 1478, 2154, 311, 172, 4011, 1691, 3145, 395, 3762, 2132, 3205, 2368, 2672, 4011, 3657, 641, 874, 3145, 342, 3822, 220, 2298, 3889, 1845, 1183, 2477, 2382, 2890, 3710, 2662, 2427, 2846, 95, 1253, 2132, 1671, 1107, 2066, 1435, 2869, 2983, 3198, 3942, 376, 1971, 605, 942, 1336, 543, 2420, 1735, 4011, 3283, 2132, 2601, 899, 3745, 942, 214, 3882, 95, 3752, 2557, 3844, 4011, 1353, 565, 3029, 1478, 3575, 95, 878, 1972, 1836, 2651, 1700, 3782, 95, 3276, 628, 2132, 3218, 2572, 3519, 1735, 4011, 1691, 2572, 1314, 942, 1657, 3778, 1268, 2809, 942, 220, 2154, 2132, 1408, 3331, 2132, 2773, 289, 942, 115, 4011, 1261, 3822, 790, 2832, 1245, 2552, 2581, 2552, 3203, 702, 13, 95, 2175, 2132, 2657, 2869, 1652, 3644, 2894, 2296, 3168, 942, 95, 3796, 1388, 573, 1256, 4011, 960, 2382, 3844, 4011, 860, 4011, 2536, 942, 1157, 113, 929, 3107, 2553, 942, 126, 1256, 95, 475, 3187, 2132, 3814, 4011, 946, 1540, 1037, 1414, 4011, 2227], [1493, 3174, 113, 2890, 641, 3629, 3844, 411, 1388, 2890, 2773, 88, 1414, 2198, 2187, 1754, 4011, 2972, 1388, 2073, 3788, 3844, 2691, 1256, 2239, 1493, 3478, 2672, 645, 1835, 3844, 1355, 2758, 2132, 2073, 3844, 4011, 3430, 2195, 689, 3314, 95, 1469, 1922, 1388, 3061, 3713, 2508, 4011, 902, 3314, 2066, 117, 2932, 3844, 3785, 2073, 240, 1256, 1280, 272, 1256, 913, 3822, 1917, 807, 3437, 1493, 2132, 95, 2906, 839, 2529, 2401, 2132, 40, 2357, 942, 1476, 1388, 1493, 1749, 3869, 13, 3036, 2447, 1404, 1806, 1256, 4011, 1994, 2895, 3204, 3198, 3129, 3437, 2894, 3120, 790, 2917, 2753, 1621, 2847, 2132, 4011, 3075, 272, 1256, 2239, 3198, 1652, 3569, 2132, 3027, 3844, 3666, 3844, 681, 2894, 1968, 47, 3844, 1654, 3478, 2132, 2758, 3844, 1277, 2552, 403, 2041, 3894, 3415, 1670, 1478, 2231, 1388, 3894, 1652, 3437, 3198, 702, 1660, 4011, 787, 1388, 790, 1355, 1969, 3498, 2088, 1562, 1667, 1469, 1922, 1414, 2842, 3713, 2508, 1493, 942, 3198, 1902, 3027, 3844, 4011, 2520, 978, 1388, 4011, 117, 2015, 3314, 4011, 1621, 3247, 1858, 3844, 3238, 1493, 702, 971, 2132, 1040, 3844, 95, 2972, 1691, 1107, 3604, 3844, 3583, 3372, 2006, 1256, 3349, 942, 3198, 3844, 2066, 2924, 1691, 1107, 2615, 1256, 1523, 3761, 1493, 1902, 3343, 3844, 1924, 1256, 2255, 942, 3198, 1902, 1839, 4011, 3204, 3844, 2615, 1404, 1229, 2894, 2073, 702, 1072, 2132, 3205, 1107, 1791, 1256, 1523, 2665, 942, 1667, 1229, 2894, 790, 1107, 140, 1256, 1523, 3409], [1574, 3643, 4001, 2085, 3854, 842, 2758, 728, 33, 3806, 3901, 2498, 2894, 2722, 2773, 3204, 792, 4011, 3230, 258, 2132, 95, 1070, 3844, 4011, 2411, 3785, 1917, 258, 4011, 626, 1256, 3910, 1388, 4011, 2758, 1256, 385, 1331, 2672, 3615, 3046, 3847, 942, 1638, 2672, 1533, 984, 1329, 1968, 2869, 3938, 3844, 929, 838, 1143, 689, 1910, 3362, 1256, 3349, 790, 863, 2672, 3907, 2132, 158, 3822, 3362, 3781, 2132, 95, 3175, 735, 3187, 3844, 4011, 3216, 874, 3634, 3198, 1652, 185, 19, 1256, 2890, 1229, 3314, 4011, 1939, 403, 1451, 95, 496, 2316, 385, 3314, 3762, 942, 185, 3209, 68, 2672, 1498, 869, 403, 113, 2890, 3519, 1735, 4011, 3124, 3314, 4011, 2085, 385, 0, 3822, 513, 2132, 95, 2282, 1688, 8, 1411, 1478, 3198, 3286, 2722, 3793, 3844, 4020, 2672, 3894, 1170, 2793, 2382, 2597, 2890, 3068, 1818, 4011, 1254, 1994, 702, 1091, 2245, 2132, 258, 1107, 1835, 2552, 403, 3463, 2132, 1279, 2890, 2758, 1229, 3314, 790, 4011, 431, 1388, 1069, 1031, 3136, 3896, 1169, 95, 2645, 1965, 624, 2132, 925, 3198, 2132, 4011, 3126, 1253, 2329, 1275, 350, 120, 3198, 1168, 3450, 1414, 2356, 702, 3844, 2414, 1818, 2382, 3991, 403, 702, 3844, 1990, 1388, 4011, 1254, 1994, 1280, 2360, 3128, 2315, 403, 223, 3731, 3117, 1292, 403, 3540, 258, 2678, 4011, 1324, 3079, 1275, 3854, 2616, 132, 1835, 2319, 95, 430, 2695, 1388, 1574, 2963, 2597, 3710, 4011, 626, 1497, 3844, 4011, 2639, 2593, 2227, 702, 2066, 770, 3513, 942, 95, 2455, 752, 2281, 1507, 3769, 1388, 790, 2569, 3046, 95, 3340, 3047, 3314, 4011, 2056, 220, 3753, 2777, 942, 95, 158, 865, 1835, 752, 3205, 2316, 2552, 1700, 752, 53, 3833, 1156, 1037, 3907, 3762, 2449, 77, 1971, 605, 1652, 2041, 790, 2672, 1835, 3844, 4011, 1196, 1835, 1652, 2707, 1169, 233, 689, 2735, 2132, 3046, 942, 2966, 2894, 95, 1586, 158, 865, 949, 1388, 3786, 3844, 4011, 3615, 689, 1256, 244, 3753, 2494, 1256, 4011, 2131, 1388, 2179, 2547, 3861, 1169, 403, 2803, 95, 2007, 851, 2405, 3844, 3822, 2455], [2439, 1631, 702, 2281, 3844, 930, 1169, 4011, 3704, 1388, 2890, 665, 942, 1902, 3205, 3333, 2552, 1821, 2969, 1092, 2132, 1802, 825, 95, 983, 1107, 2445, 2522, 2439, 1133, 2972, 2132, 1254, 1924, 2110, 1169, 1170, 569, 1495, 1414, 452, 3314, 4011, 936, 1388, 2890, 641, 288, 1821, 956, 1368, 2872, 227, 4011, 77, 868, 2281, 1256, 2132, 4011, 1749, 852, 2894, 95, 2617, 1256, 2890, 2738, 1811, 0, 942, 1902, 807, 2341, 1925, 1953, 2664, 3901, 626, 2439, 702, 2281, 942, 403, 702, 95, 3054, 1660, 2872, 2449, 781, 1036, 1165, 3009, 3762, 3011, 1256, 2136, 0, 3011, 1256, 2800, 781, 1036, 1414, 1750], [2439, 1631, 1451, 2890, 2520, 385, 1388, 4011, 2498, 3314, 2890, 3204, 1821, 2969, 1256, 2105, 3844, 2890, 641, 258, 2897, 95, 1691, 1107, 2516, 2387, 3844, 2019, 2432, 2194, 3720, 287, 1148, 385, 1388, 4011, 1691, 3422, 2132, 4011, 3075, 2455, 3844, 2066, 2924, 3362, 1107, 1236, 724, 3929, 2439, 1451, 2890, 641, 385, 1388, 4011, 2498, 3844, 95, 1691, 1107, 1236, 1059, 3844, 1316, 1170, 1220, 403, 1808, 545, 2009, 4011, 3126, 1388, 475, 2552, 787, 2510, 3497, 1808, 1019, 95, 190, 3314, 990, 3365, 865, 778, 3365, 1777, 2439, 2439, 113, 95, 3771, 2391, 1137, 4011, 1691, 942, 1821, 2969, 3995, 3117, 95, 1586, 158, 2439, 1902, 1091, 3205, 3589, 2132, 3027, 3314, 4011, 1994, 2895, 3204, 3844, 2496, 1107, 2628, 1256, 2753, 2327, 942, 4011, 3358, 183, 1256, 2753, 494, 2552, 403, 1902, 1827, 1838, 2066, 3826, 822, 3576, 3314, 95, 2793, 1388, 1571, 1749, 403, 185, 3454, 2672, 1194, 1571, 492, 1169, 4011, 2895, 3204, 1919, 4011, 3155, 2133, 1414, 4011, 2691, 3457, 2883], [2439, 1631, 1388, 1821, 2969, 3844, 4011, 3430, 2195, 689, 1607, 277, 2132, 95, 2103, 1965, 3844, 2066, 2924, 1691, 1107, 1236, 1059, 50, 1256, 3442, 2439, 3925, 3688, 2894, 2349, 1467, 3844, 4011, 1370, 874, 1253, 2511, 2132, 1730, 95, 2533, 403, 185, 1213, 3117, 4011, 2150, 1256, 95, 1615], [766, 1700, 702, 276, 95, 928, 3362, 3314, 1821, 2969, 2552, 1917, 3753, 1414, 4011, 3080, 1049, 1388, 4011, 689, 2639, 3409, 1037, 1635, 3117, 4011, 3570, 3734, 942, 3215, 1037, 2848, 2270, 2166, 1388, 1088, 2303, 1917, 1902, 2839, 3448, 2132, 2490, 929, 876, 2085, 3643, 2132, 946, 2552, 1917, 2738, 4011, 3398, 1966, 3844, 4011, 2498, 963, 3844, 929, 2829, 1691, 3901, 1692, 4011, 1471, 1075, 3041, 1444, 1236, 724, 3929, 1586, 1414, 4011, 1991, 3198, 1170, 2239, 2552, 1703, 3634, 1826, 1128, 1821, 276, 3334, 3854, 4011, 1037, 3844, 4011, 3754, 2552, 4011, 3779, 385, 3314, 4011, 1502, 863, 2672, 2066, 1322, 385, 3634, 1471, 1496, 3663, 3487, 1414, 4011, 3156, 874, 869, 4011, 2786, 2154, 3209, 3521, 95, 3061, 1357, 1414, 3822, 628, 3426, 3159, 1423, 4011, 1176, 3314, 787, 2510, 2692, 1444, 1414, 4011, 915, 3286, 3634, 1301, 3169, 2640, 874, 2482, 2132, 2601, 1821, 95, 1374, 3217, 1414, 4011, 933, 2640, 1999, 1735, 4011, 2365, 1254, 1994, 77, 2439, 1631, 1451, 4011, 1471, 1148, 385, 172, 4011, 1322, 385, 3634, 3487, 774, 1605, 2849, 2822, 958, 4011, 2455, 3844, 1074, 628, 2132, 212, 4011, 2786, 1145, 1775, 1107, 95, 3910, 2640, 809, 2447, 3868, 2969, 2600, 2132, 95, 1748, 3235, 2894, 3087, 1264, 1672, 1968, 1414, 929, 1322, 761, 2746, 1170, 2105, 2552, 2125, 2199, 3595, 3406, 407, 2754, 942, 1852, 1206, 2250, 3828, 3844, 4011, 641, 1346, 1999, 1388, 4011, 3362, 2132, 1279, 1700, 95, 2662, 2553, 172, 3747, 27, 70, 2180, 942, 2914, 3101, 1451, 95, 385, 1980, 3844, 4011, 2520, 933, 2552, 4011, 3075, 1222, 4011, 3235, 942, 917, 95, 830, 3844, 4011, 3616, 3948, 4011, 3086, 702, 3182, 1148, 1903, 1771, 3844, 929, 1170, 842, 3055, 2552, 1917, 2208, 2132, 528, 120, 3844, 4011, 689, 2639, 946, 1037, 3907, 4011, 799, 1917, 1357, 3539, 111, 3868, 3929, 3634, 1538, 3258, 1037, 3844, 4011, 3616, 3948, 2529, 3660, 3901, 963, 1691, 4008, 1821, 702, 95, 2389, 784, 3314, 112, 950, 1329, 4011, 1394, 1885, 702, 95, 804, 3938, 831, 3314, 3868, 2969, 1821, 2969, 3710, 2988, 779, 2700, 856, 12, 2830, 357, 3487, 134, 1084, 2439, 1306, 3169, 3159, 781, 1036, 432], [1821, 2969, 3753, 1911, 3844, 4011, 771, 2195, 689, 3204, 1388, 4011, 3633, 3822, 1808, 693, 2821, 3634, 1826, 41, 687, 1799, 276, 687, 702, 1660, 825, 2552, 95, 1969, 3787, 593, 720, 95, 483, 1692, 3314, 95, 41, 2931, 4011, 1771, 3634, 2439, 1631, 3844, 4011, 842, 784, 2455, 865, 1236, 724, 1414, 4011, 626, 1414, 1991, 3198, 185, 785, 2132, 2986, 3833, 95, 120, 3844, 4011, 1329, 1034, 4011, 955, 3844, 4011, 283, 1388, 4011, 1014, 935, 1605, 1606, 3299, 3053, 887, 3844, 4011, 2163, 865, 4011, 771, 626, 3145, 2863, 392, 3209, 3600, 2186, 942, 1091, 2010, 1452, 1256, 4011, 771, 1771, 3396, 1799, 392, 13, 1091, 3871, 2894, 1700, 2821, 1631, 2552, 3807, 1388, 2890, 3204, 2382, 1267, 2890, 79, 403, 2621, 4011, 1826, 2764, 3116, 287, 1586, 158, 1414, 1236, 724, 137, 2672, 3145, 3316, 1821, 2154, 3399, 3082, 2708, 942, 3329, 3202, 2552, 1917, 2154, 929, 656, 3740, 1256, 3873, 1675, 1700, 1819, 807, 693, 1987, 2672, 4011, 3887, 1917, 3869, 2188, 3505, 482, 942, 71, 561, 33, 1700, 185, 2009, 2132, 2439, 1631, 2132, 1139, 287, 3934, 4011, 1254, 1994, 185, 3333, 3844, 287, 641, 385, 942, 1451, 929, 1148, 3844, 1261, 4011, 1407, 185, 2913, 942, 3891, 4011, 3362, 2726, 1236, 724, 1652, 1268, 574, 2781, 2386, 2026, 608, 554, 702, 993, 1256, 1414, 1821, 3145, 2725, 95, 1387, 953, 787, 2510, 3497, 702, 1647, 3739, 993, 554, 3145, 1294, 3600, 702, 1821, 1245, 1777, 95, 3204, 1464, 33, 4011, 2107, 1917, 171, 4011, 2820, 3755, 4011, 69, 3106, 4011, 2688, 1280, 1866, 2282, 2132, 1235, 4011, 1939, 1911, 3844, 3901, 3519, 942, 392, 3032, 2132, 1631, 3314, 2890, 1798, 2382, 4011, 3299, 2316, 1544, 3851, 4011, 626, 185, 1388, 762, 4011, 946, 1037, 1194, 3204, 416, 3064, 726, 638, 2027, 3868, 3929, 640, 989, 3890, 2969, 1179, 3256, 2164, 3135, 2159, 1955, 3135, 2439, 1631, 1821, 2969, 1861, 1753, 3890, 2969, 2577, 1653, 3135, 402, 1303, 1791, 2120, 345, 1791, 407, 2754, 3868, 2969, 781, 1036, 1889], [2439, 1631, 1347, 1821, 2969, 807, 2341, 628, 2132, 3058, 3844, 929, 1092, 2132, 3225, 2924, 2672, 2195, 689, 3570, 2168, 1170, 2305, 1627, 1603, 287, 532, 2258, 942, 1917, 1660, 197, 2010, 95, 1658, 385, 4006, 4011, 245, 3734, 2597, 2066, 147, 1771, 1414, 3868, 2969, 3822, 2940, 3844, 3938, 2158, 1538, 1169, 1830, 2876, 3717, 2340, 385, 1821, 1464, 996, 1507, 2341, 1037, 4011, 1495, 3286, 95, 3633, 3844, 2529, 1368, 2872, 185, 2334, 2552, 787, 942, 113, 1700, 2010, 784, 158, 2672, 4011, 1170, 2665, 2883, 781, 1036, 3239, 3009, 3762, 3011, 1256, 2136, 0, 3011, 1256, 2800], [2439, 1631, 1347, 46, 1902, 1091, 3205, 586, 2597, 569, 3061, 2972, 2158, 2132, 1672, 1368, 2460, 3996, 2803, 929, 2520, 942, 2306, 517, 1180, 1388, 4011, 2498, 2552, 3828, 2672, 1852, 1206, 1375, 1042, 942, 1913, 523, 2600, 1761, 3844, 1393, 2382, 1821, 3869, 1998, 2132, 860, 2894, 3822, 1885, 1169, 3832, 392, 1107, 148, 3229, 3996, 4011, 3878, 2896, 4011, 641, 933, 942, 1914, 807, 380, 974, 2154, 2849, 2822, 3334, 869, 2539, 2894, 3435, 2376, 781, 1036, 2578, 3009, 3762, 3011, 1256, 2136, 0, 3011, 1256, 2800], [2439, 1631, 1808, 10, 1821, 2969, 2132, 3205, 3932, 1388, 797, 3141, 2087, 784, 1036, 2158, 1168, 860, 929, 2056, 548, 1821, 2103, 2132, 4011, 2837, 2522, 3522, 2132, 1511, 1737, 2672, 95, 515, 3362, 1107, 4011, 3148, 799, 1672, 3753, 3844, 2195, 689, 854, 2031, 1472, 2158, 2132, 3868, 3929, 1170, 626, 1808, 586, 929, 142, 942, 2439, 490, 3822, 1495, 1808, 113, 148, 3229, 3996, 3854, 4011, 1036, 2467, 781, 1036, 3587, 3009, 3762, 3011, 1256, 2136, 0, 3011, 1256, 2800], [2439, 1631, 1902, 3544, 1821, 3182, 2972, 1691, 2894, 1073, 1011, 1256, 2239, 1169, 2200, 2394, 2850, 3314, 95, 3633, 2894, 1933, 4011, 1254, 1994, 77, 185, 1213, 3117, 2010, 172, 3646, 1388, 3442, 2623, 3235, 2894, 1236, 3307, 2206, 95, 133, 2894, 2349, 1467, 1700, 2009, 2439, 2184, 1256, 4011, 2150, 3314, 2079, 1999, 172, 2200, 780, 3117, 3634, 3958, 1789, 2382, 4011, 551, 702, 1091, 2552, 2218, 2552, 641, 2975, 781, 1036, 2646, 3009, 3762, 3011, 1256, 2136, 0, 3011, 1256, 2800], [1791, 2738, 929, 2520, 2924, 3362, 3844, 4011, 524, 1388, 3624, 405, 2522, 3227, 869, 4011, 2536, 1602, 1245, 2132, 2474, 1256, 233, 2195, 689, 424, 865, 3087, 1568, 2516, 2387, 942, 1821, 3634, 1178, 2132, 929, 1037, 598, 1414, 528, 3735, 935, 3042, 3996, 733, 2132, 2691, 1811, 1169, 95, 2844, 2117, 1414, 929, 3656, 3844, 2990, 942, 1902, 3031, 3844, 1950, 1749, 1414, 2476, 1445, 172, 4011, 2072, 2738, 95, 1476, 3652, 2117, 1256, 4011, 935, 1444, 2382, 1253, 1624, 3958, 3204, 807, 693, 3897, 25, 865, 516, 2709, 3977, 490, 4011, 2072, 1902, 794, 1736, 1364, 1169, 4011, 309, 2455, 1414, 1821, 3478, 4011, 2536, 1602, 2132, 3628, 95, 830, 1388, 4011, 4003, 1579, 3977, 2449, 3344, 220, 794, 2282, 1660, 220, 2298, 794, 2552, 297, 1169, 3805, 1919, 2552, 220, 752, 807, 3841, 3289, 3606, 2321, 3805, 1412, 95, 878, 1388, 1749, 1445, 1414, 2476, 942, 4011, 2808, 1388, 1700, 1902, 3205, 1247, 942, 293, 2132, 1245, 1414, 1256, 929, 1372, 3805, 1412, 388, 3657, 297, 1385, 3822, 807, 2132, 2224, 434, 2382, 3110, 2894, 3822, 2101, 2558, 4011, 1646, 1902, 3205, 1291, 3833, 3822, 3893, 1089, 4011, 158, 1414, 1821, 185, 1624, 2520, 3844, 4011, 524, 1388, 95, 2752, 1107, 784, 1388, 929, 3570, 111, 1169, 4011, 3631, 2455, 865, 2516, 2387, 1481, 3901, 2793, 3822, 1455, 1808, 448, 4011, 2989, 1256, 95, 500, 2132, 2198, 2187, 1754, 2764, 3977, 3770, 1742, 752, 3205, 95, 1199, 3314, 1148, 1760, 1791, 3289, 220, 158, 1414, 2073, 1700, 4013, 3205, 2552, 1458, 2552, 2085, 1414, 1821, 403, 2449, 4011, 2883, 1107, 4011, 3075, 3844, 942, 1205, 3607, 3753, 4011, 3790, 3822, 3753, 4011, 1741, 2640, 341, 2270, 830, 1107, 2073, 702, 95, 1199, 1280, 4011, 189, 1256, 4011, 695, 1821, 942, 2387, 3869, 4011, 1458, 3790, 942, 3869, 2870, 388, 2963, 1660, 2087, 1344, 2026, 608, 1170, 2498, 3822, 4011, 3204, 2766, 3226, 3844, 593, 2883, 3805, 3841, 2281, 2132, 2281, 424, 2132, 1707, 4011, 1551, 3289, 220, 2781, 348, 95, 3638, 2595, 2931, 220, 2781, 299, 2924, 1414, 4011, 1037, 2323, 1987, 935, 956, 2084, 3447, 1808, 4011, 2442, 1388, 2200, 3589, 2132, 247, 2890, 2278, 2894, 95, 2502, 1444, 3822, 1808, 129, 2894, 4011, 3506, 1388, 4011, 1143, 689, 3901, 2498, 118, 935, 807, 3592, 434, 2132, 3205, 1225, 1256, 929, 1322, 1975, 865, 965, 3219, 935, 2803, 95, 475, 738, 2158, 1107, 2520, 3735, 3890, 1256, 244, 477, 1253, 2520, 1760, 2219, 2446, 1414, 2198, 2187, 1754, 1170, 2793, 2073, 1660, 2894, 4011, 1444, 151, 1412, 3753, 503, 3657, 2412, 942, 3821, 2341, 2875, 554, 3799, 1917, 3027, 3844, 3036, 3977, 1917, 1673, 2132, 807, 3314, 608, 2976, 3657, 2282, 2072, 1652, 2781, 2650, 3844, 4011, 3204, 137, 2850, 942, 2650, 2281, 3844, 1464, 942, 1917, 2839, 1673, 2132, 2421, 1627, 3844, 3854, 1892, 2555, 3204, 995, 3762, 2522, 1712, 3205, 3657, 515, 2132, 3926, 2572, 342, 3731, 2672, 2219, 1533, 3833, 1016, 1256, 929, 1322, 852, 1356, 151, 1019, 1414, 2972, 3822, 151, 693, 2260, 2850, 3145, 1287, 2132, 2886, 3833, 2850, 3862, 95, 1542, 1388, 1012, 1414, 1236, 724, 2552, 2219, 3116, 250, 342, 220, 2781, 1294, 1737, 1777, 3822, 2522, 781, 1036, 3582], [3174, 1404, 475, 525, 3844, 2073, 303, 3061, 158, 865, 3868, 3929, 1256, 2105, 185, 3844, 3207, 2066, 425, 2119, 1388, 2890, 2498, 2066, 3471, 1920, 910, 817, 4011, 1129, 583, 1076, 185, 3286, 3634, 485, 34, 2108, 1896, 1827, 1169, 403, 2931, 2486, 1872, 1276, 825, 3844, 3414, 1074, 628, 2552, 2073, 1603, 2850, 929, 180, 1708, 942, 653, 438, 2382, 3908, 1091, 2846, 1540, 2132, 95, 2498, 3844, 2142, 3822, 3718, 702, 3580, 1652, 807, 332, 4011, 3519, 270, 3127, 1493, 2839, 1808, 34, 2132, 1294, 369, 4011, 900, 3713, 1469, 1922, 3989, 3314, 2664, 3901, 702, 584, 1256, 4011, 1516, 1140, 2382, 13, 584, 1256, 2103, 1564, 2084, 3447, 2839, 1436, 2850, 1598, 942, 869, 403, 2781, 3230, 2430, 4011, 716, 2764, 563, 807, 1412, 1700, 1545, 3844, 2301, 2781, 1792, 1598, 1917, 1245, 2132, 1408, 1036, 2850, 1388, 4011, 2932, 1008, 2498, 3314, 1493, 1140, 403, 2781, 2426, 2561, 2890, 3821, 2636, 426, 3844, 4011, 2073, 3204, 95, 1937, 2177, 3844, 4011, 756, 1388, 4011, 1101, 639, 2498, 3822, 2661, 2850, 388, 1388, 2890, 3921, 631, 1169, 95, 1903, 1289, 935, 3869, 3844, 3889, 1388, 95, 2479, 21, 2672, 2066, 778, 3184, 3032, 2890, 3807, 1182, 3844, 2890, 1229, 2924, 1414, 1791, 766, 1780, 221, 1169, 4011, 3060, 1579, 2890, 2658, 942, 1884, 34, 2062, 1986, 4011, 1893, 3572, 3822, 752, 581, 2407, 2890, 3204, 2132, 95, 738, 158, 4011, 1008, 3638, 3219, 1603, 3991, 1036, 3559, 2812, 1388, 3901, 2890, 1176, 519, 3869, 21, 2316, 187, 1605, 2991, 3560, 418, 2618, 1414, 4011, 628, 1404, 520, 3844, 4011, 3631, 158, 865, 3567, 2062, 1408, 935, 1143, 689, 1070, 3117, 2132, 95, 1893, 258, 2931, 95, 428, 942, 1505, 3068, 385, 946, 720, 2482, 1107, 1073, 1011, 1987, 338, 4011, 46, 460, 3634, 929, 3119, 689, 158, 95, 1060, 2870, 3844, 4011, 2381, 1586, 2158, 1388, 3868, 2969, 1418, 4011, 2827, 2030, 1388, 2066, 1103, 942, 3005, 2660, 392, 1486, 2132, 2683, 265, 2064, 784, 2583, 942, 238, 1253, 3589, 2132, 616, 2132, 1036, 673, 3014, 3634, 1144, 3862, 3869, 1012, 1337, 3635, 1011, 942, 2969, 2883, 3087, 2773, 2436, 2454, 1984, 185, 2586, 3783, 3634, 3447, 3314, 1091, 2369, 3844, 2296, 4011, 1940, 702, 95, 2932, 3822, 220, 3286, 95, 3276, 628, 3447, 2449, 1169, 4011, 1011, 158, 229, 1598, 403, 702, 95, 2932, 1652, 2781, 3027, 2894, 2991, 3407, 2341, 3013, 2341, 738, 646, 2662, 3854, 1972, 115, 4011, 1965, 1493, 2803, 1107, 104, 2969, 2462, 2664, 2850, 2917, 3763, 985, 590, 2890, 3315, 3634, 4011, 628, 403, 3602, 3580, 1777, 3407, 3133, 3153, 942, 1537, 1283, 3869, 3844, 3088, 3795, 1296, 3901, 3053, 935, 789, 3027, 1700, 185, 2431, 3314, 4011, 1254, 1924, 3664, 2132, 1279, 2066, 2391, 869, 403, 185, 3985, 782, 2132, 1294, 33, 3345, 3447, 2122, 2090, 3844, 2890, 1416, 2132, 1800, 2664, 1256, 95, 3933, 1920, 3380, 3822, 156, 1808, 1292, 3422, 2132, 965, 2140, 2475, 2637, 942, 679, 31, 3447, 1914, 807, 1412, 95, 2602, 1036, 2850, 1388, 1493, 3634, 3423, 2890, 294, 2132, 4011, 3204, 2894, 1798, 1388, 2664, 2552, 4011, 3089, 203, 2132, 433, 3695, 942, 46, 403, 3801, 3844, 2890, 2261, 2740, 1107, 3567, 1808, 693, 1356, 2003, 2713, 3844, 1935, 519, 1107, 24, 3844, 3666, 942, 3890, 2969, 3844, 4011, 2833, 1858, 1176, 95, 3102, 385, 3844, 4011, 51, 2382, 1036, 1016, 2924, 1107, 3335, 942, 3120, 790, 4011, 1897, 1132, 4011, 2580, 3857, 2132, 3271, 3685, 1256, 1146, 347, 4011, 2313, 3988, 2813, 2388, 113, 1820, 2382, 1404, 2650, 713, 3844, 4011, 431, 2619, 1107, 790, 3592, 2764, 2890, 3988, 3617, 1215, 807, 693, 2688, 1486, 1107, 4011, 1632, 3913, 1414, 1488, 2602, 863, 3117, 3314, 2664, 2917, 2890, 1508, 385, 3844, 4011, 2158, 2382, 403, 2154, 187, 3833, 1736, 1036, 2132, 2863, 3851, 2894, 3822, 2449, 3844, 955, 2925, 4011, 2932, 1140, 1808, 2359, 4011, 864, 3822, 2659, 3635, 2282, 2827, 2030, 1170, 3483, 1493, 3116, 1091, 3028, 1256, 2890, 965, 3710, 2249, 1107, 1690, 95, 3311, 838, 2569, 3519, 2132, 1563, 2638, 1765, 2890, 2200, 686, 3634, 4011, 613, 1036, 3043, 1537, 1283, 3314, 4011, 3868, 3929, 3362, 185, 2341, 1359, 1710, 2894, 2890, 314, 3683, 34, 3314, 4011, 1939, 1235, 4006, 1493, 1808, 879, 2132, 2835, 1414, 2073, 942, 3844, 2851, 3635, 1205, 2664, 807, 685, 3931, 2132, 95, 2792, 364, 577, 470, 3819, 1735, 1008, 2498, 1493, 942, 3447, 2035, 34, 1256, 3605, 4011, 1669, 3183, 3822, 602, 2890, 3230, 34, 1256, 4011, 2150, 3205, 1700, 3844, 2684, 95, 1036, 2586, 387, 2740, 3739, 2688, 2273, 2664, 2132, 2836, 3580, 1311, 403, 702, 782, 2132, 1408, 2393, 2132, 3822, 1666, 942, 1493, 1902, 3205, 3589, 2132, 49, 403, 185, 1091, 2010, 95, 2442, 3059, 2382, 784, 810, 2132, 4011, 2509, 1388, 3901, 1366, 2073, 3204], [2066, 1965, 2132, 2890, 3825, 3844, 1052, 1586, 2455, 865, 3868, 2969, 2394, 1493, 2850, 3314, 4011, 2381, 2640, 728, 118, 2890, 234, 258, 185, 2667, 1767, 942, 3844, 2890, 120, 1537, 1283, 3181, 2890, 1049, 942, 3133, 3153, 2122, 2890, 465, 869, 403, 3116, 137, 2281, 403, 2598, 2890, 43, 1414, 95, 3710, 3432, 3157, 467, 2382, 3314, 920, 3844, 2529, 403, 185, 3562, 3844, 2132, 2601, 1283, 95, 1736, 2427, 2808, 2084, 3447, 3689, 2132, 1164, 2894, 4011, 234, 3792, 1472, 3578, 2123, 1808, 981, 1493, 95, 1713, 4010, 3757, 1388, 3114, 0, 1337, 2529, 1321, 1451, 2111, 3844, 2552, 423, 2883, 0, 1280, 515, 2132, 1245, 2281, 1256, 3901, 2498, 2552, 1742, 2382, 95, 2472, 1016, 399, 4011, 1261, 3822, 403, 2210, 3901, 2546, 3844, 2066, 3003, 2894, 724, 0, 3571, 3901, 2498, 3145, 2863, 3998, 693, 95, 2602, 878, 1998, 3145, 3569, 392, 1412, 3884, 942, 2931, 2360, 1863, 3782, 95, 3276, 628, 404, 2839, 2360, 2281, 2132, 2831, 2125, 2785, 2382, 404, 3657, 1702, 2087, 3145, 497, 3901, 1220, 3844, 2073, 4011, 1469, 1922, 1493, 177, 3844, 2890, 1289, 1305, 2132, 2073, 2672, 645, 1835, 1482, 2132, 2552, 1736, 2552, 3690, 3713, 1114, 2664, 4011, 1148, 3299, 73, 1469, 3844, 4011, 2411, 3785, 1169, 1283, 942, 3067, 59, 3534, 3869, 331, 2132, 1639, 3657, 3571, 1414, 1573, 1472, 1493, 2839, 1808, 2242, 1388, 628, 2132, 1279, 2890, 767, 1414, 2073, 4011, 2411, 1273, 3314, 4011, 1910, 2099, 1388, 1008, 1593, 3615, 689, 1902, 1661, 2157, 95, 1036, 1392, 2420, 1444, 1737, 3822, 1493, 1902, 2714, 3581, 2672, 4011, 3615, 689, 702, 1875, 852, 3314, 1493, 1337, 2890, 628, 2894, 1835, 403, 113, 2343, 2323, 1193, 3844, 2977, 2195, 3664, 1939, 3799, 1176, 946, 3828, 942, 2221, 1507, 946, 1238, 1321, 1530, 392, 3715, 1388, 4011, 3047, 942, 2249, 2073, 807, 974, 1388, 3833, 1280, 1091, 2066, 3636, 3799, 942, 220, 807, 2132, 1245, 2261, 220, 807, 2132, 34, 3657, 1151, 403, 2449, 3862, 3753, 423, 2282, 3075, 388, 1388, 4011, 3230, 3844, 4011, 3247, 220, 807, 2132, 3205, 3657, 721, 942, 3205, 3657, 972, 3314, 4011, 3615, 689, 1008, 2498, 2073, 1902, 13, 3205, 615, 2894, 95, 3118, 2056, 1377, 1008, 2498, 2552, 1917, 2504, 2132, 2474, 1256, 4011, 3840, 3850, 1388, 4011, 3371, 2498, 1253, 1700, 398, 1040, 2552, 3289, 1283, 3739, 3153, 3753, 993, 1007, 1280, 3636, 2132, 2982, 1493, 2360, 1036, 1999, 2552, 3447, 1416, 2132, 3814, 2552, 423, 3886, 3844, 4011, 205, 2552, 518], [2073, 3788, 1660, 807, 95, 1374, 1357, 865, 1282, 1414, 3613, 1227, 2552, 3646, 3568, 2715, 2542, 1464, 3032, 95, 2731, 2740, 3844, 4011, 2463, 1388, 4011, 385, 3901, 628, 403, 3504, 95, 1015, 817, 2132, 3174, 1493, 1652, 248, 3926, 1024, 2132, 4011, 1173, 3901, 702, 993, 95, 3796, 1036, 1535, 1836, 2386, 3316, 1700, 752, 807], [3174, 1493, 863, 1735, 3901, 3362, 2894, 4011, 3223, 1257, 1388, 166, 3133, 3578, 1848, 3153, 702, 2850, 3314, 4011, 2808, 1388, 4011, 2498, 1169, 403, 185, 2102, 2894, 95, 858, 718, 3314, 895, 321, 3019, 1507, 2917, 3901, 830, 1493, 1808, 946, 3828, 1256, 4011, 1220, 2382, 2890, 2391, 1808, 893, 693, 2552, 95, 496, 377, 33, 869, 403, 1412, 4011, 2477, 2132, 258, 1700, 185, 1507, 2132, 2664, 2132, 3920, 2890, 787, 2084, 3447, 1169, 2851, 942, 935, 774, 2991, 3407, 3891, 2073, 1507, 738, 1493, 3116, 2010, 3822, 942, 1451, 2132, 2601, 2890, 3204, 95, 3551, 3401, 2498, 1902, 3205, 2126, 641, 3844, 4011, 3615, 689, 2897, 681, 942, 1253, 1493, 3569, 95, 3796, 1388, 2883, 3844, 4011, 1143, 689, 1493, 1902, 3205, 65, 2132, 1522, 3822, 403, 125, 3844, 4011, 3615, 689, 2552, 392, 331, 2132, 1639, 3901, 385, 1323, 2664, 3844, 2683, 2282, 14, 2126, 192, 2552, 95, 2056, 1264, 1808, 693, 784, 1388, 4011, 3176, 1207, 3901, 2498, 0, 685, 1091, 2552, 1458, 2552, 3890, 0, 942, 929, 630, 580, 1808, 693, 95, 1458, 3807, 1388, 1700, 3289, 2073, 3814, 929, 3697, 2072, 2672, 3901, 1220, 942, 3753, 3589, 2132, 15, 817, 4011, 1469, 3758, 1642, 3205, 95, 3204, 2132, 3650, 2850, 3314, 1008, 1220], [2691, 0, 2073, 2261, 3174, 1493, 1808, 2341, 551, 2678, 2523, 946, 2132, 842, 720, 942, 227, 403, 44, 4011, 3269, 3430, 544, 1493, 1541, 2890, 3125, 699, 3829, 3844, 1069, 172, 4020, 935, 2672, 645, 1835, 3844, 4011, 1196, 2382, 403, 2562, 4011, 1931, 2195, 689, 942, 3231, 1728, 557, 2132, 4011, 3611, 2448, 2557, 1561, 2411, 807, 2640, 3219, 3117, 2672, 217, 2917, 4011, 860, 1388, 154, 1253, 4011, 3313, 544, 702, 4011, 692, 628, 1388, 1220, 3314, 3430, 2411, 1901, 2678, 946, 2883, 3844, 2640, 720, 388, 2195, 689, 2072, 1914, 2873, 3205, 1499, 95, 2602, 674, 1414, 3901, 628, 1388, 1220, 2382, 1091, 33, 3314, 1493, 1652, 702, 3844, 2341, 1428, 2552, 2132, 2890, 190, 3145, 737, 3657, 1702, 4011, 2261, 2621, 2955, 3844, 1069, 220, 807, 3258, 3219, 3357, 942, 2931, 220, 807, 3662, 1464, 942, 2763, 784, 2793, 869, 220, 2298, 3027, 1280, 3657, 2744, 3314, 608, 3314, 608, 1660, 1280, 3657, 2282, 2087, 2523, 946, 2132, 842, 720, 220, 807, 95, 3362, 3145, 1431, 2132, 3027, 1969, 1280, 1065, 641, 628, 1182, 2382, 1280, 1713, 2132, 3205, 1182, 0, 2132, 3027, 3099, 720, 1280, 3657, 1713, 403, 2621, 2955, 1472, 935, 544, 1808, 693, 448, 3634, 1569, 738, 2833, 1858, 2158, 2132, 1073, 1011, 942, 3908, 4011, 1101, 639, 1902, 3205, 2688, 3117, 1878, 1256, 3666, 942, 929, 2195, 689, 2056, 3047, 1493, 118, 227, 4011, 935, 1444, 3869, 2009, 1560, 3634, 929, 3023, 3547, 2382, 2028, 4011, 1304, 702, 1660, 1256, 929, 3258, 1427, 1892, 1280, 1660, 90, 220, 807, 2132, 3366, 1256, 4011, 1143, 689, 220, 3768, 3027, 2523, 3362, 3739, 2523, 419, 1777, 4011, 2833, 1858, 4011, 1143, 689, 942, 2195, 689, 1660, 220, 2781, 3366, 1256, 4011, 1143, 689, 942, 2195, 689, 2087, 220, 2321, 3145, 737, 1560, 220, 3753, 1560, 2382, 3901, 702, 1969, 220, 807, 2132, 1926, 118, 4011, 1254, 1924, 3664, 2736, 3822, 935, 3547, 1215, 2407, 4011, 1444, 3844, 4011, 3276, 3643, 869, 1434, 3289, 1453, 2883, 1168, 49, 1405, 2132, 935, 403, 622, 3523, 3145, 2863, 33, 2087, 1280, 1660, 993, 676, 4011, 860, 1388, 4011, 2498, 942, 3854, 4011, 2072, 1215, 3205, 297, 1660, 1280, 3657, 2316, 0, 220, 807, 3258, 2303, 2132, 3027, 220, 3753, 1091, 1702, 2087, 220, 3753, 2850, 1388, 4011, 2833, 1858, 220, 807, 2132, 1926, 3822, 220, 2781, 1660, 3366, 1256, 4011, 2195, 689, 942, 1143, 689, 935, 2543, 1896, 942, 2154, 4011, 2688, 43, 1107, 4011, 3321, 2382, 3869, 2328, 3634, 3467, 2424, 3860, 1337, 641, 933, 1074, 628, 3133, 3153, 2991, 3407, 1480, 2440, 942, 2715, 2542, 3854, 2766, 1707, 2132, 2464, 2066, 381, 2529, 752, 807, 1732, 95, 3830, 1414, 1466, 3198, 236, 1036, 124, 1649, 3314, 935, 942, 4011, 1744, 118, 490, 4011, 1444, 752, 807, 129, 2894, 2066, 3092, 1691, 1178, 3289, 220, 1451, 3844, 4011, 1170, 874, 1280, 95, 3830, 2382, 3145, 2863, 220, 807, 4011, 3727, 3314, 2833, 1858, 220, 752, 912, 3205, 297, 2382, 3396, 1091, 935, 807, 2602, 628, 2132, 3946, 1256, 4011, 2158, 2894, 3335, 4011, 2786, 2132, 2198, 2187, 1754, 1256, 3349, 3314, 4011, 1143, 689, 1082, 2520, 2619, 4011, 641, 2619, 3844, 1310, 90, 2662, 3684, 935, 2777, 2132, 1407, 4011, 1105, 1414, 2972, 2382, 1493, 490, 1917, 1902, 807, 2132, 3205, 1414, 929, 3230, 2132, 3926, 4011, 1293, 1652, 3753, 2624, 1148, 3844, 4011, 3936, 95, 404, 3657, 3716, 2382, 220, 807, 2132, 158, 3901, 3362, 220, 807, 842, 720, 2917, 220, 3027, 0, 220, 2781, 116, 942, 1239, 220, 807, 2132, 3205, 912, 328, 942, 220, 807, 2132, 158, 3901, 3362, 3869, 972, 3145, 342, 220, 158, 1107, 3335, 1917, 3753, 95, 3657, 2282, 3204, 942, 220, 3889, 2132, 3205, 3657, 328, 1493, 185, 896, 3105, 3634, 1309, 1107, 1011, 2382, 4011, 1516, 227, 935, 88, 807, 2839, 1091, 1710, 4011, 3230, 1388, 2664, 3145, 137, 95, 2602, 878, 1169, 1965, 1660, 3145, 794, 2688, 1836, 172, 3145, 3600, 3145, 2781, 3027, 1736, 2688, 3145, 2781, 1339, 1036, 13, 3145, 807, 2132, 3448, 2894, 4011, 3204, 3145, 1902, 1294, 2315, 3314, 4011, 3204, 1882, 1700], [1493, 3174, 227, 403, 702, 2494, 2132, 3205, 2211, 3634, 2073, 2132, 1981, 2890, 3374, 1388, 242, 1254, 1924, 1414, 4011, 3457, 2883, 3901, 1220, 1538, 946, 2072, 865, 4011, 1095, 1388, 3690, 2781, 3205, 2821, 3634, 2706, 3314, 4011, 755, 942, 2894, 1493, 199, 1738, 3844, 3065, 1924, 3889, 935, 3295, 2132, 2772, 2664, 2132, 3027, 3844, 3273, 70, 1932, 2103, 1564, 1078, 1954, 249, 3844, 2019, 3822, 1493, 2154, 1091, 693, 2821, 3314, 4011, 2895, 3204, 1337, 4011, 3664, 2613, 2552, 3966, 3314, 3658, 2664, 2132, 2945, 3844, 3515, 118, 3658, 1493, 2132, 3027, 752, 882, 2890, 2638, 3314, 4011, 258, 1388, 4011, 1008, 2195, 689, 2498, 2382, 4011, 1014, 645, 1835, 2261, 702, 3118, 1388, 242, 2890, 195, 3869, 2839, 2494, 3314, 4011, 831, 33, 3145, 3768, 1639, 1742, 403, 702, 2801, 2552, 2283, 3634, 3945, 3396, 1091, 3027, 1280, 95, 3657, 1713, 419, 942, 3799, 942, 2523, 2932, 3186, 2132, 2650, 2132, 3027, 3862, 3998, 3032, 3844, 4011, 3247, 1858, 942, 117, 1858, 942, 3145, 2725, 3032, 3844, 4011, 755, 392, 1235, 554, 2264], [2073, 3788, 945, 1507, 63, 1254, 1994, 3664, 3174, 1493, 3844, 4011, 1196, 2672, 1561, 1329, 645, 1835, 4011, 2932, 3122, 2847, 2132, 4011, 3034, 95, 3104, 1378, 3844, 4011, 123, 1388, 900, 3713, 942, 3561, 2894, 2242, 1388, 881, 118, 2597, 2870, 1741, 2185, 1388, 2890, 3091, 3727, 1493, 1808, 3288, 2598, 1140, 1256, 4011, 3126, 3901, 2498, 942, 1808, 13, 2154, 2132, 988, 2894, 1965, 1414, 628, 1660, 403, 1808, 2154, 95, 710, 1104, 2672, 2890, 3664, 956, 3822, 403, 1252, 2132, 3205, 95, 587, 2132, 3027, 3314, 2890, 1184, 2132, 4011, 1924, 1012, 1231, 1078, 1954, 2154, 3901, 2132, 1639, 3851, 4011, 1254, 1924, 774, 0, 942, 3580, 1652, 3869, 1091, 587, 2167, 3530, 3145, 737, 3565, 1598, 1917, 1902, 800, 2850, 3844, 2083, 3901, 1196, 3145, 807, 388, 3534, 3822, 3635, 2072, 1652, 3753, 1091, 2678, 1988, 1215, 807, 1036, 1044, 3844, 2773, 3075, 1700, 702, 3657, 2316, 3314, 3833, 2132, 3027, 1988, 3145, 2863, 444, 1507, 2072, 1652, 807, 1091, 3032, 2552, 587, 504, 3314, 3851, 2640, 2949, 2132, 4011, 3247, 1858, 1444, 4013, 3205, 2488, 1493, 2492, 1808, 388, 3889, 2132, 3205, 393, 403, 1808, 3032, 2010, 2275, 1999, 3844, 4011, 2195, 689, 3901, 2498, 2705, 2132, 2890, 3472, 1414, 935, 3822, 3282, 1091, 781, 392, 1537, 1283, 1808, 3032, 3917, 1999, 1241, 2715, 2542, 942, 3133, 3153, 807, 3032, 3813, 942, 2865, 368, 4011, 1994, 1252, 2132, 1986, 1140, 2552, 1036, 1388, 95, 587, 1728, 1414, 2073, 3289, 403, 702, 2132, 1989, 1140, 95, 120, 3844, 4011, 2895, 3204, 3844, 4011, 3959, 2132, 137, 3289, 1091, 1700, 2060, 1954, 752, 1777, 2664, 2132, 1785, 95, 2073, 3547], [1660, 3822, 4011, 3235, 3314, 4011, 1621, 3703, 3247, 1858, 3408, 138, 978, 702, 2850, 1700, 702, 628, 2132, 3450, 95, 2393, 1245, 1735, 2529, 1388, 4011, 241, 3910, 2072, 1902, 3205, 1507, 1107, 784, 1845, 2552, 4011, 2883, 3027, 2850, 3862, 1902, 3205, 388, 3797, 3682, 865, 4011, 4012, 2949, 2552, 4011, 3230, 3075, 1256, 4011, 1804, 2169, 1700, 2850, 865, 4011, 762, 1388, 738, 2883, 1538, 842, 117, 2706, 1902, 3205, 2245, 3247, 1858, 3918, 2894, 1845, 3258, 1142, 1036, 3266, 3314, 95, 522, 2132, 1279, 1700, 2132, 3238, 1621, 4011, 728, 3590, 3844, 2871, 942, 1902, 1487, 3844, 3763, 932, 95, 988, 3901, 1168, 3205, 1192, 4011, 815, 3290, 3670, 942, 2023, 2907, 1302, 427, 1808, 497, 2678, 1107, 4011, 2512, 979, 2769, 2897, 3822, 1697, 1335, 3844, 2753, 3121, 869, 403, 863, 3117, 4011, 3126, 3844, 1596, 2894, 4011, 3992, 3292, 738, 4011, 2808, 942, 2890, 3258, 3828, 3844, 4011, 1170, 2640, 1999, 702, 3785, 4011, 1014, 2445, 104, 1808, 2985, 1925, 3844, 4011, 3412, 2894, 2890, 462, 2565, 2382, 2124, 1808, 693, 792, 1140, 3844, 4011, 2195, 689, 2894, 3135, 865, 4011, 3959, 2382, 2890, 1229, 3844, 4011, 3430, 3362, 185, 95, 804, 784, 2124, 185, 1414, 4011, 2281, 869, 1672, 1919, 3063, 403, 1808, 734, 392, 2132, 4011, 2813, 3506, 1388, 4011, 2195, 689, 2132, 1729, 95, 1728, 3844, 4011, 3719, 859, 2124, 1902, 3205, 295, 4011, 522, 2132, 2738, 2023, 3898, 3236, 4011, 3258, 2760, 3753, 1514, 2132, 1579, 4011, 1170, 628, 3822, 427, 3702, 4011, 3283, 1107, 4011, 2512, 979, 403, 1902, 2191, 2132, 3972, 3117, 3844, 95, 1721, 1388, 3978, 2023, 3910, 1302, 1902, 2191, 2132, 3274, 2664, 427, 1766, 4011, 3703, 2932, 3822, 2294, 88, 461, 4011, 3639, 1273, 1070, 1902, 3205, 95, 1676, 784, 3314, 4011, 1867, 3, 2481, 185, 95, 3425, 2932, 1414, 4011, 1492, 3703, 117, 1858, 942, 1808, 693, 784, 1388, 4011, 3299, 1366, 3822, 4011, 1804, 1808, 677, 3844, 95, 3276, 628, 1518, 3739, 642, 403, 702, 1091, 3851, 2132, 3205, 3819, 2132, 4011, 1458, 2144, 1388, 3666, 2382, 88, 1205, 1793, 1902, 1408, 1845, 522, 2132, 1235, 2890, 439, 4011, 2670, 791, 104, 3721, 4011, 778, 625, 3314, 4011, 1867, 2257, 1205, 3907, 4011, 3075, 2467, 3406, 313, 750, 2132, 3877, 2351, 942, 1902, 3205, 95, 753, 3314, 4011, 824, 2395, 1076, 942, 630, 1953, 3301, 4011, 2112, 1810, 702, 3246, 1735, 95, 673, 77, 2890, 1771, 1107, 3433, 3844, 2019, 3844, 4011, 3195, 3235, 2132, 2703, 3910, 1049, 3844, 4011, 2520, 978, 1910, 185, 3910, 3170, 3301, 298, 3844, 411, 1388, 4011, 859, 942, 267, 825, 1317, 3649, 2132, 2407, 2890, 3204, 1587, 1896, 3844, 4011, 2989, 1477, 4011, 1516, 1168, 3205, 3851, 2132, 2738, 2890, 2517, 2695, 3844, 4011, 1099, 1388, 4011, 3858, 2047, 690, 2928, 2781, 3218, 2890, 1818, 3314, 2890, 195, 2931, 1254, 1924, 1902, 3205, 2745, 1388, 95, 1212, 3968, 3629, 1256, 4011, 3015, 2099, 4011, 935, 716, 702, 1640, 2132, 3557, 2890, 1194, 1208, 2894, 2890, 195, 2382, 702, 170, 1091, 3806, 2924, 403, 1808, 13, 1640, 2132, 1294, 4011, 54, 3314, 2073, 3788, 2897, 2890, 3070, 1305, 1170, 1196, 2672, 645, 1835, 2382, 3862, 702, 784, 3581, 2672, 2890, 1876, 2132, 1729, 95, 587, 97, 2552, 2890, 806, 2524, 1902, 3205, 1638, 942, 972, 2132, 3643, 1414, 4011, 1187, 2281, 842, 75, 3177, 702, 365, 2552, 784, 1388, 1489, 3230, 3200, 2950, 3396, 1282, 113, 95, 1092, 114, 3634, 117, 3615, 486, 2259, 1170, 1196, 4011, 109, 3263, 2781, 3027, 1414, 1899, 3739, 3844, 4011, 3224, 2382, 1311, 403, 702, 102, 807, 2890, 3792, 1194, 2894, 4011, 1254, 1994, 1509, 3289, 3319, 942, 75, 2781, 3274, 1493, 2931, 3204, 2587, 1902, 757, 929, 43, 1388, 3416, 929, 1036, 1233, 505, 3890, 2969, 158, 4011, 2195, 689, 4011, 1381, 1388, 408, 2132, 198, 3844, 2871, 1902, 3205, 2066, 3991, 3176, 839, 3781, 2132, 4011, 1995, 1388, 214, 1379, 4011, 2294, 1605, 1808, 693, 95, 1540, 3807, 3844, 4011, 3850, 1388, 4011, 873, 1718, 942, 702, 4, 2132, 1408, 95, 56, 3088, 3844, 4011, 2969, 1388, 1641, 2894, 1801, 3828, 3844, 2831, 1193, 1379, 1808, 2066, 2096, 1176, 833, 942, 3991, 2188, 2890, 2889, 117, 1890, 1902, 3205, 4011, 104, 2132, 3650, 3314, 259, 3532, 1548, 1902, 807, 2890, 34, 2667, 2850, 1192, 4011, 3368, 4011, 3263, 1808, 693, 784, 1388, 4011, 2263, 1550, 3844, 4011, 123, 3314, 3959, 3991, 3289, 2890, 3374, 1388, 2678, 3844, 4011, 1458, 2144, 1388, 3666, 1808, 1640, 2132, 137, 379, 4011, 1008, 3230, 1544, 1215, 3205, 1071, 1140, 1107, 4011, 1605, 2672, 4011, 3430, 3615, 3844, 95, 1540, 3247, 1858, 1812, 3844, 198, 1388, 762, 1548, 942, 259, 1902, 13, 3205, 3347, 2721, 3844, 3763, 942, 1316, 869, 1917, 2951, 929, 3037, 163, 1858, 443, 2670, 2182, 185, 4011, 2540, 117, 2932, 1388, 4011, 1220, 2382, 1808, 1091, 693, 95, 2945, 1388, 4011, 1591, 1244, 1969, 3204, 3226, 3303, 3256, 1456, 2382, 1700, 752, 3205, 3158, 2132, 1639, 4011, 1488, 3289, 403, 185, 594, 3314, 4011, 440, 1107, 2287, 4011, 1591, 1605, 185, 230, 3314, 2640, 2883, 3314, 1976, 1414, 4011, 939, 1496, 2552, 2670, 1938, 2321, 4011, 2540, 117, 3615, 689, 3408, 2132, 596, 1328, 3674, 2764, 1625, 185, 95, 990, 2097, 95, 3736, 752, 2795, 95, 1163, 992, 2132, 4011, 3086, 2382, 3991, 3289, 2670, 2182, 3282, 1091, 1408, 95, 1977, 3862, 1902, 2839, 3205, 2242, 3314, 225, 942, 2890, 3087, 3992, 2132, 839, 2894, 723, 2670, 3382, 702, 4011, 3910, 2002, 1256, 4011, 1549, 2132, 3238, 33, 3806, 2894, 2704, 3828, 3844, 4011, 2520, 978, 1014, 2758, 1496, 1625, 2055, 1660, 95, 1806, 1388, 1262, 427, 1414, 1187, 1939, 2505, 1400, 702, 4, 2132, 807, 2890, 3792, 1194, 403, 702, 1514, 2132, 3205, 1186, 1414, 4011, 2281, 3634, 3708, 2936, 1652, 3853, 95, 3548, 1076, 1414, 1170, 3959, 117, 1858, 2894, 1538, 784, 385, 2736, 3844, 4011, 741, 4017], [2073, 1046, 4011, 522, 2132, 1373, 1484, 1507, 2520, 120, 1169, 1917, 322, 2132, 95, 3938, 2158, 2132, 3135, 1414, 2198, 2187, 1754, 3901, 1335, 2084, 2683, 1329, 3569, 455, 3844, 3839, 3637, 942, 2766, 3844, 411, 172, 4011, 3362, 185, 1374, 1999, 3898, 715, 1388, 3174, 1404, 528, 385, 1388, 4011, 2498, 4011, 1254, 1994, 996, 1507, 4011, 960, 2672, 2502, 942, 64, 366, 2894, 1537, 1283, 172, 2702, 3743, 3243, 942, 2268, 2972, 1735, 2066, 1217, 3867, 4011, 2786, 3626, 1731, 929, 3519, 2281, 1735, 4011, 3362, 942, 1253, 935, 497, 2525, 3844, 1896, 4011, 3719, 3869, 95, 323, 3141, 1256, 4011, 484, 2230, 942, 1185, 2902, 1256, 4011, 933, 3060, 2653, 3276, 2850, 2687, 3112, 3802, 942, 2694, 95, 960, 3623, 4011, 2738, 1388, 385, 2529, 2577, 1653, 1964, 1414, 4011, 3741, 1829, 3803, 94, 185, 3651, 2132, 3274, 4011, 3418, 3051, 3384, 2597, 2360, 95, 3771, 1263, 2132, 4011, 960, 3052, 4011, 3532, 1168, 1040, 330, 2382, 95, 2932, 1388, 2890, 3352, 3540, 807, 3347, 4011, 671, 811, 3407, 1046, 95, 2913, 522, 1256, 4011, 3724, 1388, 933, 628, 869, 403, 3308, 2132, 2048, 2672, 95, 2286, 2743, 3835, 1836, 3402, 2132, 1537, 1283, 942, 4011, 3258, 789, 2766, 3844, 2902, 935, 3869, 113, 2132, 202, 4011, 1046, 2249, 869, 1653, 64, 366, 2894, 3969, 3276, 942, 943, 95, 3056, 3384, 3844, 4011, 1760, 3484, 1256, 3624, 3134, 1385, 3869, 2319, 1256, 563, 789, 1337, 4011, 1809, 4017, 2894, 4011, 2330, 3899, 2586, 2678, 95, 3807, 942, 935, 3869, 3651, 2132, 3218, 2066, 381, 2529, 3660, 4011, 2169, 3314, 2520, 120, 1902, 2650, 2132, 4011, 1170, 453, 2134, 1887, 1329, 2447, 2781, 3339, 2132, 3374, 1388, 95, 1143, 689, 120, 1169, 2428, 1236, 724, 1735, 495, 120], [2073, 3788, 807, 784, 1691, 2009, 3901, 2498, 2894, 4011, 1257, 1388, 644, 2520, 120, 3844, 4011, 2195, 689, 2839, 1414, 1263, 1640, 1169, 4011, 2252, 1388, 1250, 2850, 1256, 4011, 2056, 4011, 2319, 3897, 2767, 3985, 555, 4011, 3106, 1388, 3901, 3204, 942, 554, 1700, 1168, 3557, 2894, 2103, 1564, 2084, 3447, 702, 3194, 3994, 1949, 942, 2894, 1700, 1674, 865, 1652, 1902, 3205, 1978, 413, 929, 1469, 201, 3901, 758, 1169, 2126, 3938, 1495, 2894, 3135, 3447, 2338, 3865, 2850, 3822, 2080, 2890, 3204, 702, 1091, 2010, 3851, 2773, 1109, 3145, 807, 95, 3657, 2011, 468, 4011, 488, 220, 3889, 2132, 2061, 942, 1598, 4011, 1897, 2449, 398, 2157, 3822, 220, 3889, 2132, 2795, 2072, 3660, 3822, 220, 3889, 2132, 2061, 4011, 54, 2072, 3822, 220, 807, 3889, 2132, 1305, 1256, 942, 2061, 388, 2072, 3844, 1972, 2399, 680, 942, 1972, 1276, 2382, 4011, 3299, 2316, 1544, 702, 220, 3600, 1598, 1253, 1321, 3897, 3508, 2132, 1592, 4011, 3473, 1388, 3635, 3209, 1414, 4011, 1939, 122, 3844, 2773, 2072, 702, 2552, 1736, 95, 3807, 1388, 2080, 3833, 2552, 1742, 3653, 2462, 3371, 2201, 1256, 929, 1188, 2894, 3799, 3314, 1807, 2552, 392, 2552, 2322, 4011, 2880, 3314, 388, 2683, 1021, 3314, 2890, 2236, 630, 1902, 3205, 3158, 2132, 1873, 4011, 1776, 3185, 1334, 290, 2406, 1616, 2867, 2602, 1987, 2004, 2594, 3133, 3153, 403, 1808, 946, 1388, 4011, 307, 3230, 887, 3844, 3901, 999, 3844, 2301, 1234, 1341, 935, 1245, 3102, 470, 2894, 4011, 2761, 1194, 2382, 1499, 3985, 325, 1836, 95, 1220, 3093, 869, 1597, 2787, 942, 1248, 3020, 3869, 1679, 942, 611, 185, 13, 1256, 2890, 3519, 2850, 759, 3447, 1808, 3209, 2741, 403, 702, 1091, 95, 787, 2132, 2808, 1256, 2890, 1880, 4011, 3375, 1388, 1175, 2620, 942, 2159, 3533, 2647, 3901, 2498, 807, 693, 2812, 2132, 2890, 2853, 1444, 1388, 4011, 3889, 3314, 3705, 1734, 942, 95, 2282, 2005, 1388, 2926, 935, 3753, 3844, 1398, 1099, 1414, 1557, 2894, 4011, 2213, 798, 2652, 942, 2114, 1223, 567, 3634, 3584, 2491, 942, 157, 909, 4011, 51, 3258, 3753, 1514, 2132, 3205, 2688, 3314, 929, 667, 3901, 2498, 1253, 454, 3664, 3278, 3502, 1902, 3205, 2281, 2672, 2890, 1898, 1414, 934, 403, 1215, 3218, 403, 702, 3230, 1461, 2894, 95, 1305, 3863, 2236, 1076, 3503, 1036, 1735, 4011, 2759, 1413, 1388, 2082, 2132, 2836, 1572, 942, 1957, 4011, 3371, 1910, 2894, 95, 2773, 2049]]\n"
     ]
    }
   ],
   "source": [
    "# ------------------------------------------------------------------word_number_list 형태 확인하기 위함\n",
    "if __name__ == \"__main__\":\n",
    "    dir_name = \"news_data\"\n",
    "    file_list = get_file_list(dir_name)\n",
    "    file_list = [os.path.join(dir_name,file_name) for file_name in file_list] # 파일경로를 join을 통해 정확하게 설정\n",
    "    #print(file_list)\n",
    "    x_text,y_class =get_conetents(file_list)\n",
    "    #print(x_text) , print(y_class)\n",
    "    corpus = get_corpus_dict(x_text)\n",
    "    #print(corpus) #단어 두개 이하는 제거하는 경우가 대부분이지만 여기서는 Skip\n",
    "    print(\"Number of words : {0}\".format(len(corpus)))  # 정제된 corpus_dict 에서 단어의 개수를 확인\n",
    "    \n",
    "    x_vector = get_count_vector(x_text,corpus)\n",
    "    #결과 값에서 첫번째 3852 는 첫번째 문서에서 나오는 첫번째 단어가 corpus_dict에있는 3852번째 index의 값의 문자라는 의미"
   ]
  },
  {
   "cell_type": "code",
   "execution_count": 86,
   "metadata": {},
   "outputs": [
    {
     "name": "stdout",
     "output_type": "stream",
     "text": [
      "OrderedDict([('', 0), ('secondary', 1), ('bans', 2), ('replay', 3), ('socceroos', 4), ('perfect', 5), ('surprising', 6), ('caused', 7), ('disabled', 8), ('hair', 9), ('olympics', 10), ('son', 11), ('setting', 12), ('longer', 13), ('recovering', 14), ('april', 15), ('focussed', 16), ('affiliation', 17), ('gel', 18), ('triplea', 19), ('rejected', 20), ('observation', 21), ('dh', 22), ('in', 23), ('brom', 24), ('highly', 25), ('damaging', 26), ('welcome', 27), ('forwards', 28), ('solidified', 29), ('departed', 30), ('challenge', 31), ('defoe', 32), ('negotiate', 33), ('no', 34), ('touched', 35), ('write', 36), ('situationstactical', 37), ('medalwinning', 38), ('462', 39), ('indeed', 40), ('cupbeating', 41), ('perspectiveson', 42), ('amat', 43), ('celebrate', 44), ('owns', 45), ('turning', 46), ('lose', 47), ('struggles', 48), ('8300', 49), ('problematic', 50), ('highflying', 51), ('vice', 52), ('concussion', 53), ('scorer', 54), ('tactically', 55), ('preparation', 56), ('factoring', 57), ('ª', 58), ('pop', 59), ('dented', 60), ('73', 61), ('londoners', 62), ('flying', 63), ('originally', 64), ('mike', 65), ('thinking', 66), ('worst', 67), ('prestigious', 68), ('hanover', 69), ('steal', 70), ('iran', 71), ('babe', 72), ('fear', 73), ('distance', 74), ('jacque', 75), ('unclear', 76), ('breaking', 77), ('10th', 78), ('tricks', 79), ('blanked', 80), ('black', 81), ('arsenal', 82), ('72', 83), ('has', 84), ('swat', 85), ('card', 86), ('living', 87), ('aggressive', 88), ('minneapolis', 89), ('handful', 90), ('haeyoung', 91), ('vip', 92), ('323', 93), ('wants', 94), ('head', 95), ('27yearold', 96), ('new', 97), ('their', 98), ('blasting', 99), ('southampton', 100), ('allardyce', 101), ('underlined', 102), ('sixyear', 103), ('coach', 104), ('hopes', 105), ('masanori', 106), ('119meter', 107), ('advertising', 108), ('banned', 109), ('top', 110), ('sahlawi', 111), ('seen', 112), ('adding', 113), ('fortune', 114), ('microcosm', 115), ('could', 116), ('yacob', 117), ('diagnosis', 118), ('use', 119), ('time', 120), ('salvage', 121), ('cleared', 122), ('provided', 123), ('later', 124), ('penalty', 125), ('learning', 126), ('meters', 127), ('rejoined', 128), ('reportedly', 129), ('joe', 130), ('largely', 131), ('russia', 132), ('severity', 133), ('extraordinary', 134), ('profile', 135), ('candidate', 136), ('305', 137), ('valuable', 138), ('201516', 139), ('los', 140), ('appeared', 141), ('retire', 142), ('idea', 143), ('prevent', 144), ('schalke', 145), ('12point', 146), ('fiveyear', 147), ('added', 148), ('next', 149), ('purpose', 150), ('strikeout', 151), ('cameo', 152), ('antonetti', 153), ('hangzhou', 154), ('none', 155), ('playoff', 156), ('gametime', 157), ('liverpool', 158), ('hunt', 159), ('asias', 160), ('roam', 161), ('unlike', 162), ('adams', 163), ('anyway', 164), ('country', 165), ('oppositefield', 166), ('market', 167), ('yeah', 168), ('should', 169), ('overseas', 170), ('catch', 171), ('sounded', 172), ('our', 173), ('periods', 174), ('here', 175), ('looking', 176), ('finalists', 177), ('bench', 178), ('chaito', 179), ('keen', 180), ('may', 181), ('placed', 182), ('rest', 183), ('minutes', 184), ('chelsea', 185), ('coolest', 186), ('remaining', 187), ('sultan', 188), ('latest', 189), ('hassan', 190), ('giroud', 191), ('credentials', 192), ('gives', 193), ('2011', 194), ('man', 195), ('threeandahalf', 196), ('out', 197), ('feet', 198), ('visit', 199), ('them', 200), ('episode', 201), ('festive', 202), ('pen', 203), ('precedence', 204), ('greater', 205), ('69', 206), ('striker', 207), ('laos', 208), ('my', 209), ('first', 210), ('specifically', 211), ('phillipines', 212), ('decades', 213), ('sheet', 214), ('nearly', 215), ('bruised', 216), ('kingsley', 217), ('ben', 218), ('compiled', 219), ('domestic', 220), ('diekman', 221), ('36th', 222), ('outs', 223), ('tuchel', 224), ('outing', 225), ('werder', 226), ('military', 227), ('fifthinning', 228), ('150', 229), ('visually', 230), ('dip', 231), ('woes', 232), ('report', 233), ('land', 234), ('continue', 235), ('switzerland', 236), ('consistently', 237), ('salzburg', 238), ('foxes', 239), ('parading', 240), ('takes', 241), ('nor', 242), ('revival', 243), ('displayed', 244), ('defense', 245), ('hwan', 246), ('recruit', 247), ('beer', 248), ('arent', 249), ('stage', 250), ('molitor', 251), ('castro', 252), ('shane', 253), ('accomplished', 254), ('bonus', 255), ('must', 256), ('terminate', 257), ('seasontheyre', 258), ('roberto', 259), ('2004', 260), ('boss', 261), ('saturday', 262), ('stretches', 263), ('seven', 264), ('prosecuted', 265), ('beat', 266), ('further', 267), ('confederation', 268), ('djeparov', 269), ('finnbogasons', 270), ('wont', 271), ('mondays', 272), ('mauricio', 273), ('progressed', 274), ('friend', 275), ('urgency', 276), ('sellout', 277), ('grown', 278), ('almost', 279), ('naming', 280), ('yakult', 281), ('righthanded', 282), ('24', 283), ('anderson', 284), ('the', 285), ('7103', 286), ('coped', 287), ('disappointmentson', 288), ('anda', 289), ('signing', 290), ('2017what', 291), ('owner', 292), ('fight', 293), ('together', 294), ('actions', 295), ('sie', 296), ('period', 297), ('lasts', 298), ('ends', 299), ('ranked', 300), ('header', 301), ('realise', 302), ('sergio', 303), ('freeagent', 304), ('granted', 305), ('18', 306), ('19', 307), ('mere', 308), ('cleveland', 309), ('fraught', 310), ('injured', 311), ('replacement', 312), ('technically', 313), ('42nd', 314), ('enough', 315), ('phone', 316), ('scored', 317), ('needless', 318), ('consider', 319), ('greeted', 320), ('onandoff', 321), ('story', 322), ('upgrade', 323), ('korea', 324), ('181', 325), ('exception', 326), ('20112012', 327), ('mettle', 328), ('90mile', 329), ('americans', 330), ('interesting', 331), ('i', 332), ('outcome', 333), ('tworun', 334), ('talked', 335), ('beneficial', 336), ('emmanuel', 337), ('maximising', 338), ('elephants', 339), ('run', 340), ('pyongyang', 341), ('alli', 342), ('transfers', 343), ('trevor', 344), ('hummels', 345), ('unguarded', 346), ('flew', 347), ('falls', 348), ('favourite', 349), ('announcers', 350), ('recovery', 351), ('race', 352), ('rehabilitation', 353), ('finally', 354), ('sweveningpost', 355), ('air', 356), ('williams', 357), ('aff', 358), ('blowout', 359), ('preparing', 360), ('games', 361), ('express', 362), ('jungho', 363), ('timetable', 364), ('picked', 365), ('parkbang', 366), ('adhere', 367), ('sincenotably', 368), ('becoming', 369), ('571', 370), ('sep', 371), ('tuesday', 372), ('terry', 373), ('neel', 374), ('exactly', 375), ('finish', 376), ('just', 377), ('maeda', 378), ('43', 379), ('lightly', 380), ('approach', 381), ('director', 382), ('targets', 383), ('hours', 384), ('post', 385), ('spell', 386), ('every', 387), ('swung', 388), ('dfbpokal', 389), ('restarted', 390), ('served', 391), ('health', 392), ('suspends', 393), ('knocked', 394), ('relegate', 395), ('onomah', 396), ('stark', 397), ('passing', 398), ('runner', 399), ('dozier', 400), ('impressed', 401), ('surrendering', 402), ('money', 403), ('discuss', 404), ('cody', 405), ('continental', 406), ('1285', 407), ('beforehand', 408), ('commanded', 409), ('placing', 410), ('are', 411), ('harm', 412), ('center', 413), ('ops', 414), ('person', 415), ('lough', 416), ('hakcheol', 417), ('uses', 418), ('qatari', 419), ('inwardly', 420), ('sequence', 421), ('cast', 422), ('sizable', 423), ('unsaid', 424), ('finds', 425), ('192', 426), ('boruc', 427), ('foot', 428), ('magazine', 429), ('dragon', 430), ('threshold', 431), ('darmstadt', 432), ('teammate', 433), ('guy', 434), ('vfb', 435), ('ishikawa', 436), ('secondhalf', 437), ('settled', 438), ('d', 439), ('arms', 440), ('shown', 441), ('reaction', 442), ('troy', 443), ('choo', 444), ('baumgartl', 445), ('instead', 446), ('decide', 447), ('helped', 448), ('accomplish', 449), ('smoothest', 450), ('httpwwwswanseavitalfootballcoukarticleaspa446198ixzz48qois9gi', 451), ('amount', 452), ('pittsburgh', 453), ('moon', 454), ('okazaki', 455), ('cruz', 456), ('lacking', 457), ('restart', 458), ('lottery', 459), ('his', 460), ('builtin', 461), ('brett', 462), ('leap', 463), ('critical', 464), ('kurt', 465), ('match', 466), ('upcoming', 467), ('yellow', 468), ('defeats', 469), ('357', 470), ('wear', 471), ('feel', 472), ('once', 473), ('garry', 474), ('server', 475), ('undoubtedly', 476), ('lets', 477), ('stayed', 478), ('recent', 479), ('days', 480), ('everybody', 481), ('majorleague', 482), ('virtually', 483), ('diamondbacks', 484), ('often', 485), ('on', 486), ('lefty', 487), ('source', 488), ('team', 489), ('power', 490), ('easier', 491), ('song', 492), ('performing', 493), ('scheduling', 494), ('supporting', 495), ('case', 496), ('lloris', 497), ('gruelling', 498), ('ending', 499), ('reiterate', 500), ('beleaguered', 501), ('plans', 502), ('yesterday', 503), ('emerged', 504), ('overnight', 505), ('pierreemile', 506), ('hotspurs', 507), ('besides', 508), ('san', 509), ('meeting', 510), ('oppositionson', 511), ('criticising', 512), ('outharry', 513), ('sunderlands', 514), ('best', 515), ('176th', 516), ('right', 517), ('brewers', 518), ('consolation', 519), ('lefthander', 520), ('sent', 521), ('bridge', 522), ('oct', 523), ('dealt', 524), ('bears', 525), ('football', 526), ('another', 527), ('conducted', 528), ('sealed', 529), ('productive', 530), ('indians', 531), ('227288561', 532), ('capped', 533), ('muss', 534), ('southeast', 535), ('vorerst', 536), ('273', 537), ('stuttering', 538), ('today', 539), ('depth', 540), ('callup', 541), ('mccarthy', 542), ('margin', 543), ('kim', 544), ('yaya', 545), ('fifteenyear', 546), ('super', 547), ('laurels', 548), ('good', 549), ('lowstakes', 550), ('1950', 551), ('ja', 552), ('trio', 553), ('thanks', 554), ('life', 555), ('peers', 556), ('extra', 557), ('cost', 558), ('examples', 559), ('impact', 560), ('mustache', 561), ('sun', 562), ('fivegoal', 563), ('slowerspeed', 564), ('294', 565), ('hat', 566), ('3230', 567), ('fullback', 568), ('threebagger', 569), ('softbank', 570), ('or', 571), ('attackleading', 572), ('formation', 573), ('hyunjin', 574), ('krasnodar', 575), ('estimates', 576), ('square', 577), ('china', 578), ('cutter', 579), ('scheduled', 580), ('argentinian', 581), ('seth', 582), ('jobs', 583), ('alleviating', 584), ('matchday', 585), ('villa', 586), ('what', 587), ('said', 588), ('344', 589), ('management', 590), ('span', 591), ('beating', 592), ('managed', 593), ('faithful', 594), ('arabia', 595), ('without', 596), ('18th', 597), ('et', 598), ('scoreless', 599), ('strict', 600), ('reza', 601), ('swanseas', 602), ('significantly', 603), ('unusually', 604), ('seung', 605), ('byung', 606), ('dingers', 607), ('marched', 608), ('explosive', 609), ('oh', 610), ('alphabet', 611), ('start', 612), ('reprimanded', 613), ('23', 614), ('ortiz', 615), ('wahbi', 616), ('late', 617), ('hitters', 618), ('accused', 619), ('threetime', 620), ('coached', 621), ('notice', 622), ('white', 623), ('bound', 624), ('november', 625), ('essentially', 626), ('recalled', 627), ('bobadilla', 628), ('resemble', 629), ('service', 630), ('york', 631), ('retirement', 632), ('tickets', 633), ('60', 634), ('bumkun', 635), ('finalized', 636), ('didavi', 637), ('appears', 638), ('law', 639), ('montero', 640), ('oneyear', 641), ('care', 642), ('value', 643), ('truth', 644), ('59th', 645), ('section', 646), ('historically', 647), ('graces', 648), ('possibility', 649), ('capacity', 650), ('impress', 651), ('mph', 652), ('essweins', 653), ('order', 654), ('easter', 655), ('across', 656), ('bryan', 657), ('demands', 658), ('because', 659), ('indianapolis', 660), ('puts', 661), ('japans', 662), ('mainz', 663), ('crush', 664), ('27', 665), ('whichlike', 666), ('relax', 667), ('brought', 668), ('box', 669), ('searing', 670), ('helping', 671), ('request', 672), ('buzzing', 673), ('decrease', 674), ('preference', 675), ('uefa', 676), ('training', 677), ('tied', 678), ('npb', 679), ('normal', 680), ('23yearsold', 681), ('core', 682), ('jh', 683), ('michael', 684), ('closed', 685), ('miguel', 686), ('contention', 687), ('clear', 688), ('a', 689), ('iraqi', 690), ('markshane', 691), ('east', 692), ('idle', 693), ('its', 694), ('contributed', 695), ('recognition', 696), ('quarterfinals', 697), ('plenty', 698), ('36', 699), ('terrill', 700), ('49', 701), ('gain', 702), ('201214', 703), ('2007', 704), ('surprises', 705), ('ones', 706), ('madrid', 707), ('staying', 708), ('been', 709), ('unlikely', 710), ('competitions', 711), ('blow', 712), ('dipped', 713), ('pittsburghs', 714), ('bruyne', 715), ('characteristics', 716), ('little', 717), ('reach', 718), ('bid', 719), ('needs', 720), ('216', 721), ('goals', 722), ('friday', 723), ('chest', 724), ('mats', 725), ('palace', 726), ('ronald', 727), ('eric', 728), ('english', 729), ('spurs', 730), ('submitting', 731), ('threaded', 732), ('forfeit', 733), ('lurks', 734), ('picking', 735), ('auenverteidiger', 736), ('milwaukee', 737), ('roman', 738), ('curves', 739), ('effort', 740), ('justifying', 741), ('ask', 742), ('belted', 743), ('result', 744), ('play', 745), ('esswein', 746), ('moving', 747), ('317', 748), ('danger', 749), ('appear', 750), ('sunderlandthough', 751), ('victories', 752), ('contribution', 753), ('drawing', 754), ('alternative', 755), ('successive', 756), ('blue', 757), ('robust', 758), ('challenges', 759), ('8th', 760), ('gone', 761), ('buxton', 762), ('kleague', 763), ('calmly', 764), ('few', 765), ('creating', 766), ('tax', 767), ('animations', 768), ('want', 769), ('jeeho', 770), ('20', 771), ('surgicallyrepaired', 772), ('secondbest', 773), ('fell', 774), ('09', 775), ('oldest', 776), ('joined', 777), ('forfeited', 778), ('breakthrough', 779), ('kellys', 780), ('conference', 781), ('australian', 782), ('they', 783), ('arrival', 784), ('atbats', 785), ('foreign', 786), ('traveling', 787), ('medal', 788), ('saida', 789), ('men', 790), ('secondranked', 791), ('federation', 792), ('9', 793), ('bandaid', 794), ('hell', 795), ('wolfsburg', 796), ('markus', 797), ('verzichten', 798), ('choice', 799), ('samurai', 800), ('morneau', 801), ('able', 802), ('times', 803), ('probably', 804), ('book', 805), ('liberty', 806), ('nov', 807), ('grab', 808), ('sigurdsson', 809), ('hotpsur', 810), ('matheny', 811), ('system', 812), ('below', 813), ('920', 814), ('extended', 815), ('1720', 816), ('favor', 817), ('bats', 818), ('park', 819), ('conditioning', 820), ('doziers', 821), ('considered', 822), ('during', 823), ('ham', 824), ('possibly', 825), ('lotte', 826), ('walkup', 827), ('sacked', 828), ('steve', 829), ('such', 830), ('long', 831), ('opponents', 832), ('minutesheavy', 833), ('magicianif', 834), ('investigated', 835), ('officially', 836), ('strain', 837), ('alex', 838), ('would', 839), ('90', 840), ('maatouk', 841), ('minute', 842), ('reinforcement', 843), ('majors', 844), ('manuel', 845), ('else', 846), ('difficult', 847), ('some', 848), ('wondering', 849), ('amounts', 850), ('informal', 851), ('julian', 852), ('matter', 853), ('reports', 854), ('baffled', 855), ('scouting', 856), ('alleviated', 857), ('dodger', 858), ('slugger', 859), ('with', 860), ('wrong', 861), ('age', 862), ('ohio', 863), ('eased', 864), ('succeed', 865), ('relieve', 866), ('arriving', 867), ('primary', 868), ('147', 869), ('down', 870), ('37', 871), ('steady', 872), ('friendly', 873), ('around', 874), ('testament', 875), ('perspective', 876), ('establishing', 877), ('again', 878), ('travel', 879), ('manned', 880), ('media', 881), ('malaysia', 882), ('stuff', 883), ('44', 884), ('defender', 885), ('issue', 886), ('lauded', 887), ('outfit', 888), ('cats', 889), ('crown', 890), ('batted', 891), ('mean', 892), ('following', 893), ('15', 894), ('airport', 895), ('emotionally', 896), ('only', 897), ('focusing', 898), ('records', 899), ('defenders', 900), ('foxsportscom', 901), ('soul', 902), ('bourjos', 903), ('2000s', 904), ('joseph', 905), ('bring', 906), ('cheer', 907), ('lie', 908), ('2all', 909), ('sports', 910), ('why', 911), ('excellent', 912), ('espn', 913), ('heels', 914), ('balances', 915), ('announcing', 916), ('calm', 917), ('sardar', 918), ('charged', 919), ('confirmed', 920), ('decline', 921), ('jd', 922), ('stars', 923), ('warmer', 924), ('callsenbracker', 925), ('deandre', 926), ('insisted', 927), ('serve', 928), ('parties', 929), ('affected', 930), ('146', 931), ('canceled', 932), ('leaguer', 933), ('clause', 934), ('key', 935), ('firstteam', 936), ('mastermind', 937), ('westfalenstadion', 938), ('protective', 939), ('brain', 940), ('cactus', 941), ('swansea', 942), ('rehabbing', 943), ('korean', 944), ('toe', 945), ('25th', 946), ('spot', 947), ('750', 948), ('log', 949), ('arm', 950), ('i22', 951), ('struggle', 952), ('proved', 953), ('into', 954), ('owners', 955), ('learn', 956), ('jan', 957), ('last', 958), ('awake', 959), ('secondplace', 960), ('stats', 961), ('elevated', 962), ('watford', 963), ('trailing', 964), ('lift', 965), ('healthy', 966), ('topflight', 967), ('mix', 968), ('threeyear', 969), ('firing', 970), ('index', 971), ('stretchered', 972), ('fabianski', 973), ('fit', 974), ('throwing', 975), ('league', 976), ('acted', 977), ('steps', 978), ('encounter', 979), ('longest', 980), ('injurytime', 981), ('cancel', 982), ('alfre', 983), ('throughout', 984), ('heaney', 985), ('produce', 986), ('seonghwan', 987), ('pleased', 988), ('ton', 989), ('under', 990), ('shares', 991), ('frisson', 992), ('toledo', 993), ('elsewhere', 994), ('hawks', 995), ('seattle', 996), ('base', 997), ('rolls', 998), ('minds', 999), ('hes', 1000), ('also', 1001), ('kazmir', 1002), ('become', 1003), ('gang', 1004), ('mid90s', 1005), ('optout', 1006), ('90th', 1007), ('sydney', 1008), ('escobar', 1009), ('kicker', 1010), ('hectic', 1011), ('undergo', 1012), ('landore', 1013), ('agrees', 1014), ('jung', 1015), ('ago', 1016), ('representing', 1017), ('moments', 1018), ('passan', 1019), ('free', 1020), ('augsburg', 1021), ('artur', 1022), ('star', 1023), ('seek', 1024), ('collect', 1025), ('ap', 1026), ('leadoff', 1027), ('satisfactory', 1028), ('measure', 1029), ('cities', 1030), ('although', 1031), ('jeff', 1032), ('soreness', 1033), ('fortunate', 1034), ('95', 1035), ('cech', 1036), ('traveled', 1037), ('exit', 1038), ('reigning', 1039), ('hero', 1040), ('problems', 1041), ('2491', 1042), ('fifth', 1043), ('en', 1044), ('winners', 1045), ('alone', 1046), ('spitting', 1047), ('08', 1048), ('extreme', 1049), ('nuts', 1050), ('chip', 1051), ('combined', 1052), ('slugging', 1053), ('points', 1054), ('dust', 1055), ('headtohead', 1056), ('playersonly', 1057), ('same', 1058), ('score', 1059), ('lone', 1060), ('dominance', 1061), ('initially', 1062), ('921', 1063), ('saturdays', 1064), ('streaks', 1065), ('deal', 1066), ('seasoning', 1067), ('gold', 1068), ('minnesotas', 1069), ('spotrac', 1070), ('straight', 1071), ('rebound', 1072), ('notch', 1073), ('whole', 1074), ('343', 1075), ('especially', 1076), ('represented', 1077), ('cramp', 1078), ('hope', 1079), ('outlets', 1080), ('analysis', 1081), ('fastballs', 1082), ('spectator', 1083), ('pictures', 1084), ('called', 1085), ('advantagenext', 1086), ('upon', 1087), ('throw', 1088), ('leaving', 1089), ('jones', 1090), ('control', 1091), ('ismail', 1092), ('happens', 1093), ('places', 1094), ('halfseason', 1095), ('spring', 1096), ('tossed', 1097), ('sox', 1098), ('seemed', 1099), ('1988', 1100), ('europa', 1101), ('hopefully', 1102), ('chris', 1103), ('directly', 1104), ('early', 1105), ('board', 1106), ('2for3', 1107), ('fixture', 1108), ('well', 1109), ('like', 1110), ('adapted', 1111), ('leads', 1112), ('drastic', 1113), ('waits', 1114), ('expectations', 1115), ('separate', 1116), ('successfully', 1117), ('reunion', 1118), ('wouldnt', 1119), ('whom', 1120), ('resistance', 1121), ('compare', 1122), ('tuchels', 1123), ('member', 1124), ('fierce', 1125), ('home', 1126), ('francesco', 1127), ('rightside', 1128), ('toures', 1129), ('jaded', 1130), ('won', 1131), ('streaming', 1132), ('assuming', 1133), ('putting', 1134), ('then', 1135), ('heartened', 1136), ('levels', 1137), ('gomis', 1138), ('regions', 1139), ('district', 1140), ('courtesy', 1141), ('marco', 1142), ('andrew', 1143), ('shot', 1144), ('weidenfeller', 1145), ('jingu', 1146), ('controlled', 1147), ('hyunjoon', 1148), ('likelihood', 1149), ('adds', 1150), ('international', 1151), ('potato', 1152), ('frontline', 1153), ('wary', 1154), ('attention', 1155), ('disrupted', 1156), ('timeline', 1157), ('fernandez', 1158), ('refunded', 1159), ('scout', 1160), ('more', 1161), ('stateside', 1162), ('favorites', 1163), ('resultit', 1164), ('yet', 1165), ('postponed', 1166), ('yang', 1167), ('365', 1168), ('strikers', 1169), ('involvement', 1170), ('divided', 1171), ('attempt', 1172), ('criteria', 1173), ('hand', 1174), ('kwak', 1175), ('including', 1176), ('reasonable', 1177), ('servais', 1178), ('contest', 1179), ('wolgyu', 1180), ('deploy', 1181), ('throws', 1182), ('legs', 1183), ('41', 1184), ('jeju', 1185), ('initial', 1186), ('galore', 1187), ('ourselves', 1188), ('missing', 1189), ('photomark', 1190), ('26', 1191), ('nationals', 1192), ('floor', 1193), ('transferred', 1194), ('selected', 1195), ('hook', 1196), ('invigorated', 1197), ('however', 1198), ('207', 1199), ('breakingball', 1200), ('own', 1201), ('particular', 1202), ('ended', 1203), ('found', 1204), ('track', 1205), ('where', 1206), ('arena', 1207), ('topped', 1208), ('leagues', 1209), ('turn', 1210), ('displaying', 1211), ('alive', 1212), ('important', 1213), ('lately', 1214), ('solid', 1215), ('worstcase', 1216), ('tottenhams', 1217), ('contributions', 1218), ('bundesligas', 1219), ('alburquerque', 1220), ('job', 1221), ('round', 1222), ('adnan', 1223), ('ripken', 1224), ('flawless', 1225), ('decent', 1226), ('20102011', 1227), ('expected', 1228), ('prosecutors', 1229), ('bullpens', 1230), ('kang', 1231), ('statuses', 1232), ('casino', 1233), ('yedlin', 1234), ('theyre', 1235), ('shin', 1236), ('previously', 1237), ('2002', 1238), ('small', 1239), ('music', 1240), ('stature', 1241), ('impression', 1242), ('establish', 1243), ('soldado', 1244), ('garth', 1245), ('rbis', 1246), ('chadli', 1247), ('25', 1248), ('measures', 1249), ('miss', 1250), ('follows', 1251), ('posh', 1252), ('pochettino', 1253), ('gelsenkirchen', 1254), ('pardew', 1255), ('433', 1256), ('slashing', 1257), ('seoul', 1258), ('departure', 1259), ('broxton', 1260), ('building', 1261), ('midmay', 1262), ('decisive', 1263), ('actual', 1264), ('briefly', 1265), ('angeles', 1266), ('451', 1267), ('judging', 1268), ('4', 1269), ('yardstick', 1270), ('140', 1271), ('crooks', 1272), ('bentalebs', 1273), ('intends', 1274), ('sunny', 1275), ('brings', 1276), ('join', 1277), ('threw', 1278), ('instincts', 1279), ('loss', 1280), ('all', 1281), ('walker', 1282), ('working', 1283), ('timing', 1284), ('delino', 1285), ('94', 1286), ('says', 1287), ('path', 1288), ('stielike', 1289), ('ran', 1290), ('pellegrinis', 1291), ('angry', 1292), ('showing', 1293), ('third', 1294), ('weekend', 1295), ('high', 1296), ('st', 1297), ('capitalise', 1298), ('makes', 1299), ('2015', 1300), ('changed', 1301), ('opting', 1302), ('manage', 1303), ('arrivals', 1304), ('ruhr', 1305), ('crucial', 1306), ('fans', 1307), ('sure', 1308), ('prominent', 1309), ('replaced', 1310), ('combative', 1311), ('pulls', 1312), ('twins', 1313), ('yoon', 1314), ('different', 1315), ('tracker', 1316), ('201112', 1317), ('involved', 1318), ('begins', 1319), ('form', 1320), ('follow', 1321), ('given', 1322), ('session', 1323), ('intentions', 1324), ('paul', 1325), ('collecting', 1326), ('twogame', 1327), ('swimmingly', 1328), ('morning', 1329), ('talented', 1330), ('rejoin', 1331), ('solo', 1332), ('opponent', 1333), ('route', 1334), ('relayed', 1335), ('amounted', 1336), ('snapped', 1337), ('98', 1338), ('280', 1339), ('seem', 1340), ('20pitch', 1341), ('faced', 1342), ('normalcy', 1343), ('elite', 1344), ('history', 1345), ('shame', 1346), ('public', 1347), ('joshua', 1348), ('indicated', 1349), ('appearances', 1350), ('per', 1351), ('wait', 1352), ('restrictions', 1353), ('thenmanager', 1354), ('jake', 1355), ('blackwings2011', 1356), ('rate', 1357), ('relieving', 1358), ('songs', 1359), ('over', 1360), ('became', 1361), ('area', 1362), ('awaited', 1363), ('multinational', 1364), ('hong', 1365), ('lowly', 1366), ('schuberts', 1367), ('hour', 1368), ('backtoback', 1369), ('town', 1370), ('fitagain', 1371), ('niedermeier', 1372), ('whoscoredcom', 1373), ('david', 1374), ('lot', 1375), ('fielder', 1376), ('winger', 1377), ('heavily', 1378), ('upton', 1379), ('travelled', 1380), ('siamese', 1381), ('look', 1382), ('rivera', 1383), ('results', 1384), ('smile', 1385), ('258', 1386), ('etienne', 1387), ('advanced', 1388), ('grateful', 1389), ('roll', 1390), ('transitions', 1391), ('capoue', 1392), ('set', 1393), ('exchanged', 1394), ('cal', 1395), ('alongside', 1396), ('production', 1397), ('pitched', 1398), ('bigleague', 1399), ('according', 1400), ('sign', 1401), ('add', 1402), ('rookies', 1403), ('whether', 1404), ('surrounding', 1405), ('breathtaking', 1406), ('motivate', 1407), ('chairman', 1408), ('read', 1409), ('divisions', 1410), ('goal', 1411), ('foul', 1412), ('owngoal', 1413), ('ki', 1414), ('glimpses', 1415), ('1157', 1416), ('sleep', 1417), ('secured', 1418), ('claims', 1419), ('groin', 1420), ('everything', 1421), ('willing', 1422), ('faces', 1423), ('firstteamers', 1424), ('doubledigit', 1425), ('440', 1426), ('gift', 1427), ('gonzalo', 1428), ('perfectly', 1429), ('300', 1430), ('assists', 1431), ('mud', 1432), ('wrongly', 1433), ('fourthplace', 1434), ('level', 1435), ('begovic', 1436), ('guaranteed', 1437), ('occasionally', 1438), ('conceded', 1439), ('reaching', 1440), ('innings', 1441), ('121', 1442), ('burriss', 1443), ('maybe', 1444), ('used', 1445), ('winner', 1446), ('final', 1447), ('rock', 1448), ('huge', 1449), ('yahoo', 1450), ('interested', 1451), ('guardian', 1452), ('tension', 1453), ('renewing', 1454), ('bp', 1455), ('partnered', 1456), ('sundays', 1457), ('heat', 1458), ('clubs', 1459), ('alexis', 1460), ('led', 1461), ('overload', 1462), ('this', 1463), ('admitted', 1464), ('played', 1465), ('rockets', 1466), ('minnesota', 1467), ('100', 1468), ('cardinals', 1469), ('thats', 1470), ('daughter', 1471), ('readily', 1472), ('stepped', 1473), ('poorly', 1474), ('hot', 1475), ('himself', 1476), ('will', 1477), ('2016', 1478), ('outstanding', 1479), ('clutch', 1480), ('prospect', 1481), ('reus', 1482), ('an', 1483), ('marwijk', 1484), ('punishment', 1485), ('province', 1486), ('shrinking', 1487), ('totally', 1488), ('prosecutions', 1489), ('awfully', 1490), ('stand', 1491), ('receive', 1492), ('florence', 1493), ('evidence', 1494), ('fastball', 1495), ('visitors', 1496), ('kante', 1497), ('dramatically', 1498), ('fine', 1499), ('jokes', 1500), ('foundation', 1501), ('installed', 1502), ('gooden', 1503), ('type', 1504), ('dad', 1505), ('wayne', 1506), ('isnt', 1507), ('preceding', 1508), ('named', 1509), ('costing', 1510), ('anything', 1511), ('glorious', 1512), ('selhurst', 1513), ('220', 1514), ('most', 1515), ('describe', 1516), ('braun', 1517), ('masons', 1518), ('fan', 1519), ('by', 1520), ('participating', 1521), ('along', 1522), ('weeks', 1523), ('harsh', 1524), ('11th', 1525), ('clinch', 1526), ('warrant', 1527), ('captain', 1528), ('adapting', 1529), ('instances', 1530), ('retired', 1531), ('83rd', 1532), ('pressure', 1533), ('presumably', 1534), ('drawling', 1535), ('within', 1536), ('thigh', 1537), ('direction', 1538), ('development', 1539), ('wise', 1540), ('rasmus', 1541), ('midfielder', 1542), ('thursday', 1543), ('foreigngambling', 1544), ('closing', 1545), ('welcomed', 1546), ('sniffed', 1547), ('developing', 1548), ('large', 1549), ('window', 1550), ('sessegnon', 1551), ('mauer', 1552), ('excited', 1553), ('partly', 1554), ('prove', 1555), ('causing', 1556), ('dutchman', 1557), ('title', 1558), ('north', 1559), ('fatigued', 1560), ('reason', 1561), ('former', 1562), ('pochettinos', 1563), ('calling', 1564), ('qualified', 1565), ('rotator', 1566), ('illegal', 1567), ('revere', 1568), ('stands', 1569), ('sum', 1570), ('saying', 1571), ('number', 1572), ('suwon', 1573), ('stephane', 1574), ('social', 1575), ('side', 1576), ('joan', 1577), ('tired', 1578), ('boasts', 1579), ('rightfully', 1580), ('part', 1581), ('averaged', 1582), ('cooperate', 1583), ('remembrance', 1584), ('hammers', 1585), ('familiarity', 1586), ('barrow', 1587), ('lesen', 1588), ('confident', 1589), ('treated', 1590), ('garnered', 1591), ('hang', 1592), ('heungmin', 1593), ('rain', 1594), ('there', 1595), ('relief', 1596), ('iron', 1597), ('precocious', 1598), ('release', 1599), ('respect', 1600), ('safety', 1601), ('resume', 1602), ('regularly', 1603), ('defend', 1604), ('absence', 1605), ('aussie', 1606), ('oblique', 1607), ('sits', 1608), ('225', 1609), ('broke', 1610), ('2018', 1611), ('troops', 1612), ('olivier', 1613), ('2006', 1614), ('pro', 1615), ('fitness', 1616), ('impressively', 1617), ('focussing', 1618), ('shaw', 1619), ('saw', 1620), ('dwell', 1621), ('247', 1622), ('twin', 1623), ('545', 1624), ('fouled', 1625), ('hart', 1626), ('sixgame', 1627), ('ready', 1628), ('promise', 1629), ('process', 1630), ('nabil', 1631), ('eastern', 1632), ('longterm', 1633), ('childhood', 1634), ('marking', 1635), ('andre', 1636), ('striking', 1637), ('evergrande', 1638), ('zorc', 1639), ('dangerous', 1640), ('favourites', 1641), ('angle', 1642), ('confusing', 1643), ('186', 1644), ('setback', 1645), ('benched', 1646), ('steven', 1647), ('lifted', 1648), ('happened', 1649), ('nations', 1650), ('affiliate', 1651), ('2014', 1652), ('sainsbury', 1653), ('walked', 1654), ('declined', 1655), ('closer', 1656), ('notched', 1657), ('pretty', 1658), ('maid', 1659), ('griffin', 1660), ('purple', 1661), ('midfielders', 1662), ('clinched', 1663), ('language', 1664), ('detroits', 1665), ('lightening', 1666), ('defeated', 1667), ('ticket', 1668), ('allis', 1669), ('refocused', 1670), ('robinson', 1671), ('adaptable', 1672), ('investigation', 1673), ('three', 1674), ('righthander', 1675), ('not', 1676), ('nemesis', 1677), ('sensibly', 1678), ('contracts', 1679), ('concacaf', 1680), ('jonathan', 1681), ('marginalised', 1682), ('rp', 1683), ('dortmunds', 1684), ('each', 1685), ('asian', 1686), ('taking', 1687), ('past', 1688), ('fraser', 1689), ('mancloser', 1690), ('qpr', 1691), ('guidolin', 1692), ('record', 1693), ('personnel', 1694), ('286', 1695), ('successful', 1696), ('undone', 1697), ('online', 1698), ('etihad', 1699), ('signed', 1700), ('monchengladbach', 1701), ('sticks', 1702), ('proceeding', 1703), ('heard', 1704), ('scouted', 1705), ('changyong', 1706), ('trick', 1707), ('contract', 1708), ('west', 1709), ('wherever', 1710), ('swiping', 1711), ('reminds', 1712), ('velocity', 1713), ('clearly', 1714), ('terrific', 1715), ('aiming', 1716), ('attacks', 1717), ('appearance', 1718), ('diminish', 1719), ('testing', 1720), ('smoothly', 1721), ('462foot', 1722), ('mohammad', 1723), ('bullpen', 1724), ('bottom', 1725), ('slowly', 1726), ('schalkes', 1727), ('tournament', 1728), ('condition', 1729), ('obtaining', 1730), ('caution', 1731), ('huston', 1732), ('goalkeepers', 1733), ('september', 1734), ('produced', 1735), ('heeseop', 1736), ('these', 1737), ('rangers', 1738), ('watching', 1739), ('maintaining', 1740), ('price', 1741), ('blast', 1742), ('seats', 1743), ('ultimately', 1744), ('defines', 1745), ('come', 1746), ('entertainment', 1747), ('hopeful', 1748), ('22', 1749), ('was', 1750), ('sides', 1751), ('interleague', 1752), ('wasnt', 1753), ('sufficient', 1754), ('whatever', 1755), ('goalkeeper', 1756), ('scoreline', 1757), ('size', 1758), ('station', 1759), ('reinvigorate', 1760), ('tomorrow', 1761), ('began', 1762), ('so', 1763), ('placebowise', 1764), ('hitter', 1765), ('wins', 1766), ('heart', 1767), ('climes', 1768), ('josh', 1769), ('massive', 1770), ('30', 1771), ('threat', 1772), ('circuitous', 1773), ('consecutive', 1774), ('face', 1775), ('m', 1776), ('accommodate', 1777), ('known', 1778), ('jeonghohong', 1779), ('countryspeaking', 1780), ('petr', 1781), ('leverkusen', 1782), ('bigmoney', 1783), ('peralta', 1784), ('bundesliga', 1785), ('promising', 1786), ('fitting', 1787), ('19th', 1788), ('basel', 1789), ('berths', 1790), ('step', 1791), ('solve', 1792), ('received', 1793), ('yonhap', 1794), ('that', 1795), ('young', 1796), ('enhancing', 1797), ('mlb', 1798), ('fifthround', 1799), ('seventh', 1800), ('ever', 1801), ('catchers', 1802), ('rumors', 1803), ('top10', 1804), ('januzaj', 1805), ('106', 1806), ('51stminute', 1807), ('adjustment', 1808), ('surrendered', 1809), ('marked', 1810), ('series', 1811), ('mphplus', 1812), ('met', 1813), ('6', 1814), ('figures', 1815), ('vitality', 1816), ('harder', 1817), ('whilst', 1818), ('sarach', 1819), ('momentum', 1820), ('understand', 1821), ('valencia', 1822), ('stretch', 1823), ('split', 1824), ('berth', 1825), ('amazing', 1826), ('two', 1827), ('sunderland', 1828), ('towards', 1829), ('seemingly', 1830), ('wakeup', 1831), ('campaigns', 1832), ('explaining', 1833), ('understandably', 1834), ('whats', 1835), ('bit', 1836), ('imaginative', 1837), ('stadium', 1838), ('duplicate', 1839), ('representation', 1840), ('110th', 1841), ('birth', 1842), ('harry', 1843), ('strikes', 1844), ('spots', 1845), ('double', 1846), ('unable', 1847), ('cap', 1848), ('finale', 1849), ('does', 1850), ('easy', 1851), ('make', 1852), ('december', 1853), ('hilal', 1854), ('fukuokabased', 1855), ('others', 1856), ('somewhat', 1857), ('louis', 1858), ('yen', 1859), ('excluded', 1860), ('toby', 1861), ('victory', 1862), ('quite', 1863), ('bayern', 1864), ('facebook', 1865), ('front', 1866), ('applies', 1867), ('bounceback', 1868), ('areas', 1869), ('fined', 1870), ('ain', 1871), ('vientiane', 1872), ('meetings', 1873), ('tougher', 1874), ('regular', 1875), ('whipped', 1876), ('kept', 1877), ('pitchfx', 1878), ('toes', 1879), ('chances', 1880), ('deserved', 1881), ('clue', 1882), ('opportunities', 1883), ('62', 1884), ('entered', 1885), ('requested', 1886), ('httpwwwsouthwaleseveningpostcoukswanseacitymidfielderkisungyuengsaysstory28094371detailstoryhtmlixzz48qqsah3t', 1887), ('cannon', 1888), ('shinsoo', 1889), ('operations', 1890), ('permission', 1891), ('jacheol', 1892), ('leftback', 1893), ('linpeng', 1894), ('cano', 1895), ('eurostars', 1896), ('examination', 1897), ('indebted', 1898), ('looming', 1899), ('fifa', 1900), ('arrive', 1901), ('premier', 1902), ('eat', 1903), ('impressions', 1904), ('fresher', 1905), ('which', 1906), ('serie', 1907), ('countryman', 1908), ('fridays', 1909), ('5', 1910), ('arose', 1911), ('inevitably', 1912), ('prime', 1913), ('went', 1914), ('opted', 1915), ('trying', 1916), ('goes', 1917), ('bachelor', 1918), ('seeds', 1919), ('division', 1920), ('prolonged', 1921), ('before', 1922), ('arizona', 1923), ('1996', 1924), ('ban', 1925), ('various', 1926), ('manger', 1927), ('native', 1928), ('leicester', 1929), ('basis', 1930), ('feat', 1931), ('caribbean', 1932), ('wanted', 1933), ('posting', 1934), ('experienced', 1935), ('japanese', 1936), ('appropriate', 1937), ('havent', 1938), ('performers', 1939), ('tell', 1940), ('taijuan', 1941), ('crack', 1942), ('wales', 1943), ('middle', 1944), ('true', 1945), ('present', 1946), ('swans', 1947), ('shape', 1948), ('shoes', 1949), ('humphrey', 1950), ('prince', 1951), ('region', 1952), ('came', 1953), ('spent', 1954), ('253', 1955), ('qualifiers', 1956), ('fukuoka', 1957), ('francisco', 1958), ('daniel', 1959), ('ryu', 1960), ('strained', 1961), ('wainwright', 1962), ('enemies', 1963), ('data', 1964), ('twoyear', 1965), ('placebo', 1966), ('jooho', 1967), ('wednesdays', 1968), ('unbeatable', 1969), ('enthused', 1970), ('espns', 1971), ('mehr', 1972), ('inside', 1973), ('muscle', 1974), ('thailand', 1975), ('avoiding', 1976), ('porto', 1977), ('winless', 1978), ('skill', 1979), ('paulinho', 1980), ('feb', 1981), ('15th', 1982), ('toddler', 1983), ('brantley', 1984), ('debunk', 1985), ('233', 1986), ('stephen', 1987), ('national', 1988), ('draws', 1989), ('roda', 1990), ('turf', 1991), ('tidy', 1992), ('enthusiasm', 1993), ('veteran', 1994), ('launched', 1995), ('numbers', 1996), ('knocking', 1997), ('genuine', 1998), ('western', 1999), ('planned', 2000), ('improve', 2001), ('3m', 2002), ('standpoint', 2003), ('handling', 2004), ('chinese', 2005), ('visiting', 2006), ('tim', 2007), ('pitcher', 2008), ('personal', 2009), ('near', 2010), ('onbase', 2011), ('donaldson', 2012), ('274', 2013), ('bbc', 2014), ('identical', 2015), ('ngolo', 2016), ('purchase', 2017), ('continued', 2018), ('atop', 2019), ('hanshin', 2020), ('cork', 2021), ('brazil', 2022), ('61', 2023), ('belt', 2024), ('tricky', 2025), ('brandon', 2026), ('16', 2027), ('francona', 2028), ('wanderers', 2029), ('fire', 2030), ('hojbjerg', 2031), ('starter', 2032), ('affect', 2033), ('dwight', 2034), ('move', 2035), ('fantasy', 2036), ('spend', 2037), ('glendale', 2038), ('rather', 2039), ('abdulrahman', 2040), ('unrestricted', 2041), ('inform', 2042), ('article', 2043), ('attempts', 2044), ('experiencing', 2045), ('bayer', 2046), ('wondered', 2047), ('he', 2048), ('october', 2049), ('never', 2050), ('afford', 2051), ('toughest', 2052), ('everyone', 2053), ('davies', 2054), ('rio', 2055), ('exciting', 2056), ('negotiating', 2057), ('regarded', 2058), ('might', 2059), ('papastathopoulos', 2060), ('belongs', 2061), ('bite', 2062), ('twogoal', 2063), ('expressing', 2064), ('cake', 2065), ('countries', 2066), ('293', 2067), ('075', 2068), ('experiences', 2069), ('auf', 2070), ('actually', 2071), ('far', 2072), ('professionally', 2073), ('matchups', 2074), ('situation', 2075), ('comparison', 2076), ('amoory', 2077), ('jetfuelled', 2078), ('demble', 2079), ('beyond', 2080), ('schedule', 2081), ('routledge', 2082), ('kyle', 2083), ('ambitious', 2084), ('rounding', 2085), ('video', 2086), ('buffaloes', 2087), ('dongwon', 2088), ('benefit', 2089), ('bb9', 2090), ('connections', 2091), ('europe', 2092), ('dr', 2093), ('joy', 2094), ('thomas', 2095), ('matt', 2096), ('cant', 2097), ('skysports', 2098), ('war', 2099), ('bst', 2100), ('97mph', 2101), ('united', 2102), ('homeandaway', 2103), ('leaders', 2104), ('program', 2105), ('2010', 2106), ('outfielder', 2107), ('signings', 2108), ('knock', 2109), ('pressurepacked', 2110), ('antar', 2111), ('les', 2112), ('312', 2113), ('lead', 2114), ('ross', 2115), ('after', 2116), ('frantically', 2117), ('whip', 2118), ('walk', 2119), ('sprawled', 2120), ('6for14', 2121), ('mri', 2122), ('httpwwwsouthwaleseveningpostcoukswanseacitymidfielderkisungyuengdemandsstory28363644detailstoryhtmlixzz48qqjumpt', 2123), ('tuning', 2124), ('flip', 2125), ('incentives', 2126), ('decision', 2127), ('sharp', 2128), ('bromwich', 2129), ('buildup', 2130), ('eye', 2131), ('shut', 2132), ('httpwwwsouthwaleseveningpostcoukkisungyuengswanseacityfoldgarrymonkstory27818980detailstoryhtmlixzz48qqihqj1', 2133), ('group', 2134), ('something', 2135), ('slight', 2136), ('quickly', 2137), ('surprisingly', 2138), ('772', 2139), ('hwaseong', 2140), ('de', 2141), ('revealed', 2142), ('chased', 2143), ('personality', 2144), ('bat', 2145), ('eightpoint', 2146), ('runnerup', 2147), ('shamrani', 2148), ('expressed', 2149), ('list', 2150), ('snag', 2151), ('did', 2152), ('had', 2153), ('option', 2154), ('pictwittercombigvsajt1b', 2155), ('tried', 2156), ('races', 2157), ('recently', 2158), ('2308', 2159), ('cornerstone', 2160), ('flexible', 2161), ('pt', 2162), ('taeguk', 2163), ('returning', 2164), ('kbo', 2165), ('flight', 2166), ('goalpost', 2167), ('favorite', 2168), ('k', 2169), ('mission', 2170), ('wolves', 2171), ('possession', 2172), ('stielikes', 2173), ('mentioned', 2174), ('taegeuk', 2175), ('slash', 2176), ('kbos', 2177), ('assignments', 2178), ('worsen', 2179), ('cannot', 2180), ('triumphed', 2181), ('translator', 2182), ('devils', 2183), ('pundit', 2184), ('mvp', 2185), ('093', 2186), ('australia', 2187), ('return', 2188), ('jinsoo', 2189), ('degree', 2190), ('showed', 2191), ('uzbekistan', 2192), ('hecking', 2193), ('credit', 2194), ('chance', 2195), ('solution', 2196), ('constitutes', 2197), ('heartbeat', 2198), ('tear', 2199), ('kershaw', 2200), ('playoffs', 2201), ('always', 2202), ('httpwwwsouthwaleseveningpostcoukswanseacitymidfielderkisungyuengmissstory28670822detailstoryhtmlixzz48qp94g00', 2203), ('thrilling', 2204), ('dates', 2205), ('through', 2206), ('eduardo', 2207), ('leg', 2208), ('republic', 2209), ('qualifier', 2210), ('warmed', 2211), ('suspected', 2212), ('yoshida', 2213), ('while', 2214), ('28th', 2215), ('sixteen', 2216), ('course', 2217), ('12th', 2218), ('candidates', 2219), ('relegation', 2220), ('reporters', 2221), ('counting', 2222), ('related', 2223), ('201213', 2224), ('raul', 2225), ('sunshine', 2226), ('using', 2227), ('fewer', 2228), ('wengers', 2229), ('winter', 2230), ('do', 2231), ('wrap', 2232), ('win', 2233), ('czech', 2234), ('trade', 2235), ('tuesdays', 2236), ('brothers', 2237), ('fc', 2238), ('change', 2239), ('ahn', 2240), ('dele', 2241), ('westphalians', 2242), ('suffered', 2243), ('occupied', 2244), ('daeho', 2245), ('agents', 2246), ('589', 2247), ('teammates', 2248), ('hyunjun', 2249), ('33rd', 2250), ('going', 2251), ('samsung', 2252), ('you', 2253), ('nickname', 2254), ('payroll', 2255), ('21', 2256), ('him', 2257), ('texas', 2258), ('superiority', 2259), ('keeping', 2260), ('stamford', 2261), ('sevengoal', 2262), ('losses', 2263), ('secure', 2264), ('nothing', 2265), ('euros', 2266), ('8379', 2267), ('646', 2268), ('pulled', 2269), ('plateau', 2270), ('estimated', 2271), ('cishek', 2272), ('any', 2273), ('wall', 2274), ('thereafter', 2275), ('roger', 2276), ('cautious', 2277), ('nashville', 2278), ('deshields', 2279), ('substitutes', 2280), ('conversation', 2281), ('legal', 2282), ('translation', 2283), ('root', 2284), ('reverse', 2285), ('2013', 2286), ('undoubted', 2287), ('due', 2288), ('compared', 2289), ('heroics', 2290), ('six', 2291), ('happen', 2292), ('stated', 2293), ('spin', 2294), ('image', 2295), ('64', 2296), ('managing', 2297), ('focused', 2298), ('collected', 2299), ('regret', 2300), ('postmatch', 2301), ('pull', 2302), ('includes', 2303), ('monaco', 2304), ('macau', 2305), ('fantastic', 2306), ('allardyces', 2307), ('contrast', 2308), ('ten', 2309), ('uli', 2310), ('five', 2311), ('55', 2312), ('procedure', 2313), ('global', 2314), ('lim', 2315), ('event', 2316), ('1st', 2317), ('j', 2318), ('were', 2319), ('mlbs', 2320), ('blasted', 2321), ('405', 2322), ('sluggers', 2323), ('siegrist', 2324), ('groundouts', 2325), ('rose', 2326), ('soon', 2327), ('concerns', 2328), ('backs', 2329), ('playbyplay', 2330), ('montis', 2331), ('efforts', 2332), ('preseason', 2333), ('show', 2334), ('took', 2335), ('think', 2336), ('fourtime', 2337), ('unlucky', 2338), ('finding', 2339), ('unproven', 2340), ('themselves', 2341), ('sidon', 2342), ('httpenyibadacomarticles11117820160323afc2018worldcupqualifyingsouthkoreavslebanonpreviewhtmixzz48qmvasli', 2343), ('1977', 2344), ('assured', 2345), ('allowing', 2346), ('deflected', 2347), ('intrinsic', 2348), ('earn', 2349), ('name', 2350), ('roundrobin', 2351), ('court', 2352), ('summerspeaking', 2353), ('monk', 2354), ('manager', 2355), ('safeco', 2356), ('saves', 2357), ('risks', 2358), ('several', 2359), ('corner', 2360), ('mariners', 2361), ('to', 2362), ('strong', 2363), ('smashed', 2364), ('dearly', 2365), ('improving', 2366), ('lowintensity', 2367), ('website', 2368), ('adam', 2369), ('ms', 2370), ('decade', 2371), ('byungho', 2372), ('reached', 2373), ('dominated', 2374), ('pace', 2375), ('sold', 2376), ('loves', 2377), ('pitching', 2378), ('fully', 2379), ('wwk', 2380), ('automatic', 2381), ('underwhelming', 2382), ('charges', 2383), ('great', 2384), ('carried', 2385), ('how', 2386), ('pacebypace', 2387), ('playmaker', 2388), ('indicted', 2389), ('about', 2390), ('scandal', 2391), ('rooted', 2392), ('baseaball', 2393), ('focus', 2394), ('role', 2395), ('rotation', 2396), ('entire', 2397), ('point', 2398), ('army', 2399), ('nathan', 2400), ('performance', 2401), ('years', 2402), ('zach', 2403), ('autumn', 2404), ('middecember', 2405), ('regularstarter', 2406), ('lucky', 2407), ('speculation', 2408), ('finalexpectations', 2409), ('cream', 2410), ('hoped', 2411), ('yg', 2412), ('450', 2413), ('means', 2414), ('delay', 2415), ('imposed', 2416), ('making', 2417), ('disclosed', 2418), ('honor', 2419), ('incentivebased', 2420), ('sat', 2421), ('underway', 2422), ('forced', 2423), ('angels', 2424), ('proud', 2425), ('red', 2426), ('byron', 2427), ('slowed', 2428), ('now', 2429), ('soil', 2430), ('choi', 2431), ('footballer', 2432), ('ji', 2433), ('directed', 2434), ('resources', 2435), ('badly', 2436), ('telling', 2437), ('europes', 2438), ('away', 2439), ('knockout', 2440), ('participant', 2441), ('punching', 2442), ('kuala', 2443), ('tries', 2444), ('ive', 2445), ('pick', 2446), ('significant', 2447), ('anyone', 2448), ('midweek', 2449), ('aguero', 2450), ('packed', 2451), ('bavarian', 2452), ('yellows', 2453), ('26year', 2454), ('knee', 2455), ('against', 2456), ('eyes', 2457), ('azmoun', 2458), ('put', 2459), ('affair', 2460), ('coaching', 2461), ('succession', 2462), ('nine', 2463), ('comfort', 2464), ('energetic', 2465), ('threesome', 2466), ('truly', 2467), ('include', 2468), ('326', 2469), ('cedres', 2470), ('walkoff', 2471), ('jeongho', 2472), ('biggest', 2473), ('individual', 2474), ('homers', 2475), ('drop', 2476), ('laurent', 2477), ('kaiserslautern', 2478), ('31', 2479), ('qualify', 2480), ('supported', 2481), ('draw', 2482), ('average', 2483), ('entering', 2484), ('giving', 2485), ('having', 2486), ('listen', 2487), ('slew', 2488), ('aside', 2489), ('portuguese', 2490), ('finished', 2491), ('oumari', 2492), ('26yearold', 2493), ('peace', 2494), ('eager', 2495), ('matchwinning', 2496), ('tribes', 2497), ('spain', 2498), ('contending', 2499), ('290', 2500), ('environment', 2501), ('contributor', 2502), ('itll', 2503), ('orioles', 2504), ('disappointment', 2505), ('3220', 2506), ('lock', 2507), ('afternoon', 2508), ('35th', 2509), ('reemphasising', 2510), ('29yearold', 2511), ('satisfied', 2512), ('walks', 2513), ('among', 2514), ('popular', 2515), ('work', 2516), ('powerhitting', 2517), ('effect', 2518), ('insists', 2519), ('tight', 2520), ('strongly', 2521), ('51', 2522), ('holding', 2523), ('sounds', 2524), ('pirates', 2525), ('site', 2526), ('perhaps', 2527), ('12', 2528), ('10', 2529), ('lebanon', 2530), ('deciding', 2531), ('cologne', 2532), ('doosan', 2533), ('homerun', 2534), ('simply', 2535), ('california', 2536), ('opinion', 2537), ('real', 2538), ('yoo', 2539), ('longtime', 2540), ('except', 2541), ('pointed', 2542), ('securing', 2543), ('cautiously', 2544), ('zack', 2545), ('brace', 2546), ('couple', 2547), ('increases', 2548), ('contender', 2549), ('twoseam', 2550), ('kanes', 2551), ('cahill', 2552), ('prepared', 2553), ('rehab', 2554), ('smartly', 2555), ('begin', 2556), ('augment', 2557), ('seamless', 2558), ('christian', 2559), ('141', 2560), ('prior', 2561), ('rookie', 2562), ('roundof32', 2563), ('felt', 2564), ('haidar', 2565), ('sliders', 2566), ('month', 2567), ('mound', 2568), ('matches', 2569), ('wazde', 2570), ('pitchers', 2571), ('postseason', 2572), ('baseman', 2573), ('ankle', 2574), ('claim', 2575), ('hoping', 2576), ('who', 2577), ('failed', 2578), ('legend', 2579), ('veltinsarena', 2580), ('current', 2581), ('bronze', 2582), ('campaign', 2583), ('assistant', 2584), ('netted', 2585), ('date', 2586), ('kimchi', 2587), ('made', 2588), ('utilized', 2589), ('for', 2590), ('homeland', 2591), ('endofseason', 2592), ('child', 2593), ('201215', 2594), ('waited', 2595), ('of', 2596), ('thrown', 2597), ('plate', 2598), ('from', 2599), ('stroke', 2600), ('fason', 2601), ('doesnt', 2602), ('rosenthal', 2603), ('mm', 2604), ('soccer', 2605), ('offer', 2606), ('majestic', 2607), ('caught', 2608), ('bournemouth', 2609), ('gyeonggi', 2610), ('336', 2611), ('hamam', 2612), ('ashley', 2613), ('fer', 2614), ('severe', 2615), ('dont', 2616), ('potential', 2617), ('awesome', 2618), ('276', 2619), ('dribble', 2620), ('mamayevs', 2621), ('until', 2622), ('badass', 2623), ('deep', 2624), ('drew', 2625), ('infectious', 2626), ('allow', 2627), ('lions', 2628), ('recovered', 2629), ('bright', 2630), ('player', 2631), ('ariz', 2632), ('winning', 2633), ('situations', 2634), ('troubles', 2635), ('lamela', 2636), ('aston', 2637), ('ryus', 2638), ('news', 2639), ('jerry', 2640), ('hands', 2641), ('everton', 2642), ('closely', 2643), ('theyve', 2644), ('inexperience', 2645), ('sons', 2646), ('httpenyibadacomarticles12280620160512premierleague20152016swanseacityvsmanchesterpreviewpredictionhtmixzz48qovyrym', 2647), ('earlier', 2648), ('reliable', 2649), ('checking', 2650), ('members', 2651), ('faceoff', 2652), ('doubt', 2653), ('aj', 2654), ('reported', 2655), ('sunday', 2656), ('know', 2657), ('bremen', 2658), ('entirely', 2659), ('talk', 2660), ('built', 2661), ('perform', 2662), ('balcony', 2663), ('relatively', 2664), ('success', 2665), ('attack', 2666), ('as', 2667), ('available', 2668), ('jackie', 2669), ('warm', 2670), ('syria', 2671), ('find', 2672), ('filling', 2673), ('test', 2674), ('likely', 2675), ('6461', 2676), ('build', 2677), ('versus', 2678), ('betting', 2679), ('twitter', 2680), ('talisman', 2681), ('303387514', 2682), ('figuring', 2683), ('breakout', 2684), ('latter', 2685), ('koreanborn', 2686), ('road', 2687), ('rely', 2688), ('schmelzer', 2689), ('homer', 2690), ('nice', 2691), ('company', 2692), ('kane', 2693), ('evening', 2694), ('holiday', 2695), ('losing', 2696), ('office', 2697), ('told', 2698), ('register', 2699), ('finishing', 2700), ('e', 2701), ('2', 2702), ('compete', 2703), ('one', 2704), ('total', 2705), ('afc', 2706), ('batters', 2707), ('relationship', 2708), ('karns', 2709), ('retain', 2710), ('explained', 2711), ('those', 2712), ('space', 2713), ('underwhelmed', 2714), ('excitement', 2715), ('vulnerable', 2716), ('57thminute', 2717), ('calls', 2718), ('somewhere', 2719), ('visa', 2720), ('journey', 2721), ('runners', 2722), ('offseason', 2723), ('suckerpunch', 2724), ('wild', 2725), ('ballparks', 2726), ('hertha', 2727), ('gylfi', 2728), ('headed', 2729), ('am', 2730), ('suffering', 2731), ('fancy', 2732), ('koemans', 2733), ('needed', 2734), ('bluewaves', 2735), ('suspended', 2736), ('net', 2737), ('96', 2738), ('career', 2739), ('shake', 2740), ('squared', 2741), ('volley', 2742), ('friedman', 2743), ('common', 2744), ('increasing', 2745), ('janingwer', 2746), ('scoresheet', 2747), ('peril', 2748), ('even', 2749), ('between', 2750), ('loan', 2751), ('30th', 2752), ('citizens', 2753), ('sentiment', 2754), ('swing', 2755), ('passes', 2756), ('achieved', 2757), ('didnt', 2758), ('ghoochannejhad', 2759), ('general', 2760), ('believes', 2761), ('hurl', 2762), ('reuter', 2763), ('shoot', 2764), ('wrapping', 2765), ('tend', 2766), ('club', 2767), ('battle', 2768), ('hold', 2769), ('flukes', 2770), ('promotion', 2771), ('traded', 2772), ('needing', 2773), ('slipped', 2774), ('shamsin', 2775), ('got', 2776), ('marks', 2777), ('monks', 2778), ('category', 2779), ('reed', 2780), ('seein', 2781), ('signs', 2782), ('50', 2783), ('joel', 2784), ('highest', 2785), ('guess', 2786), ('twelve', 2787), ('leading', 2788), ('champion', 2789), ('tying', 2790), ('nats', 2791), ('concerned', 2792), ('defence', 2793), ('opener', 2794), ('reflected', 2795), ('virgil', 2796), ('466', 2797), ('danny', 2798), ('scenario', 2799), ('slow', 2800), ('jinsu', 2801), ('starts', 2802), ('but', 2803), ('addition', 2804), ('clinching', 2805), ('dave', 2806), ('fourth', 2807), ('noted', 2808), ('superb', 2809), ('workload', 2810), ('milestones', 2811), ('theyll', 2812), ('uptown', 2813), ('ascent', 2814), ('american', 2815), ('250', 2816), ('suk', 2817), ('crosscity', 2818), ('patch', 2819), ('eriksen', 2820), ('prague', 2821), ('london', 2822), ('physical', 2823), ('houston', 2824), ('love', 2825), ('four', 2826), ('scream', 2827), ('nicknames', 2828), ('playing', 2829), ('ultralongdistance', 2830), ('cheering', 2831), ('148', 2832), ('colby', 2833), ('23yearold', 2834), ('plays', 2835), ('hits', 2836), ('500', 2837), ('threatens', 2838), ('80', 2839), ('forward', 2840), ('germans', 2841), ('regularseason', 2842), ('theres', 2843), ('hotspur', 2844), ('hugo', 2845), ('victorya', 2846), ('stay', 2847), ('arrest', 2848), ('crowd', 2849), ('spiranovic', 2850), ('stuttgart', 2851), ('muscled', 2852), ('jumped', 2853), ('wed', 2854), ('strike', 2855), ('mark', 2856), ('wish', 2857), ('cool', 2858), ('borussia', 2859), ('qatar', 2860), ('constant', 2861), ('584', 2862), ('opened', 2863), ('me', 2864), ('cha', 2865), ('pressing', 2866), ('397', 2867), ('equaliser', 2868), ('roberts', 2869), ('worth', 2870), ('august', 2871), ('field', 2872), ('progress', 2873), ('seeking', 2874), ('selfconfidence', 2875), ('torn', 2876), ('championship', 2877), ('experts', 2878), ('sadaharu', 2879), ('definitely', 2880), ('via', 2881), ('handed', 2882), ('announced', 2883), ('yahoos', 2884), ('remains', 2885), ('icing', 2886), ('disrupt', 2887), ('interconfederation', 2888), ('arsenals', 2889), ('sharpness', 2890), ('enter', 2891), ('secondfloor', 2892), ('impressive', 2893), ('maness', 2894), ('struggled', 2895), ('finalthe', 2896), ('preached', 2897), ('2815', 2898), ('typically', 2899), ('arbitration', 2900), ('ayew', 2901), ('considering', 2902), ('heads', 2903), ('february', 2904), ('really', 2905), ('traits', 2906), ('percentage', 2907), ('disappointing', 2908), ('other', 2909), ('eventually', 2910), ('bert', 2911), ('ruth', 2912), ('starting', 2913), ('interest', 2914), ('consistency', 2915), ('bolsinger', 2916), ('dodgers', 2917), ('1994', 2918), ('glory', 2919), ('imagine', 2920), ('northern', 2921), ('naughton', 2922), ('chinhui', 2923), ('close', 2924), ('flops', 2925), ('93rd', 2926), ('7', 2927), ('emirates', 2928), ('nicknamed', 2929), ('kenta', 2930), ('despite', 2931), ('orix', 2932), ('difference', 2933), ('linked', 2934), ('tehran', 2935), ('lees', 2936), ('tie', 2937), ('gathered', 2938), ('aerial', 2939), ('80359capacity', 2940), ('agreement', 2941), ('feature', 2942), ('least', 2943), ('93', 2944), ('2012', 2945), ('bolstered', 2946), ('taken', 2947), ('seigrist', 2948), ('rbi', 2949), ('transfer', 2950), ('approaches', 2951), ('sense', 2952), ('05', 2953), ('nearpost', 2954), ('van', 2955), ('standings', 2956), ('gunners', 2957), ('ipads', 2958), ('429', 2959), ('tangible', 2960), ('rightback', 2961), ('fourgoal', 2962), ('gave', 2963), ('lineup', 2964), ('sokratis', 2965), ('warning', 2966), ('indicative', 2967), ('neither', 2968), ('athletic', 2969), ('debut', 2970), ('comefrombehind', 2971), ('erik', 2972), ('olympic', 2973), ('founding', 2974), ('pinpoint', 2975), ('augsburgs', 2976), ('dropped', 2977), ('67th', 2978), ('hammer', 2979), ('shows', 2980), ('charton', 2981), ('mistakes', 2982), ('frequented', 2983), ('chase', 2984), ('pursue', 2985), ('nexen', 2986), ('qualification', 2987), ('precautionary', 2988), ('testifies', 2989), ('leaner', 2990), ('nonetheless', 2991), ('affiliations', 2992), ('ranks', 2993), ('drove', 2994), ('camp', 2995), ('be', 2996), ('antics', 2997), ('germany', 2998), ('contusion', 2999), ('lacked', 3000), ('waiting', 3001), ('sloppy', 3002), ('matters', 3003), ('struck', 3004), ('traditional', 3005), ('january', 3006), ('hosting', 3007), ('gem', 3008), ('chief', 3009), ('remain', 3010), ('cut', 3011), ('batting', 3012), ('primarily', 3013), ('rivals', 3014), ('outfield', 3015), ('half', 3016), ('requirements', 3017), ('70', 3018), ('dier', 3019), ('kind', 3020), ('exempted', 3021), ('much', 3022), ('problem', 3023), ('light', 3024), ('june', 3025), ('nodoubter', 3026), ('stambouli', 3027), ('6foot4', 3028), ('tough', 3029), ('fresh', 3030), ('silent', 3031), ('ineligible', 3032), ('ground', 3033), ('mariano', 3034), ('safe', 3035), ('heroes', 3036), ('help', 3037), ('admits', 3038), ('respectively', 3039), ('responsibility', 3040), ('dieter', 3041), ('grounded', 3042), ('taiwanese', 3043), ('outlet', 3044), ('uaes', 3045), ('pitcherlefthander', 3046), ('second', 3047), ('bertrand', 3048), ('give', 3049), ('blemish', 3050), ('im', 3051), ('greinke', 3052), ('thing', 3053), ('nippon', 3054), ('states', 3055), ('pushy', 3056), ('summer', 3057), ('youssef', 3058), ('declared', 3059), ('end', 3060), ('neighboursif', 3061), ('german', 3062), ('predicted', 3063), ('old', 3064), ('minimum', 3065), ('keep', 3066), ('performer', 3067), ('arrived', 3068), ('workouts', 3069), ('timely', 3070), ('admit', 3071), ('opposition', 3072), ('curveball', 3073), ('2020', 3074), ('thus', 3075), ('grooves', 3076), ('doing', 3077), ('austria', 3078), ('many', 3079), ('haul', 3080), ('shellshocked', 3081), ('munich', 3082), ('routed', 3083), ('camera', 3084), ('53', 3085), ('go', 3086), ('day', 3087), ('uncommon', 3088), ('midfield', 3089), ('relishing', 3090), ('japan', 3091), ('couldnt', 3092), ('k9', 3093), ('phillies', 3094), ('knows', 3095), ('bender', 3096), ('iraq', 3097), ('bad', 3098), ('connects', 3099), ('say', 3100), ('joking', 3101), ('required', 3102), ('comfortable', 3103), ('minor', 3104), ('blasts', 3105), ('volume', 3106), ('opening', 3107), ('incheon', 3108), ('g', 3109), ('professional', 3110), ('17', 3111), ('achieve', 3112), ('line', 3113), ('firstyear', 3114), ('body', 3115), ('sit', 3116), ('guys', 3117), ('90th3', 3118), ('grosskreutz', 3119), ('berlin', 3120), ('khalil', 3121), ('pitch', 3122), ('staff', 3123), ('extremely', 3124), ('leave', 3125), ('familiar', 3126), ('aware', 3127), ('hasnt', 3128), ('charge', 3129), ('poor', 3130), ('get', 3131), ('association', 3132), ('exercise', 3133), ('medical', 3134), ('lars', 3135), ('upset', 3136), ('repair', 3137), ('monday', 3138), ('stints', 3139), ('32', 3140), ('statcast', 3141), ('and', 3142), ('enable', 3143), ('fired', 3144), ('pm', 3145), ('already', 3146), ('dallas', 3147), ('giants', 3148), ('careerhigh', 3149), ('versatile', 3150), ('usa', 3151), ('live', 3152), ('kevin', 3153), ('extremevelocity', 3154), ('status', 3155), ('left', 3156), ('3', 3157), ('sixth', 3158), ('concrete', 3159), ('action', 3160), ('interpreter', 3161), ('talent', 3162), ('workout', 3163), ('aboard', 3164), ('competition', 3165), ('eight', 3166), ('twolegged', 3167), ('pitches', 3168), ('georg', 3169), ('fend', 3170), ('admirable', 3171), ('brian', 3172), ('boston', 3173), ('attackminded', 3174), ('jiman', 3175), ('2017', 3176), ('suspicions', 3177), ('zone', 3178), ('midaugust', 3179), ('boot', 3180), ('year', 3181), ('resigning', 3182), ('senior', 3183), ('homestand', 3184), ('agency', 3185), ('moment', 3186), ('fair', 3187), ('positions', 3188), ('curious', 3189), ('bvb', 3190), ('httpwwwderwestendesportfussballbvbbvbmussvorerstaufaussenverteidigerjoohoparkverzichtenid11761175htmlplx1956768657', 3191), ('germanys', 3192), ('prosecution', 3193), ('praising', 3194), ('drilled', 3195), ('bids', 3196), ('mentality', 3197), ('gets', 3198), ('embarrassing', 3199), ('works', 3200), ('settle', 3201), ('loud', 3202), ('sport', 3203), ('wednesday', 3204), ('marathon', 3205), ('gotten', 3206), ('zhang', 3207), ('obviously', 3208), ('patrol', 3209), ('bangkok', 3210), ('highranked', 3211), ('rightward', 3212), ('organization', 3213), ('though', 3214), ('tommy', 3215), ('struggling', 3216), ('tally', 3217), ('therefore', 3218), ('sitting', 3219), ('simple', 3220), ('hitless', 3221), ('bet', 3222), ('flow', 3223), ('standout', 3224), ('south', 3225), ('recording', 3226), ('fortnight', 3227), ('bigger', 3228), ('anywhere', 3229), ('34th', 3230), ('28', 3231), ('bringing', 3232), ('certainly', 3233), ('partner', 3234), ('hard', 3235), ('cent', 3236), ('terms', 3237), ('currently', 3238), ('englishbased', 3239), ('48', 3240), ('watchers', 3241), ('disingenuous', 3242), ('expect', 3243), ('282', 3244), ('feeling', 3245), ('notion', 3246), ('shining', 3247), ('35pitch', 3248), ('options', 3249), ('sparked', 3250), ('possible', 3251), ('sidelined', 3252), ('busiest', 3253), ('keeps', 3254), ('allen', 3255), ('kis', 3256), ('importance', 3257), ('inning', 3258), ('diminished', 3259), ('raising', 3260), ('class', 3261), ('whos', 3262), ('position', 3263), ('march', 3264), ('mostly', 3265), ('midseason', 3266), ('main', 3267), ('manofthematch', 3268), ('police', 3269), ('cardiff', 3270), ('try', 3271), ('believe', 3272), ('handled', 3273), ('youve', 3274), ('trouble', 3275), ('lowest', 3276), ('classic', 3277), ('opportunity', 3278), ('fact', 3279), ('seasons', 3280), ('averaging', 3281), ('manchester', 3282), ('201415', 3283), ('338', 3284), ('strategy', 3285), ('joining', 3286), ('dramatic', 3287), ('returned', 3288), ('njie', 3289), ('saints', 3290), ('shocking', 3291), ('talks', 3292), ('yankees', 3293), ('offensechallenged', 3294), ('calibre', 3295), ('twoout', 3296), ('koos', 3297), ('choices', 3298), ('bettered', 3299), ('elected', 3300), ('parks', 3301), ('meanwhile', 3302), ('hubert', 3303), ('davis', 3304), ('utilised', 3305), ('nacer', 3306), ('specimen', 3307), ('sittng', 3308), ('33yearold', 3309), ('rights', 3310), ('renew', 3311), ('reasons', 3312), ('usually', 3313), ('improved', 3314), ('back', 3315), ('martin', 3316), ('allbut', 3317), ('28yearold', 3318), ('heading', 3319), ('quarters', 3320), ('posted', 3321), ('fellow', 3322), ('stages', 3323), ('full', 3324), ('smith', 3325), ('barely', 3326), ('listed', 3327), ('replied', 3328), ('shuffle', 3329), ('33', 3330), ('saved', 3331), ('alexander', 3332), ('department', 3333), ('surprise', 3334), ('practice', 3335), ('wristbands', 3336), ('approval', 3337), ('host', 3338), ('strugglers', 3339), ('alderweireld', 3340), ('presence', 3341), ('clayton', 3342), ('1408', 3343), ('tonight', 3344), ('crowded', 3345), ('way', 3346), ('swings', 3347), ('italians', 3348), ('13th', 3349), ('muangthong', 3350), ('broadcasters', 3351), ('let', 3352), ('watched', 3353), ('qualifying', 3354), ('twotime', 3355), ('improvement', 3356), ('352', 3357), ('uae', 3358), ('footballers', 3359), ('moves', 3360), ('clashes', 3361), ('setup', 3362), ('meet', 3363), ('performances', 3364), ('youre', 3365), ('rise', 3366), ('night', 3367), ('alan', 3368), ('mozeliak', 3369), ('lefties', 3370), ('han', 3371), ('incredible', 3372), ('correspondingly', 3373), ('irishmans', 3374), ('mohamad', 3375), ('ambitions', 3376), ('koo', 3377), ('defensive', 3378), ('conclude', 3379), ('local', 3380), ('single', 3381), ('2104', 3382), ('calendar', 3383), ('attacker', 3384), ('66th', 3385), ('lively', 3386), ('forecast', 3387), ('shoulder', 3388), ('squad', 3389), ('jump', 3390), ('counts', 3391), ('sanos', 3392), ('stop', 3393), ('baltimore', 3394), ('httpwwwsouthwaleseveningpostcoukkisungyuengswanseacityfoldgarrymonkstory27818980detailstoryhtmlbwbae7sp3edodb5199', 3395), ('serious', 3396), ('batter', 3397), ('assistance', 3398), ('fizzed', 3399), ('33000', 3400), ('place', 3401), ('fatigue', 3402), ('keuchel', 3403), ('based', 3404), ('game', 3405), ('32nd', 3406), ('bate', 3407), ('respectivelyso', 3408), ('mediocre', 3409), ('holes', 3410), ('gradually', 3411), ('pictwittercomc8cb0ohnni', 3412), ('nights', 3413), ('interjection', 3414), ('399', 3415), ('104', 3416), ('injuries', 3417), ('twohit', 3418), ('dijk', 3419), ('saudi', 3420), ('ohs', 3421), ('task', 3422), ('allstar', 3423), ('streak', 3424), ('eagles', 3425), ('nobearing', 3426), ('fee', 3427), ('equal', 3428), ('european', 3429), ('fk', 3430), ('expensive', 3431), ('asked', 3432), ('certain', 3433), ('drawn', 3434), ('delivered', 3435), ('barbershop', 3436), ('rosy', 3437), ('ali', 3438), ('ventilator', 3439), ('halftime', 3440), ('need', 3441), ('sole', 3442), ('uptop', 3443), ('handle', 3444), ('robertsons', 3445), ('russians', 3446), ('better', 3447), ('undisclosed', 3448), ('speed', 3449), ('likes', 3450), ('stripling', 3451), ('lee', 3452), ('justin', 3453), ('groups', 3454), ('pass', 3455), ('mousa', 3456), ('498', 3457), ('wes', 3458), ('allowed', 3459), ('offensive', 3460), ('feelings', 3461), ('kanethe', 3462), ('surely', 3463), ('cy', 3464), ('soccerway', 3465), ('transition', 3466), ('bluewings', 3467), ('agent', 3468), ('apt', 3469), ('comment', 3470), ('fourseamer', 3471), ('forwardthe', 3472), ('bryce', 3473), ('lastminute', 3474), ('timed', 3475), ('held', 3476), ('award', 3477), ('eaff', 3478), ('sungyueng', 3479), ('penultimate', 3480), ('nobody', 3481), ('diving', 3482), ('enjoying', 3483), ('starters', 3484), ('westphalian', 3485), ('nam', 3486), ('facing', 3487), ('strings', 3488), ('sept', 3489), ('characterised', 3490), ('mntwins', 3491), ('signee', 3492), ('injury', 3493), ('suggests', 3494), ('awe', 3495), ('guangzhou', 3496), ('mend', 3497), ('thoroughly', 3498), ('contact', 3499), ('downgrading', 3500), ('pack', 3501), ('kieran', 3502), ('rarely', 3503), ('if', 3504), ('flyout', 3505), ('41350', 3506), ('stefan', 3507), ('recover', 3508), ('astros', 3509), ('ideal', 3510), ('your', 3511), ('million', 3512), ('35yearold', 3513), ('81st', 3514), ('fascinating', 3515), ('dismal', 3516), ('lengthy', 3517), ('sessions', 3518), ('seunghwan', 3519), ('started', 3520), ('block', 3521), ('lumpur', 3522), ('up', 3523), ('wood', 3524), ('tributes', 3525), ('doctor', 3526), ('septembers', 3527), ('pavel', 3528), ('earned', 3529), ('have', 3530), ('paid', 3531), ('behind', 3532), ('1980', 3533), ('overall', 3534), ('aaa', 3535), ('happy', 3536), ('holds', 3537), ('us', 3538), ('sooner', 3539), ('centreback', 3540), ('voted', 3541), ('necessarily', 3542), ('sloppier', 3543), ('analyst', 3544), ('ninth', 3545), ('regional', 3546), ('tottenham', 3547), ('russian', 3548), ('696', 3549), ('potentially', 3550), ('than', 3551), ('view', 3552), ('2324', 3553), ('secretary', 3554), ('koreans', 3555), ('usual', 3556), ('touch', 3557), ('sonaldo', 3558), ('trippier', 3559), ('jermaine', 3560), ('revenge', 3561), ('camelback', 3562), ('wonder', 3563), ('entertain', 3564), ('myanmar', 3565), ('subsequent', 3566), ('imagination', 3567), ('dealing', 3568), ('strikeouts', 3569), ('punch', 3570), ('fill', 3571), ('translate', 3572), ('kuwait', 3573), ('attacking', 3574), ('25man', 3575), ('typical', 3576), ('break', 3577), ('energy', 3578), ('belarus', 3579), ('reveals', 3580), ('id', 3581), ('surgery', 3582), ('bothering', 3583), ('tournaments', 3584), ('missed', 3585), ('stingy', 3586), ('2for21', 3587), ('undergoing', 3588), ('backoff', 3589), ('ahead', 3590), ('low', 3591), ('luxury', 3592), ('followed', 3593), ('obp', 3594), ('marcel', 3595), ('lay', 3596), ('sizeable', 3597), ('failure', 3598), ('prize', 3599), ('16th', 3600), ('luke', 3601), ('crystal', 3602), ('someone', 3603), ('claudio', 3604), ('ride', 3605), ('world', 3606), ('hardworking', 3607), ('1939', 3608), ('trent', 3609), ('major', 3610), ('hoffenheim', 3611), ('milestone', 3612), ('joo', 3613), ('argue', 3614), ('president', 3615), ('88', 3616), ('weve', 3617), ('comes', 3618), ('percent', 3619), ('wearing', 3620), ('04', 3621), ('forster', 3622), ('hosts', 3623), ('realize', 3624), ('statistics', 3625), ('11', 3626), ('big', 3627), ('campbell', 3628), ('positive', 3629), ('central', 3630), ('discipline', 3631), ('sano', 3632), ('newest', 3633), ('off', 3634), ('dream', 3635), ('check', 3636), ('la', 3637), ('fascination', 3638), ('chicago', 3639), ('hinted', 3640), ('talents', 3641), ('26th', 3642), ('running', 3643), ('74', 3644), ('mariner', 3645), ('performed', 3646), ('baseball', 3647), ('wonderful', 3648), ('july', 3649), ('season', 3650), ('daily', 3651), ('al', 3652), ('press', 3653), ('pointers', 3654), ('is', 3655), ('intrigue', 3656), ('athletes', 3657), ('watch', 3658), ('whose', 3659), ('things', 3660), ('prefers', 3661), ('marker', 3662), ('httpwwwsunderlandechocomsportfootballsunderlandafcswanseawintheperfecttonicforwearysunderland17675917ixzz48qs2ogwh', 3663), ('school', 3664), ('fashion', 3665), ('encouraging', 3666), ('hens', 3667), ('multiply', 3668), ('paper', 3669), ('crownnasser', 3670), ('call', 3671), ('faster', 3672), ('notably', 3673), ('regardless', 3674), ('clash', 3675), ('future', 3676), ('indecisiveness', 3677), ('compromise', 3678), ('rue', 3679), ('ball', 3680), ('pain', 3681), ('appreciate', 3682), ('bosses', 3683), ('gonzalez', 3684), ('mostthis', 3685), ('both', 3686), ('complete', 3687), ('celebration', 3688), ('labrum', 3689), ('107', 3690), ('operation', 3691), ('arise', 3692), ('progression', 3693), ('cincinnati', 3694), ('scott', 3695), ('calmness', 3696), ('statements', 3697), ('pounds', 3698), ('direct', 3699), ('shortly', 3700), ('disciplined', 3701), ('84mph', 3702), ('weekends', 3703), ('too', 3704), ('thirdplace', 3705), ('combat', 3706), ('ryan', 3707), ('boxing', 3708), ('maintain', 3709), ('crime', 3710), ('clubhouse', 3711), ('drive', 3712), ('offense', 3713), ('deadline', 3714), ('205', 3715), ('guidolins', 3716), ('fa', 3717), ('foreigners', 3718), ('okay', 3719), ('stoppage', 3720), ('can', 3721), ('count', 3722), ('68th', 3723), ('era', 3724), ('managers', 3725), ('meaning', 3726), ('citys', 3727), ('dinner', 3728), ('tylor', 3729), ('characterized', 3730), ('shinji', 3731), ('width', 3732), ('44th', 3733), ('detailed', 3734), ('worry', 3735), ('being', 3736), ('expects', 3737), ('platoon', 3738), ('multiple', 3739), ('capturing', 3740), ('element', 3741), ('benjamin', 3742), ('busy', 3743), ('defined', 3744), ('attributed', 3745), ('cubs', 3746), ('casinos', 3747), ('belgians', 3748), ('platform', 3749), ('leapfrogging', 3750), ('since', 3751), ('lamented', 3752), ('contacted', 3753), ('arrives', 3754), ('impossible', 3755), ('see', 3756), ('above', 3757), ('sites', 3758), ('warriors', 3759), ('worked', 3760), ('harper', 3761), ('asia', 3762), ('mercurial', 3763), ('fun', 3764), ('250pound', 3765), ('favorably', 3766), ('advantage', 3767), ('concentrate', 3768), ('opposing', 3769), ('summons', 3770), ('trip', 3771), ('predict', 3772), ('borussias', 3773), ('184', 3774), ('gap', 3775), ('simulated', 3776), ('tsao', 3777), ('fiorentina', 3778), ('fatal', 3779), ('kawin', 3780), ('seems', 3781), ('grabbing', 3782), ('1430', 3783), ('gio', 3784), ('overlooked', 3785), ('85', 3786), ('ranch', 3787), ('twice', 3788), ('tokyo', 3789), ('gauging', 3790), ('janeiro', 3791), ('people', 3792), ('rightly', 3793), ('asking', 3794), ('2009', 3795), ('city', 3796), ('determined', 3797), ('hit', 3798), ('closers', 3799), ('120', 3800), ('nelson', 3801), ('participate', 3802), ('2005', 3803), ('jesus', 3804), ('rally', 3805), ('responded', 3806), ('heaviest', 3807), ('either', 3808), ('42', 3809), ('slump', 3810), ('koreas', 3811), ('dominant', 3812), ('moved', 3813), ('goalscoring', 3814), ('take', 3815), ('2008', 3816), ('knew', 3817), ('aforementioned', 3818), ('table', 3819), ('66', 3820), ('wife', 3821), ('threegame', 3822), ('thought', 3823), ('short', 3824), ('transferring', 3825), ('rostov', 3826), ('chungyong', 3827), ('months', 3828), ('claimed', 3829), ('kbs', 3830), ('tibia', 3831), ('runnersup', 3832), ('geynrikh', 3833), ('testimony', 3834), ('34', 3835), ('greentown', 3836), ('relied', 3837), ('reliever', 3838), ('bafetimbi', 3839), ('sizzling', 3840), ('h', 3841), ('england', 3842), ('assess', 3843), ('ruled', 3844), ('lind', 3845), ('lunchtime', 3846), ('qarabag', 3847), ('john', 3848), ('champions', 3849), ('spectators', 3850), ('plan', 3851), ('it', 3852), ('arsene', 3853), ('43rd', 3854), ('defeat', 3855), ('create', 3856), ('predictably', 3857), ('rotated', 3858), ('spending', 3859), ('preparty', 3860), ('allimportant', 3861), ('weak', 3862), ('dean', 3863), ('lesson', 3864), ('suited', 3865), ('fourseam', 3866), ('ahseop', 3867), ('done', 3868), ('scoring', 3869), ('cup', 3870), ('goto', 3871), ('sanchez', 3872), ('whistle', 3873), ('bloated', 3874), ('cheol', 3875), ('laws', 3876), ('interview', 3877), ('1', 3878), ('at', 3879), ('quoted', 3880), ('14', 3881), ('dortmund', 3882), ('when', 3883), ('cuff', 3884), ('metrodome', 3885), ('ho', 3886), ('48thranked', 3887), ('previous', 3888), ('decided', 3889), ('teams', 3890), ('dipoto', 3891), ('particularly', 3892), ('sporting', 3893), ('otherwise', 3894), ('week', 3895), ('ability', 3896), ('kagawa', 3897), ('2022', 3898), ('investigate', 3899), ('friendlies', 3900), ('suggest', 3901), ('fighting', 3902), ('27th', 3903), ('share', 3904), ('antonio', 3905), ('29', 3906), ('40', 3907), ('clinton', 3908), ('osakabased', 3909), ('peter', 3910), ('koscielny', 3911), ('paired', 3912), ('c', 3913), ('mercedesbenzarena', 3914), ('coming', 3915), ('returns', 3916), ('instance', 3917), ('quipped', 3918), ('stream', 3919), ('282368524', 3920), ('damaged', 3921), ('quality', 3922), ('pose', 3923), ('commented', 3924), ('strongest', 3925), ('complained', 3926), ('resurgent', 3927), ('getting', 3928), ('scary', 3929), ('runs', 3930), ('allows', 3931), ('swallows', 3932), ('httpwwwsouthwaleseveningpostcoukswanseacitymidfielderkisungyuengwarystory28830025detailstoryhtmlixzz48qq8eoyl', 3933), ('underwent', 3934), ('8', 3935), ('iranian', 3936), ('surpriseas', 3937), ('perceived', 3938), ('alfreo', 3939), ('khazri', 3940), ('players', 3941), ('reds', 3942), ('still', 3943), ('rankings', 3944), ('79', 3945), ('snap', 3946), ('newcastle', 3947), ('authorities', 3948), ('sub', 3949), ('looked', 3950), ('tigers', 3951), ('discomfort', 3952), ('philadelphia', 3953), ('lane', 3954), ('lack', 3955), ('deserves', 3956), ('triple', 3957), ('spriranovic', 3958), ('singleton', 3959), ('vital', 3960), ('landing', 3961), ('roster', 3962), ('implicated', 3963), ('wellpositioned', 3964), ('term', 3965), ('144', 3966), ('albion', 3967), ('enjoyed', 3968), ('awards', 3969), ('56', 3970), ('shaping', 3971), ('measured', 3972), ('outside', 3973), ('continent', 3974), ('backline', 3975), ('withdrawn', 3976), ('suspension', 3977), ('finnbogason', 3978), ('balls', 3979), ('kfa', 3980), ('630', 3981), ('fortyfour', 3982), ('aid', 3983), ('celebrated', 3984), ('classy', 3985), ('feared', 3986), ('warned', 3987), ('oneonone', 3988), ('hitting', 3989), ('format', 3990), ('309', 3991), ('gambling', 3992), ('rightcenter', 3993), ('arguably', 3994), ('weigl', 3995), ('designated', 3996), ('confidence', 3997), ('easily', 3998), ('suzuki', 3999), ('toiling', 4000), ('mini', 4001), ('counter', 4002), ('morgan', 4003), ('wished', 4004), ('bushyhaired', 4005), ('extend', 4006), ('gm', 4007), ('very', 4008), ('less', 4009), ('completing', 4010), ('156', 4011), ('kickoff', 4012), ('13', 4013), ('152', 4014), ('similar', 4015), ('sturdy', 4016), ('unenviable', 4017), ('170', 4018), ('we', 4019), ('lost', 4020), ('blaze', 4021), ('washington', 4022), ('timo', 4023), ('target', 4024)])\n"
     ]
    }
   ],
   "source": [
    "# --------------------------------------------------corpus 에서 3852 번째 단어가 무엇인지 확인\n",
    "print(corpus) #3852번째 단어가 'it' 인걸 확인 "
   ]
  },
  {
   "cell_type": "code",
   "execution_count": 13,
   "metadata": {},
   "outputs": [],
   "source": [
    "# 비교하기 위해서 Cosine Similarity 함수 정의\n",
    "import math \n",
    "def get_cosine_similarity(v1,v2):\n",
    "    \"compute cosine similarity of v1 to v2 : (v1 dot v2)/{||v1||*||v2||}\"\n",
    "    sumxx,sumxy,sumyy = 0,0,0\n",
    "    for i in range(len(v1)):\n",
    "        x = v1[i]; y= v2[i]\n",
    "        sumxx += x*x\n",
    "        sumxy += y*y\n",
    "        sumyy += x*y\n",
    "    return sumxy/math.sqrt(sumxx*sumyy)"
   ]
  },
  {
   "cell_type": "code",
   "execution_count": 14,
   "metadata": {},
   "outputs": [],
   "source": [
    "def get_similarity_score(x_vector, source):\n",
    "    source_vector = x_vector[source] # 80 by 4025 에서 source 값 만큼 인덱싱해서 비교\n",
    "    similarity_list = []\n",
    "    for target_vector in x_vector:\n",
    "        similarity_list.append(\n",
    "            get_cosine_similarity(source_vector, target_vector))\n",
    "    return similarity_list"
   ]
  },
  {
   "cell_type": "code",
   "execution_count": 15,
   "metadata": {},
   "outputs": [],
   "source": [
    "def get_top_n_similarity_news(similarity_score, n):\n",
    "    import operator\n",
    "    x = {i:v for i, v in enumerate(similarity_score)}\n",
    "    sorted_x = sorted(x.items(), key=operator.itemgetter(1))\n",
    "\n",
    "    return list(reversed(sorted_x))[1:n+1]"
   ]
  },
  {
   "cell_type": "code",
   "execution_count": 16,
   "metadata": {},
   "outputs": [],
   "source": [
    "def get_accuracy(similarity_list, y_class, source_news):\n",
    "    source_class = y_class[source_news]\n",
    "\n",
    "    return sum([source_class == y_class[i[0]] for i in similarity_list]) / len(similarity_list)"
   ]
  },
  {
   "cell_type": "code",
   "execution_count": 17,
   "metadata": {},
   "outputs": [
    {
     "name": "stdout",
     "output_type": "stream",
     "text": [
      "Number of words : 4025\n",
      "0.49749999999999994\n"
     ]
    }
   ],
   "source": [
    "# NEWS Categorization\n",
    "if __name__ == \"__main__\":\n",
    "    dir_name = \"news_data\"\n",
    "    file_list = get_file_list(dir_name)\n",
    "    file_list = [os.path.join(dir_name,file_name) for file_name in file_list] # 파일경로를 join을 통해 정확하게 설정\n",
    "    #print(file_list)\n",
    "    x_text,y_class =get_conetents(file_list)\n",
    "    #print(x_text) , print(y_class)\n",
    "    corpus = get_corpus_dict(x_text)\n",
    "    #print(corpus) #단어 두개 이하는 제거하는 경우가 대부분이지만 여기서는 Skip\n",
    "    print(\"Number of words : {0}\".format(len(corpus)))  # 정제된 corpus_dict 에서 단어의 개수를 확인\n",
    "    \n",
    "    x_vector = get_count_vector(x_text,corpus)\n",
    "    #print(x_vector[0])\n",
    "    \n",
    "    source_number = 10  #10개의 문서를 뽑아가지고 문서들간에 비교 \n",
    "    \n",
    "    result=[]\n",
    "    \n",
    "    for i in range(80):\n",
    "        source_number = i\n",
    "        \n",
    "        similarity_score = get_similarity_score(x_vector,source_number)\n",
    "        similarity_news = get_top_n_similarity_news(similarity_score,10)\n",
    "        accuracy_score = get_accuracy(similarity_news, y_class, source_number)\n",
    "        result.append(accuracy_score)\n",
    "    print(sum(result) / 80)"
   ]
  },
  {
   "cell_type": "code",
   "execution_count": 23,
   "metadata": {},
   "outputs": [
    {
     "data": {
      "text/plain": [
       "array([[0, 1, 1, 1, 0, 0, 1, 0, 1],\n",
       "       [0, 1, 0, 1, 0, 2, 1, 0, 1],\n",
       "       [1, 0, 0, 0, 1, 0, 1, 1, 0],\n",
       "       [0, 1, 1, 1, 0, 0, 1, 0, 1]], dtype=int64)"
      ]
     },
     "execution_count": 23,
     "metadata": {},
     "output_type": "execute_result"
    }
   ],
   "source": [
    "#--------------------------------------------------------- News Categorization 을 sklearn을 사용해서 간단하게 하기\n",
    "from sklearn.feature_extraction.text import CountVectorizer \n",
    "\n",
    "vectorizer = CountVectorizer()\n",
    "corpus = [ #문서\n",
    "    'This is the first document.',\n",
    "    'This is the second second document.',\n",
    "    'And the third one.',\n",
    "    'Is this the first document?',\n",
    "]\n",
    "\n",
    "X = vectorizer.fit_transform(corpus)\n",
    "X.toarray()"
   ]
  },
  {
   "cell_type": "code",
   "execution_count": 24,
   "metadata": {},
   "outputs": [
    {
     "data": {
      "text/plain": [
       "['and', 'document', 'first', 'is', 'one', 'second', 'the', 'third', 'this']"
      ]
     },
     "execution_count": 24,
     "metadata": {},
     "output_type": "execute_result"
    }
   ],
   "source": [
    "vectorizer.get_feature_names() #위의 결과값에서 and라고 시작하는 문서가 3번째 문서가 밖에 없고 count 돼서 1이 되어있는걸 확인할 수 있음 "
   ]
  },
  {
   "cell_type": "code",
   "execution_count": null,
   "metadata": {},
   "outputs": [],
   "source": []
  }
 ],
 "metadata": {
  "kernelspec": {
   "display_name": "Python 3",
   "language": "python",
   "name": "python3"
  },
  "language_info": {
   "codemirror_mode": {
    "name": "ipython",
    "version": 3
   },
   "file_extension": ".py",
   "mimetype": "text/x-python",
   "name": "python",
   "nbconvert_exporter": "python",
   "pygments_lexer": "ipython3",
   "version": "3.6.5"
  }
 },
 "nbformat": 4,
 "nbformat_minor": 2
}
